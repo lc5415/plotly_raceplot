{
  "cells": [
    {
      "cell_type": "code",
      "execution_count": 1,
      "metadata": {
        "id": "VkzP7wJtFPYW"
      },
      "outputs": [],
      "source": [
        "import pandas as pd\n",
        "from raceplotly.plots import barplot"
      ]
    },
    {
      "cell_type": "code",
      "execution_count": 2,
      "metadata": {
        "id": "C7ecLj1AFTCe"
      },
      "outputs": [],
      "source": [
        "data = pd.read_csv(\n",
        "    \"https://raw.githubusercontent.com/lc5415/raceplotly/main/example/dataset/FAOSTAT_data.csv\"\n",
        ")"
      ]
    },
    {
      "cell_type": "code",
      "execution_count": 3,
      "metadata": {
        "colab": {
          "base_uri": "https://localhost:8080/",
          "height": 542
        },
        "id": "YFLmgBFSFVyQ",
        "outputId": "df6e080d-9ae7-4215-ffd0-8bbd7e111636"
      },
      "outputs": [
        {
          "ename": "ValueError",
          "evalue": "Mime type rendering requires nbformat>=4.2.0 but it is not installed",
          "output_type": "error",
          "traceback": [
            "\u001b[0;31m---------------------------------------------------------------------------\u001b[0m",
            "\u001b[0;31mValueError\u001b[0m                                Traceback (most recent call last)",
            "File \u001b[0;32m~/Projects/raceplotly/venv/lib/python3.10/site-packages/IPython/core/formatters.py:920\u001b[0m, in \u001b[0;36mIPythonDisplayFormatter.__call__\u001b[0;34m(self, obj)\u001b[0m\n\u001b[1;32m    918\u001b[0m method \u001b[39m=\u001b[39m get_real_method(obj, \u001b[39mself\u001b[39m\u001b[39m.\u001b[39mprint_method)\n\u001b[1;32m    919\u001b[0m \u001b[39mif\u001b[39;00m method \u001b[39mis\u001b[39;00m \u001b[39mnot\u001b[39;00m \u001b[39mNone\u001b[39;00m:\n\u001b[0;32m--> 920\u001b[0m     method()\n\u001b[1;32m    921\u001b[0m     \u001b[39mreturn\u001b[39;00m \u001b[39mTrue\u001b[39;00m\n",
            "File \u001b[0;32m~/Projects/raceplotly/venv/lib/python3.10/site-packages/plotly/basedatatypes.py:842\u001b[0m, in \u001b[0;36mBaseFigure._ipython_display_\u001b[0;34m(self)\u001b[0m\n\u001b[1;32m    839\u001b[0m \u001b[39mimport\u001b[39;00m \u001b[39mplotly\u001b[39;00m\u001b[39m.\u001b[39;00m\u001b[39mio\u001b[39;00m \u001b[39mas\u001b[39;00m \u001b[39mpio\u001b[39;00m\n\u001b[1;32m    841\u001b[0m \u001b[39mif\u001b[39;00m pio\u001b[39m.\u001b[39mrenderers\u001b[39m.\u001b[39mrender_on_display \u001b[39mand\u001b[39;00m pio\u001b[39m.\u001b[39mrenderers\u001b[39m.\u001b[39mdefault:\n\u001b[0;32m--> 842\u001b[0m     pio\u001b[39m.\u001b[39;49mshow(\u001b[39mself\u001b[39;49m)\n\u001b[1;32m    843\u001b[0m \u001b[39melse\u001b[39;00m:\n\u001b[1;32m    844\u001b[0m     \u001b[39mprint\u001b[39m(\u001b[39mrepr\u001b[39m(\u001b[39mself\u001b[39m))\n",
            "File \u001b[0;32m~/Projects/raceplotly/venv/lib/python3.10/site-packages/plotly/io/_renderers.py:396\u001b[0m, in \u001b[0;36mshow\u001b[0;34m(fig, renderer, validate, **kwargs)\u001b[0m\n\u001b[1;32m    391\u001b[0m         \u001b[39mraise\u001b[39;00m \u001b[39mValueError\u001b[39;00m(\n\u001b[1;32m    392\u001b[0m             \u001b[39m\"\u001b[39m\u001b[39mMime type rendering requires ipython but it is not installed\u001b[39m\u001b[39m\"\u001b[39m\n\u001b[1;32m    393\u001b[0m         )\n\u001b[1;32m    395\u001b[0m     \u001b[39mif\u001b[39;00m \u001b[39mnot\u001b[39;00m nbformat \u001b[39mor\u001b[39;00m LooseVersion(nbformat\u001b[39m.\u001b[39m__version__) \u001b[39m<\u001b[39m LooseVersion(\u001b[39m\"\u001b[39m\u001b[39m4.2.0\u001b[39m\u001b[39m\"\u001b[39m):\n\u001b[0;32m--> 396\u001b[0m         \u001b[39mraise\u001b[39;00m \u001b[39mValueError\u001b[39;00m(\n\u001b[1;32m    397\u001b[0m             \u001b[39m\"\u001b[39m\u001b[39mMime type rendering requires nbformat>=4.2.0 but it is not installed\u001b[39m\u001b[39m\"\u001b[39m\n\u001b[1;32m    398\u001b[0m         )\n\u001b[1;32m    400\u001b[0m     ipython_display\u001b[39m.\u001b[39mdisplay(bundle, raw\u001b[39m=\u001b[39m\u001b[39mTrue\u001b[39;00m)\n\u001b[1;32m    402\u001b[0m \u001b[39m# external renderers\u001b[39;00m\n",
            "\u001b[0;31mValueError\u001b[0m: Mime type rendering requires nbformat>=4.2.0 but it is not installed"
          ]
        },
        {
          "data": {
            "application/vnd.plotly.v1+json": {
              "config": {
                "plotlyServerURL": "https://plot.ly"
              },
              "data": [
                {
                  "cliponaxis": false,
                  "hoverinfo": "all",
                  "marker": {
                    "color": [
                      "rgb(234, 127, 19)",
                      "rgb(31, 220, 223)",
                      "rgb(204, 223, 90)",
                      "rgb(88, 192, 172)",
                      "rgb(92, 171, 115)",
                      "rgb(49, 41, 74)",
                      "rgb(41, 160, 91)",
                      "rgb(135, 126, 225)",
                      "rgb(255, 148, 50)",
                      "rgb(106, 205, 53)"
                    ]
                  },
                  "orientation": "h",
                  "textangle": 0,
                  "textposition": "outside",
                  "texttemplate": "%{y}<br>%{x:.4s}",
                  "type": "bar",
                  "x": [
                    71259839,
                    72411104,
                    98192635,
                    143836304,
                    160501987,
                    205027583,
                    215646633,
                    222357231,
                    270552196,
                    447977522
                  ],
                  "y": [
                    "Cassava",
                    "Barley",
                    "Sweet potatoes",
                    "Rice, paddy (rice milled equivalent)",
                    "Sugar beet",
                    "Maize",
                    "Rice, paddy",
                    "Wheat",
                    "Potatoes",
                    "Sugar cane"
                  ]
                }
              ],
              "frames": [
                {
                  "data": [
                    {
                      "cliponaxis": false,
                      "hoverinfo": "all",
                      "hovertemplate": "<extra></extra>",
                      "marker": {
                        "color": [
                          "rgb(234, 127, 19)",
                          "rgb(31, 220, 223)",
                          "rgb(204, 223, 90)",
                          "rgb(88, 192, 172)",
                          "rgb(92, 171, 115)",
                          "rgb(49, 41, 74)",
                          "rgb(41, 160, 91)",
                          "rgb(135, 126, 225)",
                          "rgb(255, 148, 50)",
                          "rgb(106, 205, 53)"
                        ]
                      },
                      "orientation": "h",
                      "textangle": 0,
                      "textposition": "outside",
                      "texttemplate": "%{y}<br>%{x:.4s}",
                      "type": "bar",
                      "x": [
                        71259839,
                        72411104,
                        98192635,
                        143836304,
                        160501987,
                        205027583,
                        215646633,
                        222357231,
                        270552196,
                        447977522
                      ],
                      "y": [
                        "Cassava",
                        "Barley",
                        "Sweet potatoes",
                        "Rice, paddy (rice milled equivalent)",
                        "Sugar beet",
                        "Maize",
                        "Rice, paddy",
                        "Wheat",
                        "Potatoes",
                        "Sugar cane"
                      ]
                    }
                  ],
                  "layout": {
                    "bargap": 0.15,
                    "font": {
                      "size": 14
                    },
                    "plot_bgcolor": "#FFFFFF",
                    "xaxis": {
                      "range": [
                        0,
                        1907024730
                      ],
                      "showline": true,
                      "visible": true
                    },
                    "yaxis": {
                      "showline": false,
                      "visible": true
                    }
                  },
                  "name": "1961"
                },
                {
                  "data": [
                    {
                      "cliponaxis": false,
                      "hoverinfo": "all",
                      "hovertemplate": "<extra></extra>",
                      "marker": {
                        "color": [
                          "rgb(234, 127, 19)",
                          "rgb(31, 220, 223)",
                          "rgb(204, 223, 90)",
                          "rgb(92, 171, 115)",
                          "rgb(88, 192, 172)",
                          "rgb(49, 41, 74)",
                          "rgb(41, 160, 91)",
                          "rgb(135, 126, 225)",
                          "rgb(255, 148, 50)",
                          "rgb(106, 205, 53)"
                        ]
                      },
                      "orientation": "h",
                      "textangle": 0,
                      "textposition": "outside",
                      "texttemplate": "%{y}<br>%{x:.4s}",
                      "type": "bar",
                      "x": [
                        74636680,
                        88396959,
                        105291106,
                        149172711,
                        151046350,
                        204876937,
                        226456297,
                        250319146,
                        252987460,
                        436872640
                      ],
                      "y": [
                        "Cassava",
                        "Barley",
                        "Sweet potatoes",
                        "Sugar beet",
                        "Rice, paddy (rice milled equivalent)",
                        "Maize",
                        "Rice, paddy",
                        "Wheat",
                        "Potatoes",
                        "Sugar cane"
                      ]
                    }
                  ],
                  "layout": {
                    "bargap": 0.15,
                    "font": {
                      "size": 14
                    },
                    "plot_bgcolor": "#FFFFFF",
                    "xaxis": {
                      "range": [
                        0,
                        1907024730
                      ],
                      "showline": true,
                      "visible": true
                    },
                    "yaxis": {
                      "showline": false,
                      "visible": true
                    }
                  },
                  "name": "1962"
                },
                {
                  "data": [
                    {
                      "cliponaxis": false,
                      "hoverinfo": "all",
                      "hovertemplate": "<extra></extra>",
                      "marker": {
                        "color": [
                          "rgb(234, 127, 19)",
                          "rgb(31, 220, 223)",
                          "rgb(204, 223, 90)",
                          "rgb(88, 192, 172)",
                          "rgb(92, 171, 115)",
                          "rgb(49, 41, 74)",
                          "rgb(135, 126, 225)",
                          "rgb(41, 160, 91)",
                          "rgb(255, 148, 50)",
                          "rgb(106, 205, 53)"
                        ]
                      },
                      "orientation": "h",
                      "textangle": 0,
                      "textposition": "outside",
                      "texttemplate": "%{y}<br>%{x:.4s}",
                      "type": "bar",
                      "x": [
                        77975688,
                        90385850,
                        98009159,
                        164828514,
                        164975629,
                        220228333,
                        233339473,
                        247119211,
                        269982498,
                        439927902
                      ],
                      "y": [
                        "Cassava",
                        "Barley",
                        "Sweet potatoes",
                        "Rice, paddy (rice milled equivalent)",
                        "Sugar beet",
                        "Maize",
                        "Wheat",
                        "Rice, paddy",
                        "Potatoes",
                        "Sugar cane"
                      ]
                    }
                  ],
                  "layout": {
                    "bargap": 0.15,
                    "font": {
                      "size": 14
                    },
                    "plot_bgcolor": "#FFFFFF",
                    "xaxis": {
                      "range": [
                        0,
                        1907024730
                      ],
                      "showline": true,
                      "visible": true
                    },
                    "yaxis": {
                      "showline": false,
                      "visible": true
                    }
                  },
                  "name": "1963"
                },
                {
                  "data": [
                    {
                      "cliponaxis": false,
                      "hoverinfo": "all",
                      "hovertemplate": "<extra></extra>",
                      "marker": {
                        "color": [
                          "rgb(234, 127, 19)",
                          "rgb(204, 223, 90)",
                          "rgb(31, 220, 223)",
                          "rgb(88, 192, 172)",
                          "rgb(49, 41, 74)",
                          "rgb(92, 171, 115)",
                          "rgb(41, 160, 91)",
                          "rgb(135, 126, 225)",
                          "rgb(255, 148, 50)",
                          "rgb(106, 205, 53)"
                        ]
                      },
                      "orientation": "h",
                      "textangle": 0,
                      "textposition": "outside",
                      "texttemplate": "%{y}<br>%{x:.4s}",
                      "type": "bar",
                      "x": [
                        82429399,
                        93377412,
                        95524923,
                        175373614,
                        215172627,
                        216206931,
                        262928956,
                        268791657,
                        284678614,
                        480849768
                      ],
                      "y": [
                        "Cassava",
                        "Sweet potatoes",
                        "Barley",
                        "Rice, paddy (rice milled equivalent)",
                        "Maize",
                        "Sugar beet",
                        "Rice, paddy",
                        "Wheat",
                        "Potatoes",
                        "Sugar cane"
                      ]
                    }
                  ],
                  "layout": {
                    "bargap": 0.15,
                    "font": {
                      "size": 14
                    },
                    "plot_bgcolor": "#FFFFFF",
                    "xaxis": {
                      "range": [
                        0,
                        1907024730
                      ],
                      "showline": true,
                      "visible": true
                    },
                    "yaxis": {
                      "showline": false,
                      "visible": true
                    }
                  },
                  "name": "1964"
                },
                {
                  "data": [
                    {
                      "cliponaxis": false,
                      "hoverinfo": "all",
                      "hovertemplate": "<extra></extra>",
                      "marker": {
                        "color": [
                          "rgb(234, 127, 19)",
                          "rgb(31, 220, 223)",
                          "rgb(204, 223, 90)",
                          "rgb(88, 192, 172)",
                          "rgb(92, 171, 115)",
                          "rgb(49, 41, 74)",
                          "rgb(41, 160, 91)",
                          "rgb(135, 126, 225)",
                          "rgb(255, 148, 50)",
                          "rgb(106, 205, 53)"
                        ]
                      },
                      "orientation": "h",
                      "textangle": 0,
                      "textposition": "outside",
                      "texttemplate": "%{y}<br>%{x:.4s}",
                      "type": "bar",
                      "x": [
                        85582843,
                        92617012,
                        108377879,
                        169457796,
                        197376224,
                        226544256,
                        254059664,
                        263645963,
                        270913502,
                        531297486
                      ],
                      "y": [
                        "Cassava",
                        "Barley",
                        "Sweet potatoes",
                        "Rice, paddy (rice milled equivalent)",
                        "Sugar beet",
                        "Maize",
                        "Rice, paddy",
                        "Wheat",
                        "Potatoes",
                        "Sugar cane"
                      ]
                    }
                  ],
                  "layout": {
                    "bargap": 0.15,
                    "font": {
                      "size": 14
                    },
                    "plot_bgcolor": "#FFFFFF",
                    "xaxis": {
                      "range": [
                        0,
                        1907024730
                      ],
                      "showline": true,
                      "visible": true
                    },
                    "yaxis": {
                      "showline": false,
                      "visible": true
                    }
                  },
                  "name": "1965"
                },
                {
                  "data": [
                    {
                      "cliponaxis": false,
                      "hoverinfo": "all",
                      "hovertemplate": "<extra></extra>",
                      "marker": {
                        "color": [
                          "rgb(234, 127, 19)",
                          "rgb(31, 220, 223)",
                          "rgb(204, 223, 90)",
                          "rgb(88, 192, 172)",
                          "rgb(92, 171, 115)",
                          "rgb(49, 41, 74)",
                          "rgb(41, 160, 91)",
                          "rgb(255, 148, 50)",
                          "rgb(135, 126, 225)",
                          "rgb(106, 205, 53)"
                        ]
                      },
                      "orientation": "h",
                      "textangle": 0,
                      "textposition": "outside",
                      "texttemplate": "%{y}<br>%{x:.4s}",
                      "type": "bar",
                      "x": [
                        84718809,
                        100425696,
                        119686566,
                        174207899,
                        212270253,
                        245599160,
                        261181258,
                        281964109,
                        303785460,
                        531492823
                      ],
                      "y": [
                        "Cassava",
                        "Barley",
                        "Sweet potatoes",
                        "Rice, paddy (rice milled equivalent)",
                        "Sugar beet",
                        "Maize",
                        "Rice, paddy",
                        "Potatoes",
                        "Wheat",
                        "Sugar cane"
                      ]
                    }
                  ],
                  "layout": {
                    "bargap": 0.15,
                    "font": {
                      "size": 14
                    },
                    "plot_bgcolor": "#FFFFFF",
                    "xaxis": {
                      "range": [
                        0,
                        1907024730
                      ],
                      "showline": true,
                      "visible": true
                    },
                    "yaxis": {
                      "showline": false,
                      "visible": true
                    }
                  },
                  "name": "1966"
                },
                {
                  "data": [
                    {
                      "cliponaxis": false,
                      "hoverinfo": "all",
                      "hovertemplate": "<extra></extra>",
                      "marker": {
                        "color": [
                          "rgb(234, 127, 19)",
                          "rgb(31, 220, 223)",
                          "rgb(204, 223, 90)",
                          "rgb(88, 192, 172)",
                          "rgb(92, 171, 115)",
                          "rgb(49, 41, 74)",
                          "rgb(41, 160, 91)",
                          "rgb(135, 126, 225)",
                          "rgb(255, 148, 50)",
                          "rgb(106, 205, 53)"
                        ]
                      },
                      "orientation": "h",
                      "textangle": 0,
                      "textposition": "outside",
                      "texttemplate": "%{y}<br>%{x:.4s}",
                      "type": "bar",
                      "x": [
                        88630176,
                        103177495,
                        118614438,
                        185016704,
                        233455177,
                        272548473,
                        277386363,
                        294295876,
                        296220305,
                        518890895
                      ],
                      "y": [
                        "Cassava",
                        "Barley",
                        "Sweet potatoes",
                        "Rice, paddy (rice milled equivalent)",
                        "Sugar beet",
                        "Maize",
                        "Rice, paddy",
                        "Wheat",
                        "Potatoes",
                        "Sugar cane"
                      ]
                    }
                  ],
                  "layout": {
                    "bargap": 0.15,
                    "font": {
                      "size": 14
                    },
                    "plot_bgcolor": "#FFFFFF",
                    "xaxis": {
                      "range": [
                        0,
                        1907024730
                      ],
                      "showline": true,
                      "visible": true
                    },
                    "yaxis": {
                      "showline": false,
                      "visible": true
                    }
                  },
                  "name": "1967"
                },
                {
                  "data": [
                    {
                      "cliponaxis": false,
                      "hoverinfo": "all",
                      "hovertemplate": "<extra></extra>",
                      "marker": {
                        "color": [
                          "rgb(234, 127, 19)",
                          "rgb(31, 220, 223)",
                          "rgb(204, 223, 90)",
                          "rgb(88, 192, 172)",
                          "rgb(92, 171, 115)",
                          "rgb(49, 41, 74)",
                          "rgb(41, 160, 91)",
                          "rgb(255, 148, 50)",
                          "rgb(135, 126, 225)",
                          "rgb(106, 205, 53)"
                        ]
                      },
                      "orientation": "h",
                      "textangle": 0,
                      "textposition": "outside",
                      "texttemplate": "%{y}<br>%{x:.4s}",
                      "type": "bar",
                      "x": [
                        93090059,
                        113504505,
                        118097469,
                        192512413,
                        248856658,
                        255670551,
                        288624308,
                        303709120,
                        326843941,
                        506091880
                      ],
                      "y": [
                        "Cassava",
                        "Barley",
                        "Sweet potatoes",
                        "Rice, paddy (rice milled equivalent)",
                        "Sugar beet",
                        "Maize",
                        "Rice, paddy",
                        "Potatoes",
                        "Wheat",
                        "Sugar cane"
                      ]
                    }
                  ],
                  "layout": {
                    "bargap": 0.15,
                    "font": {
                      "size": 14
                    },
                    "plot_bgcolor": "#FFFFFF",
                    "xaxis": {
                      "range": [
                        0,
                        1907024730
                      ],
                      "showline": true,
                      "visible": true
                    },
                    "yaxis": {
                      "showline": false,
                      "visible": true
                    }
                  },
                  "name": "1968"
                },
                {
                  "data": [
                    {
                      "cliponaxis": false,
                      "hoverinfo": "all",
                      "hovertemplate": "<extra></extra>",
                      "marker": {
                        "color": [
                          "rgb(234, 127, 19)",
                          "rgb(31, 220, 223)",
                          "rgb(204, 223, 90)",
                          "rgb(88, 192, 172)",
                          "rgb(92, 171, 115)",
                          "rgb(49, 41, 74)",
                          "rgb(255, 148, 50)",
                          "rgb(41, 160, 91)",
                          "rgb(135, 126, 225)",
                          "rgb(106, 205, 53)"
                        ]
                      },
                      "orientation": "h",
                      "textangle": 0,
                      "textposition": "outside",
                      "texttemplate": "%{y}<br>%{x:.4s}",
                      "type": "bar",
                      "x": [
                        95325330,
                        118006371,
                        126160704,
                        197154789,
                        216920772,
                        269506068,
                        278475710,
                        295584391,
                        308640283,
                        538255737
                      ],
                      "y": [
                        "Cassava",
                        "Barley",
                        "Sweet potatoes",
                        "Rice, paddy (rice milled equivalent)",
                        "Sugar beet",
                        "Maize",
                        "Potatoes",
                        "Rice, paddy",
                        "Wheat",
                        "Sugar cane"
                      ]
                    }
                  ],
                  "layout": {
                    "bargap": 0.15,
                    "font": {
                      "size": 14
                    },
                    "plot_bgcolor": "#FFFFFF",
                    "xaxis": {
                      "range": [
                        0,
                        1907024730
                      ],
                      "showline": true,
                      "visible": true
                    },
                    "yaxis": {
                      "showline": false,
                      "visible": true
                    }
                  },
                  "name": "1969"
                },
                {
                  "data": [
                    {
                      "cliponaxis": false,
                      "hoverinfo": "all",
                      "hovertemplate": "<extra></extra>",
                      "marker": {
                        "color": [
                          "rgb(234, 127, 19)",
                          "rgb(31, 220, 223)",
                          "rgb(204, 223, 90)",
                          "rgb(88, 192, 172)",
                          "rgb(92, 171, 115)",
                          "rgb(49, 41, 74)",
                          "rgb(255, 148, 50)",
                          "rgb(135, 126, 225)",
                          "rgb(41, 160, 91)",
                          "rgb(106, 205, 53)"
                        ]
                      },
                      "orientation": "h",
                      "textangle": 0,
                      "textposition": "outside",
                      "texttemplate": "%{y}<br>%{x:.4s}",
                      "type": "bar",
                      "x": [
                        98589699,
                        119378695,
                        136507488,
                        211002584,
                        224251952,
                        265831145,
                        298048017,
                        310740954,
                        316345703,
                        608616105
                      ],
                      "y": [
                        "Cassava",
                        "Barley",
                        "Sweet potatoes",
                        "Rice, paddy (rice milled equivalent)",
                        "Sugar beet",
                        "Maize",
                        "Potatoes",
                        "Wheat",
                        "Rice, paddy",
                        "Sugar cane"
                      ]
                    }
                  ],
                  "layout": {
                    "bargap": 0.15,
                    "font": {
                      "size": 14
                    },
                    "plot_bgcolor": "#FFFFFF",
                    "xaxis": {
                      "range": [
                        0,
                        1907024730
                      ],
                      "showline": true,
                      "visible": true
                    },
                    "yaxis": {
                      "showline": false,
                      "visible": true
                    }
                  },
                  "name": "1970"
                },
                {
                  "data": [
                    {
                      "cliponaxis": false,
                      "hoverinfo": "all",
                      "hovertemplate": "<extra></extra>",
                      "marker": {
                        "color": [
                          "rgb(234, 127, 19)",
                          "rgb(204, 223, 90)",
                          "rgb(31, 220, 223)",
                          "rgb(88, 192, 172)",
                          "rgb(92, 171, 115)",
                          "rgb(255, 148, 50)",
                          "rgb(49, 41, 74)",
                          "rgb(41, 160, 91)",
                          "rgb(135, 126, 225)",
                          "rgb(106, 205, 53)"
                        ]
                      },
                      "orientation": "h",
                      "textangle": 0,
                      "textposition": "outside",
                      "texttemplate": "%{y}<br>%{x:.4s}",
                      "type": "bar",
                      "x": [
                        98756434,
                        127252781,
                        131237044,
                        211914188,
                        227540795,
                        279490572,
                        313622622,
                        317712426,
                        347525581,
                        582105426
                      ],
                      "y": [
                        "Cassava",
                        "Sweet potatoes",
                        "Barley",
                        "Rice, paddy (rice milled equivalent)",
                        "Sugar beet",
                        "Potatoes",
                        "Maize",
                        "Rice, paddy",
                        "Wheat",
                        "Sugar cane"
                      ]
                    }
                  ],
                  "layout": {
                    "bargap": 0.15,
                    "font": {
                      "size": 14
                    },
                    "plot_bgcolor": "#FFFFFF",
                    "xaxis": {
                      "range": [
                        0,
                        1907024730
                      ],
                      "showline": true,
                      "visible": true
                    },
                    "yaxis": {
                      "showline": false,
                      "visible": true
                    }
                  },
                  "name": "1971"
                },
                {
                  "data": [
                    {
                      "cliponaxis": false,
                      "hoverinfo": "all",
                      "hovertemplate": "<extra></extra>",
                      "marker": {
                        "color": [
                          "rgb(234, 127, 19)",
                          "rgb(204, 223, 90)",
                          "rgb(31, 220, 223)",
                          "rgb(88, 192, 172)",
                          "rgb(92, 171, 115)",
                          "rgb(255, 148, 50)",
                          "rgb(41, 160, 91)",
                          "rgb(49, 41, 74)",
                          "rgb(135, 126, 225)",
                          "rgb(106, 205, 53)"
                        ]
                      },
                      "orientation": "h",
                      "textangle": 0,
                      "textposition": "outside",
                      "texttemplate": "%{y}<br>%{x:.4s}",
                      "type": "bar",
                      "x": [
                        101261515,
                        121467494,
                        132963909,
                        204962388,
                        240336963,
                        272144812,
                        307289937,
                        308826290,
                        343001429,
                        569105570
                      ],
                      "y": [
                        "Cassava",
                        "Sweet potatoes",
                        "Barley",
                        "Rice, paddy (rice milled equivalent)",
                        "Sugar beet",
                        "Potatoes",
                        "Rice, paddy",
                        "Maize",
                        "Wheat",
                        "Sugar cane"
                      ]
                    }
                  ],
                  "layout": {
                    "bargap": 0.15,
                    "font": {
                      "size": 14
                    },
                    "plot_bgcolor": "#FFFFFF",
                    "xaxis": {
                      "range": [
                        0,
                        1907024730
                      ],
                      "showline": true,
                      "visible": true
                    },
                    "yaxis": {
                      "showline": false,
                      "visible": true
                    }
                  },
                  "name": "1972"
                },
                {
                  "data": [
                    {
                      "cliponaxis": false,
                      "hoverinfo": "all",
                      "hovertemplate": "<extra></extra>",
                      "marker": {
                        "color": [
                          "rgb(234, 127, 19)",
                          "rgb(31, 220, 223)",
                          "rgb(204, 223, 90)",
                          "rgb(88, 192, 172)",
                          "rgb(92, 171, 115)",
                          "rgb(255, 148, 50)",
                          "rgb(49, 41, 74)",
                          "rgb(41, 160, 91)",
                          "rgb(135, 126, 225)",
                          "rgb(106, 205, 53)"
                        ]
                      },
                      "orientation": "h",
                      "textangle": 0,
                      "textposition": "outside",
                      "texttemplate": "%{y}<br>%{x:.4s}",
                      "type": "bar",
                      "x": [
                        101734795,
                        146966081,
                        152865329,
                        223397535,
                        250104320,
                        307160130,
                        318290469,
                        334928838,
                        369334126,
                        600227145
                      ],
                      "y": [
                        "Cassava",
                        "Barley",
                        "Sweet potatoes",
                        "Rice, paddy (rice milled equivalent)",
                        "Sugar beet",
                        "Potatoes",
                        "Maize",
                        "Rice, paddy",
                        "Wheat",
                        "Sugar cane"
                      ]
                    }
                  ],
                  "layout": {
                    "bargap": 0.15,
                    "font": {
                      "size": 14
                    },
                    "plot_bgcolor": "#FFFFFF",
                    "xaxis": {
                      "range": [
                        0,
                        1907024730
                      ],
                      "showline": true,
                      "visible": true
                    },
                    "yaxis": {
                      "showline": false,
                      "visible": true
                    }
                  },
                  "name": "1973"
                },
                {
                  "data": [
                    {
                      "cliponaxis": false,
                      "hoverinfo": "all",
                      "hovertemplate": "<extra></extra>",
                      "marker": {
                        "color": [
                          "rgb(234, 127, 19)",
                          "rgb(204, 223, 90)",
                          "rgb(31, 220, 223)",
                          "rgb(88, 192, 172)",
                          "rgb(92, 171, 115)",
                          "rgb(255, 148, 50)",
                          "rgb(49, 41, 74)",
                          "rgb(41, 160, 91)",
                          "rgb(135, 126, 225)",
                          "rgb(106, 205, 53)"
                        ]
                      },
                      "orientation": "h",
                      "textangle": 0,
                      "textposition": "outside",
                      "texttemplate": "%{y}<br>%{x:.4s}",
                      "type": "bar",
                      "x": [
                        104370567,
                        137264243,
                        148818870,
                        221424400,
                        234922029,
                        284781339,
                        306427347,
                        331970614,
                        358825442,
                        648516497
                      ],
                      "y": [
                        "Cassava",
                        "Sweet potatoes",
                        "Barley",
                        "Rice, paddy (rice milled equivalent)",
                        "Sugar beet",
                        "Potatoes",
                        "Maize",
                        "Rice, paddy",
                        "Wheat",
                        "Sugar cane"
                      ]
                    }
                  ],
                  "layout": {
                    "bargap": 0.15,
                    "font": {
                      "size": 14
                    },
                    "plot_bgcolor": "#FFFFFF",
                    "xaxis": {
                      "range": [
                        0,
                        1907024730
                      ],
                      "showline": true,
                      "visible": true
                    },
                    "yaxis": {
                      "showline": false,
                      "visible": true
                    }
                  },
                  "name": "1974"
                },
                {
                  "data": [
                    {
                      "cliponaxis": false,
                      "hoverinfo": "all",
                      "hovertemplate": "<extra></extra>",
                      "marker": {
                        "color": [
                          "rgb(234, 127, 19)",
                          "rgb(31, 220, 223)",
                          "rgb(204, 223, 90)",
                          "rgb(88, 192, 172)",
                          "rgb(92, 171, 115)",
                          "rgb(255, 148, 50)",
                          "rgb(49, 41, 74)",
                          "rgb(135, 126, 225)",
                          "rgb(41, 160, 91)",
                          "rgb(106, 205, 53)"
                        ]
                      },
                      "orientation": "h",
                      "textangle": 0,
                      "textposition": "outside",
                      "texttemplate": "%{y}<br>%{x:.4s}",
                      "type": "bar",
                      "x": [
                        110398445,
                        135491720,
                        141314403,
                        238094381,
                        251310276,
                        270384075,
                        341751971,
                        355806146,
                        356963090,
                        655815792
                      ],
                      "y": [
                        "Cassava",
                        "Barley",
                        "Sweet potatoes",
                        "Rice, paddy (rice milled equivalent)",
                        "Sugar beet",
                        "Potatoes",
                        "Maize",
                        "Wheat",
                        "Rice, paddy",
                        "Sugar cane"
                      ]
                    }
                  ],
                  "layout": {
                    "bargap": 0.15,
                    "font": {
                      "size": 14
                    },
                    "plot_bgcolor": "#FFFFFF",
                    "xaxis": {
                      "range": [
                        0,
                        1907024730
                      ],
                      "showline": true,
                      "visible": true
                    },
                    "yaxis": {
                      "showline": false,
                      "visible": true
                    }
                  },
                  "name": "1975"
                },
                {
                  "data": [
                    {
                      "cliponaxis": false,
                      "hoverinfo": "all",
                      "hovertemplate": "<extra></extra>",
                      "marker": {
                        "color": [
                          "rgb(234, 127, 19)",
                          "rgb(204, 223, 90)",
                          "rgb(31, 220, 223)",
                          "rgb(88, 192, 172)",
                          "rgb(255, 148, 50)",
                          "rgb(92, 171, 115)",
                          "rgb(41, 160, 91)",
                          "rgb(49, 41, 74)",
                          "rgb(135, 126, 225)",
                          "rgb(106, 205, 53)"
                        ]
                      },
                      "orientation": "h",
                      "textangle": 0,
                      "textposition": "outside",
                      "texttemplate": "%{y}<br>%{x:.4s}",
                      "type": "bar",
                      "x": [
                        113892497,
                        133322031,
                        166595806,
                        231906870,
                        272745276,
                        296408369,
                        347686462,
                        352395866,
                        419868031,
                        687207538
                      ],
                      "y": [
                        "Cassava",
                        "Sweet potatoes",
                        "Barley",
                        "Rice, paddy (rice milled equivalent)",
                        "Potatoes",
                        "Sugar beet",
                        "Rice, paddy",
                        "Maize",
                        "Wheat",
                        "Sugar cane"
                      ]
                    }
                  ],
                  "layout": {
                    "bargap": 0.15,
                    "font": {
                      "size": 14
                    },
                    "plot_bgcolor": "#FFFFFF",
                    "xaxis": {
                      "range": [
                        0,
                        1907024730
                      ],
                      "showline": true,
                      "visible": true
                    },
                    "yaxis": {
                      "showline": false,
                      "visible": true
                    }
                  },
                  "name": "1976"
                },
                {
                  "data": [
                    {
                      "cliponaxis": false,
                      "hoverinfo": "all",
                      "hovertemplate": "<extra></extra>",
                      "marker": {
                        "color": [
                          "rgb(234, 127, 19)",
                          "rgb(204, 223, 90)",
                          "rgb(31, 220, 223)",
                          "rgb(88, 192, 172)",
                          "rgb(255, 148, 50)",
                          "rgb(92, 171, 115)",
                          "rgb(41, 160, 91)",
                          "rgb(49, 41, 74)",
                          "rgb(135, 126, 225)",
                          "rgb(106, 205, 53)"
                        ]
                      },
                      "orientation": "h",
                      "textangle": 0,
                      "textposition": "outside",
                      "texttemplate": "%{y}<br>%{x:.4s}",
                      "type": "bar",
                      "x": [
                        118605256,
                        143107584,
                        156386493,
                        246443929,
                        279667694,
                        288582476,
                        369481153,
                        371593355,
                        382276677,
                        734858286
                      ],
                      "y": [
                        "Cassava",
                        "Sweet potatoes",
                        "Barley",
                        "Rice, paddy (rice milled equivalent)",
                        "Potatoes",
                        "Sugar beet",
                        "Rice, paddy",
                        "Maize",
                        "Wheat",
                        "Sugar cane"
                      ]
                    }
                  ],
                  "layout": {
                    "bargap": 0.15,
                    "font": {
                      "size": 14
                    },
                    "plot_bgcolor": "#FFFFFF",
                    "xaxis": {
                      "range": [
                        0,
                        1907024730
                      ],
                      "showline": true,
                      "visible": true
                    },
                    "yaxis": {
                      "showline": false,
                      "visible": true
                    }
                  },
                  "name": "1977"
                },
                {
                  "data": [
                    {
                      "cliponaxis": false,
                      "hoverinfo": "all",
                      "hovertemplate": "<extra></extra>",
                      "marker": {
                        "color": [
                          "rgb(234, 127, 19)",
                          "rgb(204, 223, 90)",
                          "rgb(31, 220, 223)",
                          "rgb(88, 192, 172)",
                          "rgb(92, 171, 115)",
                          "rgb(255, 148, 50)",
                          "rgb(41, 160, 91)",
                          "rgb(49, 41, 74)",
                          "rgb(135, 126, 225)",
                          "rgb(106, 205, 53)"
                        ]
                      },
                      "orientation": "h",
                      "textangle": 0,
                      "textposition": "outside",
                      "texttemplate": "%{y}<br>%{x:.4s}",
                      "type": "bar",
                      "x": [
                        123308473,
                        151857764,
                        174929309,
                        256934233,
                        282834069,
                        291161652,
                        385208745,
                        393600091,
                        443844880,
                        774416858
                      ],
                      "y": [
                        "Cassava",
                        "Sweet potatoes",
                        "Barley",
                        "Rice, paddy (rice milled equivalent)",
                        "Sugar beet",
                        "Potatoes",
                        "Rice, paddy",
                        "Maize",
                        "Wheat",
                        "Sugar cane"
                      ]
                    }
                  ],
                  "layout": {
                    "bargap": 0.15,
                    "font": {
                      "size": 14
                    },
                    "plot_bgcolor": "#FFFFFF",
                    "xaxis": {
                      "range": [
                        0,
                        1907024730
                      ],
                      "showline": true,
                      "visible": true
                    },
                    "yaxis": {
                      "showline": false,
                      "visible": true
                    }
                  },
                  "name": "1978"
                },
                {
                  "data": [
                    {
                      "cliponaxis": false,
                      "hoverinfo": "all",
                      "hovertemplate": "<extra></extra>",
                      "marker": {
                        "color": [
                          "rgb(234, 127, 19)",
                          "rgb(204, 223, 90)",
                          "rgb(31, 220, 223)",
                          "rgb(88, 192, 172)",
                          "rgb(92, 171, 115)",
                          "rgb(255, 148, 50)",
                          "rgb(41, 160, 91)",
                          "rgb(49, 41, 74)",
                          "rgb(135, 126, 225)",
                          "rgb(106, 205, 53)"
                        ]
                      },
                      "orientation": "h",
                      "textangle": 0,
                      "textposition": "outside",
                      "texttemplate": "%{y}<br>%{x:.4s}",
                      "type": "bar",
                      "x": [
                        119745423,
                        137935647,
                        154989948,
                        250292923,
                        262752809,
                        297921605,
                        375251758,
                        418622993,
                        422999301,
                        770245178
                      ],
                      "y": [
                        "Cassava",
                        "Sweet potatoes",
                        "Barley",
                        "Rice, paddy (rice milled equivalent)",
                        "Sugar beet",
                        "Potatoes",
                        "Rice, paddy",
                        "Maize",
                        "Wheat",
                        "Sugar cane"
                      ]
                    }
                  ],
                  "layout": {
                    "bargap": 0.15,
                    "font": {
                      "size": 14
                    },
                    "plot_bgcolor": "#FFFFFF",
                    "xaxis": {
                      "range": [
                        0,
                        1907024730
                      ],
                      "showline": true,
                      "visible": true
                    },
                    "yaxis": {
                      "showline": false,
                      "visible": true
                    }
                  },
                  "name": "1979"
                },
                {
                  "data": [
                    {
                      "cliponaxis": false,
                      "hoverinfo": "all",
                      "hovertemplate": "<extra></extra>",
                      "marker": {
                        "color": [
                          "rgb(234, 127, 19)",
                          "rgb(204, 223, 90)",
                          "rgb(31, 220, 223)",
                          "rgb(255, 148, 50)",
                          "rgb(88, 192, 172)",
                          "rgb(92, 171, 115)",
                          "rgb(49, 41, 74)",
                          "rgb(41, 160, 91)",
                          "rgb(135, 126, 225)",
                          "rgb(106, 205, 53)"
                        ]
                      },
                      "orientation": "h",
                      "textangle": 0,
                      "textposition": "outside",
                      "texttemplate": "%{y}<br>%{x:.4s}",
                      "type": "bar",
                      "x": [
                        124135066,
                        137869239,
                        156702822,
                        240495788,
                        264713164,
                        267856451,
                        396623388,
                        396871310,
                        440187901,
                        734489200
                      ],
                      "y": [
                        "Cassava",
                        "Sweet potatoes",
                        "Barley",
                        "Potatoes",
                        "Rice, paddy (rice milled equivalent)",
                        "Sugar beet",
                        "Maize",
                        "Rice, paddy",
                        "Wheat",
                        "Sugar cane"
                      ]
                    }
                  ],
                  "layout": {
                    "bargap": 0.15,
                    "font": {
                      "size": 14
                    },
                    "plot_bgcolor": "#FFFFFF",
                    "xaxis": {
                      "range": [
                        0,
                        1907024730
                      ],
                      "showline": true,
                      "visible": true
                    },
                    "yaxis": {
                      "showline": false,
                      "visible": true
                    }
                  },
                  "name": "1980"
                },
                {
                  "data": [
                    {
                      "cliponaxis": false,
                      "hoverinfo": "all",
                      "hovertemplate": "<extra></extra>",
                      "marker": {
                        "color": [
                          "rgb(204, 223, 90)",
                          "rgb(234, 127, 19)",
                          "rgb(31, 220, 223)",
                          "rgb(255, 148, 50)",
                          "rgb(88, 192, 172)",
                          "rgb(92, 171, 115)",
                          "rgb(41, 160, 91)",
                          "rgb(49, 41, 74)",
                          "rgb(135, 126, 225)",
                          "rgb(106, 205, 53)"
                        ]
                      },
                      "orientation": "h",
                      "textangle": 0,
                      "textposition": "outside",
                      "texttemplate": "%{y}<br>%{x:.4s}",
                      "type": "bar",
                      "x": [
                        125543727,
                        127513877,
                        149602582,
                        267781520,
                        273520179,
                        287840286,
                        410075231,
                        446772517,
                        449633986,
                        799604214
                      ],
                      "y": [
                        "Sweet potatoes",
                        "Cassava",
                        "Barley",
                        "Potatoes",
                        "Rice, paddy (rice milled equivalent)",
                        "Sugar beet",
                        "Rice, paddy",
                        "Maize",
                        "Wheat",
                        "Sugar cane"
                      ]
                    }
                  ],
                  "layout": {
                    "bargap": 0.15,
                    "font": {
                      "size": 14
                    },
                    "plot_bgcolor": "#FFFFFF",
                    "xaxis": {
                      "range": [
                        0,
                        1907024730
                      ],
                      "showline": true,
                      "visible": true
                    },
                    "yaxis": {
                      "showline": false,
                      "visible": true
                    }
                  },
                  "name": "1981"
                },
                {
                  "data": [
                    {
                      "cliponaxis": false,
                      "hoverinfo": "all",
                      "hovertemplate": "<extra></extra>",
                      "marker": {
                        "color": [
                          "rgb(234, 127, 19)",
                          "rgb(204, 223, 90)",
                          "rgb(31, 220, 223)",
                          "rgb(255, 148, 50)",
                          "rgb(88, 192, 172)",
                          "rgb(92, 171, 115)",
                          "rgb(41, 160, 91)",
                          "rgb(49, 41, 74)",
                          "rgb(135, 126, 225)",
                          "rgb(106, 205, 53)"
                        ]
                      },
                      "orientation": "h",
                      "textangle": 0,
                      "textposition": "outside",
                      "texttemplate": "%{y}<br>%{x:.4s}",
                      "type": "bar",
                      "x": [
                        128849568,
                        129433910,
                        161352537,
                        265142602,
                        281440016,
                        291773194,
                        421949049,
                        448932280,
                        476768609,
                        907067880
                      ],
                      "y": [
                        "Cassava",
                        "Sweet potatoes",
                        "Barley",
                        "Potatoes",
                        "Rice, paddy (rice milled equivalent)",
                        "Sugar beet",
                        "Rice, paddy",
                        "Maize",
                        "Wheat",
                        "Sugar cane"
                      ]
                    }
                  ],
                  "layout": {
                    "bargap": 0.15,
                    "font": {
                      "size": 14
                    },
                    "plot_bgcolor": "#FFFFFF",
                    "xaxis": {
                      "range": [
                        0,
                        1907024730
                      ],
                      "showline": true,
                      "visible": true
                    },
                    "yaxis": {
                      "showline": false,
                      "visible": true
                    }
                  },
                  "name": "1982"
                },
                {
                  "data": [
                    {
                      "cliponaxis": false,
                      "hoverinfo": "all",
                      "hovertemplate": "<extra></extra>",
                      "marker": {
                        "color": [
                          "rgb(234, 127, 19)",
                          "rgb(204, 223, 90)",
                          "rgb(31, 220, 223)",
                          "rgb(255, 148, 50)",
                          "rgb(92, 171, 115)",
                          "rgb(88, 192, 172)",
                          "rgb(49, 41, 74)",
                          "rgb(41, 160, 91)",
                          "rgb(135, 126, 225)",
                          "rgb(106, 205, 53)"
                        ]
                      },
                      "orientation": "h",
                      "textangle": 0,
                      "textposition": "outside",
                      "texttemplate": "%{y}<br>%{x:.4s}",
                      "type": "bar",
                      "x": [
                        126886287,
                        137945719,
                        159470171,
                        264471009,
                        274395485,
                        298826869,
                        347082034,
                        448016295,
                        489555281,
                        903684353
                      ],
                      "y": [
                        "Cassava",
                        "Sweet potatoes",
                        "Barley",
                        "Potatoes",
                        "Sugar beet",
                        "Rice, paddy (rice milled equivalent)",
                        "Maize",
                        "Rice, paddy",
                        "Wheat",
                        "Sugar cane"
                      ]
                    }
                  ],
                  "layout": {
                    "bargap": 0.15,
                    "font": {
                      "size": 14
                    },
                    "plot_bgcolor": "#FFFFFF",
                    "xaxis": {
                      "range": [
                        0,
                        1907024730
                      ],
                      "showline": true,
                      "visible": true
                    },
                    "yaxis": {
                      "showline": false,
                      "visible": true
                    }
                  },
                  "name": "1983"
                },
                {
                  "data": [
                    {
                      "cliponaxis": false,
                      "hoverinfo": "all",
                      "hovertemplate": "<extra></extra>",
                      "marker": {
                        "color": [
                          "rgb(204, 223, 90)",
                          "rgb(234, 127, 19)",
                          "rgb(31, 220, 223)",
                          "rgb(255, 148, 50)",
                          "rgb(92, 171, 115)",
                          "rgb(88, 192, 172)",
                          "rgb(49, 41, 74)",
                          "rgb(41, 160, 91)",
                          "rgb(135, 126, 225)",
                          "rgb(106, 205, 53)"
                        ]
                      },
                      "orientation": "h",
                      "textangle": 0,
                      "textposition": "outside",
                      "texttemplate": "%{y}<br>%{x:.4s}",
                      "type": "bar",
                      "x": [
                        133036563,
                        133239818,
                        169433845,
                        290945972,
                        296351939,
                        310383713,
                        450449992,
                        465342898,
                        512330225,
                        929768246
                      ],
                      "y": [
                        "Sweet potatoes",
                        "Cassava",
                        "Barley",
                        "Potatoes",
                        "Sugar beet",
                        "Rice, paddy (rice milled equivalent)",
                        "Maize",
                        "Rice, paddy",
                        "Wheat",
                        "Sugar cane"
                      ]
                    }
                  ],
                  "layout": {
                    "bargap": 0.15,
                    "font": {
                      "size": 14
                    },
                    "plot_bgcolor": "#FFFFFF",
                    "xaxis": {
                      "range": [
                        0,
                        1907024730
                      ],
                      "showline": true,
                      "visible": true
                    },
                    "yaxis": {
                      "showline": false,
                      "visible": true
                    }
                  },
                  "name": "1984"
                },
                {
                  "data": [
                    {
                      "cliponaxis": false,
                      "hoverinfo": "all",
                      "hovertemplate": "<extra></extra>",
                      "marker": {
                        "color": [
                          "rgb(204, 223, 90)",
                          "rgb(234, 127, 19)",
                          "rgb(31, 220, 223)",
                          "rgb(255, 148, 50)",
                          "rgb(92, 171, 115)",
                          "rgb(88, 192, 172)",
                          "rgb(41, 160, 91)",
                          "rgb(49, 41, 74)",
                          "rgb(135, 126, 225)",
                          "rgb(106, 205, 53)"
                        ]
                      },
                      "orientation": "h",
                      "textangle": 0,
                      "textposition": "outside",
                      "texttemplate": "%{y}<br>%{x:.4s}",
                      "type": "bar",
                      "x": [
                        122997023,
                        135852865,
                        172618338,
                        281603760,
                        284155160,
                        312265770,
                        468164572,
                        485527301,
                        499527392,
                        933213589
                      ],
                      "y": [
                        "Sweet potatoes",
                        "Cassava",
                        "Barley",
                        "Potatoes",
                        "Sugar beet",
                        "Rice, paddy (rice milled equivalent)",
                        "Rice, paddy",
                        "Maize",
                        "Wheat",
                        "Sugar cane"
                      ]
                    }
                  ],
                  "layout": {
                    "bargap": 0.15,
                    "font": {
                      "size": 14
                    },
                    "plot_bgcolor": "#FFFFFF",
                    "xaxis": {
                      "range": [
                        0,
                        1907024730
                      ],
                      "showline": true,
                      "visible": true
                    },
                    "yaxis": {
                      "showline": false,
                      "visible": true
                    }
                  },
                  "name": "1985"
                },
                {
                  "data": [
                    {
                      "cliponaxis": false,
                      "hoverinfo": "all",
                      "hovertemplate": "<extra></extra>",
                      "marker": {
                        "color": [
                          "rgb(247, 183, 217)",
                          "rgb(234, 127, 19)",
                          "rgb(31, 220, 223)",
                          "rgb(92, 171, 115)",
                          "rgb(255, 148, 50)",
                          "rgb(88, 192, 172)",
                          "rgb(41, 160, 91)",
                          "rgb(49, 41, 74)",
                          "rgb(135, 126, 225)",
                          "rgb(106, 205, 53)"
                        ]
                      },
                      "orientation": "h",
                      "textangle": 0,
                      "textposition": "outside",
                      "texttemplate": "%{y}<br>%{x:.4s}",
                      "type": "bar",
                      "x": [
                        129814219,
                        134228164,
                        177169275,
                        286334048,
                        286610518,
                        312606386,
                        468675242,
                        478176622,
                        528685222,
                        934719186
                      ],
                      "y": [
                        "Vegetables, fresh nes",
                        "Cassava",
                        "Barley",
                        "Sugar beet",
                        "Potatoes",
                        "Rice, paddy (rice milled equivalent)",
                        "Rice, paddy",
                        "Maize",
                        "Wheat",
                        "Sugar cane"
                      ]
                    }
                  ],
                  "layout": {
                    "bargap": 0.15,
                    "font": {
                      "size": 14
                    },
                    "plot_bgcolor": "#FFFFFF",
                    "xaxis": {
                      "range": [
                        0,
                        1907024730
                      ],
                      "showline": true,
                      "visible": true
                    },
                    "yaxis": {
                      "showline": false,
                      "visible": true
                    }
                  },
                  "name": "1986"
                },
                {
                  "data": [
                    {
                      "cliponaxis": false,
                      "hoverinfo": "all",
                      "hovertemplate": "<extra></extra>",
                      "marker": {
                        "color": [
                          "rgb(204, 223, 90)",
                          "rgb(234, 127, 19)",
                          "rgb(31, 220, 223)",
                          "rgb(255, 148, 50)",
                          "rgb(92, 171, 115)",
                          "rgb(88, 192, 172)",
                          "rgb(49, 41, 74)",
                          "rgb(41, 160, 91)",
                          "rgb(135, 126, 225)",
                          "rgb(106, 205, 53)"
                        ]
                      },
                      "orientation": "h",
                      "textangle": 0,
                      "textposition": "outside",
                      "texttemplate": "%{y}<br>%{x:.4s}",
                      "type": "bar",
                      "x": [
                        133652442,
                        138134704,
                        175288684,
                        279415351,
                        299751636,
                        307780419,
                        453115794,
                        461439908,
                        505075847,
                        990319251
                      ],
                      "y": [
                        "Sweet potatoes",
                        "Cassava",
                        "Barley",
                        "Potatoes",
                        "Sugar beet",
                        "Rice, paddy (rice milled equivalent)",
                        "Maize",
                        "Rice, paddy",
                        "Wheat",
                        "Sugar cane"
                      ]
                    }
                  ],
                  "layout": {
                    "bargap": 0.15,
                    "font": {
                      "size": 14
                    },
                    "plot_bgcolor": "#FFFFFF",
                    "xaxis": {
                      "range": [
                        0,
                        1907024730
                      ],
                      "showline": true,
                      "visible": true
                    },
                    "yaxis": {
                      "showline": false,
                      "visible": true
                    }
                  },
                  "name": "1987"
                },
                {
                  "data": [
                    {
                      "cliponaxis": false,
                      "hoverinfo": "all",
                      "hovertemplate": "<extra></extra>",
                      "marker": {
                        "color": [
                          "rgb(247, 183, 217)",
                          "rgb(234, 127, 19)",
                          "rgb(31, 220, 223)",
                          "rgb(255, 148, 50)",
                          "rgb(92, 171, 115)",
                          "rgb(88, 192, 172)",
                          "rgb(49, 41, 74)",
                          "rgb(41, 160, 91)",
                          "rgb(135, 126, 225)",
                          "rgb(106, 205, 53)"
                        ]
                      },
                      "orientation": "h",
                      "textangle": 0,
                      "textposition": "outside",
                      "texttemplate": "%{y}<br>%{x:.4s}",
                      "type": "bar",
                      "x": [
                        137997867,
                        144878275,
                        163396406,
                        268603004,
                        293570876,
                        325134421,
                        403050234,
                        487457902,
                        500656538,
                        992982513
                      ],
                      "y": [
                        "Vegetables, fresh nes",
                        "Cassava",
                        "Barley",
                        "Potatoes",
                        "Sugar beet",
                        "Rice, paddy (rice milled equivalent)",
                        "Maize",
                        "Rice, paddy",
                        "Wheat",
                        "Sugar cane"
                      ]
                    }
                  ],
                  "layout": {
                    "bargap": 0.15,
                    "font": {
                      "size": 14
                    },
                    "plot_bgcolor": "#FFFFFF",
                    "xaxis": {
                      "range": [
                        0,
                        1907024730
                      ],
                      "showline": true,
                      "visible": true
                    },
                    "yaxis": {
                      "showline": false,
                      "visible": true
                    }
                  },
                  "name": "1988"
                },
                {
                  "data": [
                    {
                      "cliponaxis": false,
                      "hoverinfo": "all",
                      "hovertemplate": "<extra></extra>",
                      "marker": {
                        "color": [
                          "rgb(247, 183, 217)",
                          "rgb(234, 127, 19)",
                          "rgb(31, 220, 223)",
                          "rgb(255, 148, 50)",
                          "rgb(92, 171, 115)",
                          "rgb(88, 192, 172)",
                          "rgb(49, 41, 74)",
                          "rgb(41, 160, 91)",
                          "rgb(135, 126, 225)",
                          "rgb(106, 205, 53)"
                        ]
                      },
                      "orientation": "h",
                      "textangle": 0,
                      "textposition": "outside",
                      "texttemplate": "%{y}<br>%{x:.4s}",
                      "type": "bar",
                      "x": [
                        138710355,
                        152885746,
                        164166455,
                        276583863,
                        314402899,
                        343119234,
                        476874503,
                        514421640,
                        538206114,
                        1017998783
                      ],
                      "y": [
                        "Vegetables, fresh nes",
                        "Cassava",
                        "Barley",
                        "Potatoes",
                        "Sugar beet",
                        "Rice, paddy (rice milled equivalent)",
                        "Maize",
                        "Rice, paddy",
                        "Wheat",
                        "Sugar cane"
                      ]
                    }
                  ],
                  "layout": {
                    "bargap": 0.15,
                    "font": {
                      "size": 14
                    },
                    "plot_bgcolor": "#FFFFFF",
                    "xaxis": {
                      "range": [
                        0,
                        1907024730
                      ],
                      "showline": true,
                      "visible": true
                    },
                    "yaxis": {
                      "showline": false,
                      "visible": true
                    }
                  },
                  "name": "1989"
                },
                {
                  "data": [
                    {
                      "cliponaxis": false,
                      "hoverinfo": "all",
                      "hovertemplate": "<extra></extra>",
                      "marker": {
                        "color": [
                          "rgb(247, 183, 217)",
                          "rgb(234, 127, 19)",
                          "rgb(31, 220, 223)",
                          "rgb(255, 148, 50)",
                          "rgb(92, 171, 115)",
                          "rgb(88, 192, 172)",
                          "rgb(49, 41, 74)",
                          "rgb(41, 160, 91)",
                          "rgb(135, 126, 225)",
                          "rgb(106, 205, 53)"
                        ]
                      },
                      "orientation": "h",
                      "textangle": 0,
                      "textposition": "outside",
                      "texttemplate": "%{y}<br>%{x:.4s}",
                      "type": "bar",
                      "x": [
                        140314879,
                        152378682,
                        178074020,
                        266825273,
                        309186724,
                        345885292,
                        483620724,
                        518568653,
                        591330111,
                        1052997497
                      ],
                      "y": [
                        "Vegetables, fresh nes",
                        "Cassava",
                        "Barley",
                        "Potatoes",
                        "Sugar beet",
                        "Rice, paddy (rice milled equivalent)",
                        "Maize",
                        "Rice, paddy",
                        "Wheat",
                        "Sugar cane"
                      ]
                    }
                  ],
                  "layout": {
                    "bargap": 0.15,
                    "font": {
                      "size": 14
                    },
                    "plot_bgcolor": "#FFFFFF",
                    "xaxis": {
                      "range": [
                        0,
                        1907024730
                      ],
                      "showline": true,
                      "visible": true
                    },
                    "yaxis": {
                      "showline": false,
                      "visible": true
                    }
                  },
                  "name": "1990"
                },
                {
                  "data": [
                    {
                      "cliponaxis": false,
                      "hoverinfo": "all",
                      "hovertemplate": "<extra></extra>",
                      "marker": {
                        "color": [
                          "rgb(247, 183, 217)",
                          "rgb(234, 127, 19)",
                          "rgb(31, 220, 223)",
                          "rgb(255, 148, 50)",
                          "rgb(92, 171, 115)",
                          "rgb(88, 192, 172)",
                          "rgb(49, 41, 74)",
                          "rgb(41, 160, 91)",
                          "rgb(135, 126, 225)",
                          "rgb(106, 205, 53)"
                        ]
                      },
                      "orientation": "h",
                      "textangle": 0,
                      "textposition": "outside",
                      "texttemplate": "%{y}<br>%{x:.4s}",
                      "type": "bar",
                      "x": [
                        135062201,
                        160406516,
                        169582274,
                        256993281,
                        285129013,
                        345847886,
                        494407622,
                        518512573,
                        547820731,
                        1086955621
                      ],
                      "y": [
                        "Vegetables, fresh nes",
                        "Cassava",
                        "Barley",
                        "Potatoes",
                        "Sugar beet",
                        "Rice, paddy (rice milled equivalent)",
                        "Maize",
                        "Rice, paddy",
                        "Wheat",
                        "Sugar cane"
                      ]
                    }
                  ],
                  "layout": {
                    "bargap": 0.15,
                    "font": {
                      "size": 14
                    },
                    "plot_bgcolor": "#FFFFFF",
                    "xaxis": {
                      "range": [
                        0,
                        1907024730
                      ],
                      "showline": true,
                      "visible": true
                    },
                    "yaxis": {
                      "showline": false,
                      "visible": true
                    }
                  },
                  "name": "1991"
                },
                {
                  "data": [
                    {
                      "cliponaxis": false,
                      "hoverinfo": "all",
                      "hovertemplate": "<extra></extra>",
                      "marker": {
                        "color": [
                          "rgb(247, 183, 217)",
                          "rgb(234, 127, 19)",
                          "rgb(31, 220, 223)",
                          "rgb(255, 148, 50)",
                          "rgb(92, 171, 115)",
                          "rgb(88, 192, 172)",
                          "rgb(41, 160, 91)",
                          "rgb(49, 41, 74)",
                          "rgb(135, 126, 225)",
                          "rgb(106, 205, 53)"
                        ]
                      },
                      "orientation": "h",
                      "textangle": 0,
                      "textposition": "outside",
                      "texttemplate": "%{y}<br>%{x:.4s}",
                      "type": "bar",
                      "x": [
                        144904166,
                        162004349,
                        165533308,
                        278980652,
                        281711850,
                        352094665,
                        527878059,
                        533789336,
                        565111947,
                        1107576853
                      ],
                      "y": [
                        "Vegetables, fresh nes",
                        "Cassava",
                        "Barley",
                        "Potatoes",
                        "Sugar beet",
                        "Rice, paddy (rice milled equivalent)",
                        "Rice, paddy",
                        "Maize",
                        "Wheat",
                        "Sugar cane"
                      ]
                    }
                  ],
                  "layout": {
                    "bargap": 0.15,
                    "font": {
                      "size": 14
                    },
                    "plot_bgcolor": "#FFFFFF",
                    "xaxis": {
                      "range": [
                        0,
                        1907024730
                      ],
                      "showline": true,
                      "visible": true
                    },
                    "yaxis": {
                      "showline": false,
                      "visible": true
                    }
                  },
                  "name": "1992"
                },
                {
                  "data": [
                    {
                      "cliponaxis": false,
                      "hoverinfo": "all",
                      "hovertemplate": "<extra></extra>",
                      "marker": {
                        "color": [
                          "rgb(247, 183, 217)",
                          "rgb(234, 127, 19)",
                          "rgb(31, 220, 223)",
                          "rgb(92, 171, 115)",
                          "rgb(255, 148, 50)",
                          "rgb(88, 192, 172)",
                          "rgb(49, 41, 74)",
                          "rgb(41, 160, 91)",
                          "rgb(135, 126, 225)",
                          "rgb(106, 205, 53)"
                        ]
                      },
                      "orientation": "h",
                      "textangle": 0,
                      "textposition": "outside",
                      "texttemplate": "%{y}<br>%{x:.4s}",
                      "type": "bar",
                      "x": [
                        155428142,
                        163185199,
                        169542965,
                        282190576,
                        304619922,
                        353242902,
                        477221153,
                        529599553,
                        564739765,
                        1020881319
                      ],
                      "y": [
                        "Vegetables, fresh nes",
                        "Cassava",
                        "Barley",
                        "Sugar beet",
                        "Potatoes",
                        "Rice, paddy (rice milled equivalent)",
                        "Maize",
                        "Rice, paddy",
                        "Wheat",
                        "Sugar cane"
                      ]
                    }
                  ],
                  "layout": {
                    "bargap": 0.15,
                    "font": {
                      "size": 14
                    },
                    "plot_bgcolor": "#FFFFFF",
                    "xaxis": {
                      "range": [
                        0,
                        1907024730
                      ],
                      "showline": true,
                      "visible": true
                    },
                    "yaxis": {
                      "showline": false,
                      "visible": true
                    }
                  },
                  "name": "1993"
                },
                {
                  "data": [
                    {
                      "cliponaxis": false,
                      "hoverinfo": "all",
                      "hovertemplate": "<extra></extra>",
                      "marker": {
                        "color": [
                          "rgb(31, 220, 223)",
                          "rgb(247, 183, 217)",
                          "rgb(234, 127, 19)",
                          "rgb(92, 171, 115)",
                          "rgb(255, 148, 50)",
                          "rgb(88, 192, 172)",
                          "rgb(135, 126, 225)",
                          "rgb(41, 160, 91)",
                          "rgb(49, 41, 74)",
                          "rgb(106, 205, 53)"
                        ]
                      },
                      "orientation": "h",
                      "textangle": 0,
                      "textposition": "outside",
                      "texttemplate": "%{y}<br>%{x:.4s}",
                      "type": "bar",
                      "x": [
                        161019263,
                        161088312,
                        164501121,
                        254453796,
                        270203771,
                        359240229,
                        525435323,
                        538591048,
                        568663564,
                        1084097363
                      ],
                      "y": [
                        "Barley",
                        "Vegetables, fresh nes",
                        "Cassava",
                        "Sugar beet",
                        "Potatoes",
                        "Rice, paddy (rice milled equivalent)",
                        "Wheat",
                        "Rice, paddy",
                        "Maize",
                        "Sugar cane"
                      ]
                    }
                  ],
                  "layout": {
                    "bargap": 0.15,
                    "font": {
                      "size": 14
                    },
                    "plot_bgcolor": "#FFFFFF",
                    "xaxis": {
                      "range": [
                        0,
                        1907024730
                      ],
                      "showline": true,
                      "visible": true
                    },
                    "yaxis": {
                      "showline": false,
                      "visible": true
                    }
                  },
                  "name": "1994"
                },
                {
                  "data": [
                    {
                      "cliponaxis": false,
                      "hoverinfo": "all",
                      "hovertemplate": "<extra></extra>",
                      "marker": {
                        "color": [
                          "rgb(31, 220, 223)",
                          "rgb(234, 127, 19)",
                          "rgb(247, 183, 217)",
                          "rgb(92, 171, 115)",
                          "rgb(255, 148, 50)",
                          "rgb(88, 192, 172)",
                          "rgb(49, 41, 74)",
                          "rgb(135, 126, 225)",
                          "rgb(41, 160, 91)",
                          "rgb(106, 205, 53)"
                        ]
                      },
                      "orientation": "h",
                      "textangle": 0,
                      "textposition": "outside",
                      "texttemplate": "%{y}<br>%{x:.4s}",
                      "type": "bar",
                      "x": [
                        140724630,
                        161787472,
                        165885731,
                        264504934,
                        285333037,
                        364957060,
                        517299059,
                        544357532,
                        547162009,
                        1163366858
                      ],
                      "y": [
                        "Barley",
                        "Cassava",
                        "Vegetables, fresh nes",
                        "Sugar beet",
                        "Potatoes",
                        "Rice, paddy (rice milled equivalent)",
                        "Maize",
                        "Wheat",
                        "Rice, paddy",
                        "Sugar cane"
                      ]
                    }
                  ],
                  "layout": {
                    "bargap": 0.15,
                    "font": {
                      "size": 14
                    },
                    "plot_bgcolor": "#FFFFFF",
                    "xaxis": {
                      "range": [
                        0,
                        1907024730
                      ],
                      "showline": true,
                      "visible": true
                    },
                    "yaxis": {
                      "showline": false,
                      "visible": true
                    }
                  },
                  "name": "1995"
                },
                {
                  "data": [
                    {
                      "cliponaxis": false,
                      "hoverinfo": "all",
                      "hovertemplate": "<extra></extra>",
                      "marker": {
                        "color": [
                          "rgb(31, 220, 223)",
                          "rgb(234, 127, 19)",
                          "rgb(247, 183, 217)",
                          "rgb(92, 171, 115)",
                          "rgb(255, 148, 50)",
                          "rgb(88, 192, 172)",
                          "rgb(41, 160, 91)",
                          "rgb(135, 126, 225)",
                          "rgb(49, 41, 74)",
                          "rgb(106, 205, 53)"
                        ]
                      },
                      "orientation": "h",
                      "textangle": 0,
                      "textposition": "outside",
                      "texttemplate": "%{y}<br>%{x:.4s}",
                      "type": "bar",
                      "x": [
                        155017318,
                        158373490,
                        171922447,
                        264461343,
                        310493658,
                        379294907,
                        568658031,
                        578616933,
                        586146163,
                        1218890125
                      ],
                      "y": [
                        "Barley",
                        "Cassava",
                        "Vegetables, fresh nes",
                        "Sugar beet",
                        "Potatoes",
                        "Rice, paddy (rice milled equivalent)",
                        "Rice, paddy",
                        "Wheat",
                        "Maize",
                        "Sugar cane"
                      ]
                    }
                  ],
                  "layout": {
                    "bargap": 0.15,
                    "font": {
                      "size": 14
                    },
                    "plot_bgcolor": "#FFFFFF",
                    "xaxis": {
                      "range": [
                        0,
                        1907024730
                      ],
                      "showline": true,
                      "visible": true
                    },
                    "yaxis": {
                      "showline": false,
                      "visible": true
                    }
                  },
                  "name": "1996"
                },
                {
                  "data": [
                    {
                      "cliponaxis": false,
                      "hoverinfo": "all",
                      "hovertemplate": "<extra></extra>",
                      "marker": {
                        "color": [
                          "rgb(31, 220, 223)",
                          "rgb(234, 127, 19)",
                          "rgb(247, 183, 217)",
                          "rgb(92, 171, 115)",
                          "rgb(255, 148, 50)",
                          "rgb(88, 192, 172)",
                          "rgb(41, 160, 91)",
                          "rgb(49, 41, 74)",
                          "rgb(135, 126, 225)",
                          "rgb(106, 205, 53)"
                        ]
                      },
                      "orientation": "h",
                      "textangle": 0,
                      "textposition": "outside",
                      "texttemplate": "%{y}<br>%{x:.4s}",
                      "type": "bar",
                      "x": [
                        154359212,
                        161747290,
                        175581351,
                        267973956,
                        301079129,
                        384950308,
                        577136893,
                        584411894,
                        614651780,
                        1246425310
                      ],
                      "y": [
                        "Barley",
                        "Cassava",
                        "Vegetables, fresh nes",
                        "Sugar beet",
                        "Potatoes",
                        "Rice, paddy (rice milled equivalent)",
                        "Rice, paddy",
                        "Maize",
                        "Wheat",
                        "Sugar cane"
                      ]
                    }
                  ],
                  "layout": {
                    "bargap": 0.15,
                    "font": {
                      "size": 14
                    },
                    "plot_bgcolor": "#FFFFFF",
                    "xaxis": {
                      "range": [
                        0,
                        1907024730
                      ],
                      "showline": true,
                      "visible": true
                    },
                    "yaxis": {
                      "showline": false,
                      "visible": true
                    }
                  },
                  "name": "1997"
                },
                {
                  "data": [
                    {
                      "cliponaxis": false,
                      "hoverinfo": "all",
                      "hovertemplate": "<extra></extra>",
                      "marker": {
                        "color": [
                          "rgb(69, 227, 216)",
                          "rgb(234, 127, 19)",
                          "rgb(247, 183, 217)",
                          "rgb(92, 171, 115)",
                          "rgb(255, 148, 50)",
                          "rgb(88, 192, 172)",
                          "rgb(41, 160, 91)",
                          "rgb(135, 126, 225)",
                          "rgb(49, 41, 74)",
                          "rgb(106, 205, 53)"
                        ]
                      },
                      "orientation": "h",
                      "textangle": 0,
                      "textposition": "outside",
                      "texttemplate": "%{y}<br>%{x:.4s}",
                      "type": "bar",
                      "x": [
                        160128822,
                        162613417,
                        178523814,
                        263032522,
                        297834904,
                        386068923,
                        578813977,
                        596175815,
                        615081853,
                        1263674263
                      ],
                      "y": [
                        "Soybeans",
                        "Cassava",
                        "Vegetables, fresh nes",
                        "Sugar beet",
                        "Potatoes",
                        "Rice, paddy (rice milled equivalent)",
                        "Rice, paddy",
                        "Wheat",
                        "Maize",
                        "Sugar cane"
                      ]
                    }
                  ],
                  "layout": {
                    "bargap": 0.15,
                    "font": {
                      "size": 14
                    },
                    "plot_bgcolor": "#FFFFFF",
                    "xaxis": {
                      "range": [
                        0,
                        1907024730
                      ],
                      "showline": true,
                      "visible": true
                    },
                    "yaxis": {
                      "showline": false,
                      "visible": true
                    }
                  },
                  "name": "1998"
                },
                {
                  "data": [
                    {
                      "cliponaxis": false,
                      "hoverinfo": "all",
                      "hovertemplate": "<extra></extra>",
                      "marker": {
                        "color": [
                          "rgb(69, 227, 216)",
                          "rgb(234, 127, 19)",
                          "rgb(247, 183, 217)",
                          "rgb(92, 171, 115)",
                          "rgb(255, 148, 50)",
                          "rgb(88, 192, 172)",
                          "rgb(135, 126, 225)",
                          "rgb(49, 41, 74)",
                          "rgb(41, 160, 91)",
                          "rgb(106, 205, 53)"
                        ]
                      },
                      "orientation": "h",
                      "textangle": 0,
                      "textposition": "outside",
                      "texttemplate": "%{y}<br>%{x:.4s}",
                      "type": "bar",
                      "x": [
                        157815479,
                        168847321,
                        188064527,
                        260565420,
                        296076184,
                        407655445,
                        584763438,
                        607434709,
                        611177579,
                        1282128475
                      ],
                      "y": [
                        "Soybeans",
                        "Cassava",
                        "Vegetables, fresh nes",
                        "Sugar beet",
                        "Potatoes",
                        "Rice, paddy (rice milled equivalent)",
                        "Wheat",
                        "Maize",
                        "Rice, paddy",
                        "Sugar cane"
                      ]
                    }
                  ],
                  "layout": {
                    "bargap": 0.15,
                    "font": {
                      "size": 14
                    },
                    "plot_bgcolor": "#FFFFFF",
                    "xaxis": {
                      "range": [
                        0,
                        1907024730
                      ],
                      "showline": true,
                      "visible": true
                    },
                    "yaxis": {
                      "showline": false,
                      "visible": true
                    }
                  },
                  "name": "1999"
                },
                {
                  "data": [
                    {
                      "cliponaxis": false,
                      "hoverinfo": "all",
                      "hovertemplate": "<extra></extra>",
                      "marker": {
                        "color": [
                          "rgb(69, 227, 216)",
                          "rgb(234, 127, 19)",
                          "rgb(247, 183, 217)",
                          "rgb(92, 171, 115)",
                          "rgb(255, 148, 50)",
                          "rgb(88, 192, 172)",
                          "rgb(135, 126, 225)",
                          "rgb(49, 41, 74)",
                          "rgb(41, 160, 91)",
                          "rgb(106, 205, 53)"
                        ]
                      },
                      "orientation": "h",
                      "textangle": 0,
                      "textposition": "outside",
                      "texttemplate": "%{y}<br>%{x:.4s}",
                      "type": "bar",
                      "x": [
                        161308383,
                        175846840,
                        211610549,
                        250148505,
                        322775223,
                        399311670,
                        584999160,
                        592038698,
                        598668171,
                        1252668856
                      ],
                      "y": [
                        "Soybeans",
                        "Cassava",
                        "Vegetables, fresh nes",
                        "Sugar beet",
                        "Potatoes",
                        "Rice, paddy (rice milled equivalent)",
                        "Wheat",
                        "Maize",
                        "Rice, paddy",
                        "Sugar cane"
                      ]
                    }
                  ],
                  "layout": {
                    "bargap": 0.15,
                    "font": {
                      "size": 14
                    },
                    "plot_bgcolor": "#FFFFFF",
                    "xaxis": {
                      "range": [
                        0,
                        1907024730
                      ],
                      "showline": true,
                      "visible": true
                    },
                    "yaxis": {
                      "showline": false,
                      "visible": true
                    }
                  },
                  "name": "2000"
                },
                {
                  "data": [
                    {
                      "cliponaxis": false,
                      "hoverinfo": "all",
                      "hovertemplate": "<extra></extra>",
                      "marker": {
                        "color": [
                          "rgb(69, 227, 216)",
                          "rgb(234, 127, 19)",
                          "rgb(247, 183, 217)",
                          "rgb(92, 171, 115)",
                          "rgb(255, 148, 50)",
                          "rgb(88, 192, 172)",
                          "rgb(135, 126, 225)",
                          "rgb(41, 160, 91)",
                          "rgb(49, 41, 74)",
                          "rgb(106, 205, 53)"
                        ]
                      },
                      "orientation": "h",
                      "textangle": 0,
                      "textposition": "outside",
                      "texttemplate": "%{y}<br>%{x:.4s}",
                      "type": "bar",
                      "x": [
                        177020743,
                        181687057,
                        227180655,
                        230314950,
                        305492291,
                        400364493,
                        588243664,
                        600246617,
                        615152413,
                        1257665353
                      ],
                      "y": [
                        "Soybeans",
                        "Cassava",
                        "Vegetables, fresh nes",
                        "Sugar beet",
                        "Potatoes",
                        "Rice, paddy (rice milled equivalent)",
                        "Wheat",
                        "Rice, paddy",
                        "Maize",
                        "Sugar cane"
                      ]
                    }
                  ],
                  "layout": {
                    "bargap": 0.15,
                    "font": {
                      "size": 14
                    },
                    "plot_bgcolor": "#FFFFFF",
                    "xaxis": {
                      "range": [
                        0,
                        1907024730
                      ],
                      "showline": true,
                      "visible": true
                    },
                    "yaxis": {
                      "showline": false,
                      "visible": true
                    }
                  },
                  "name": "2001"
                },
                {
                  "data": [
                    {
                      "cliponaxis": false,
                      "hoverinfo": "all",
                      "hovertemplate": "<extra></extra>",
                      "marker": {
                        "color": [
                          "rgb(69, 227, 216)",
                          "rgb(234, 127, 19)",
                          "rgb(247, 183, 217)",
                          "rgb(92, 171, 115)",
                          "rgb(255, 148, 50)",
                          "rgb(88, 192, 172)",
                          "rgb(41, 160, 91)",
                          "rgb(135, 126, 225)",
                          "rgb(49, 41, 74)",
                          "rgb(106, 205, 53)"
                        ]
                      },
                      "orientation": "h",
                      "textangle": 0,
                      "textposition": "outside",
                      "texttemplate": "%{y}<br>%{x:.4s}",
                      "type": "bar",
                      "x": [
                        180950733,
                        182642727,
                        226692031,
                        259606962,
                        309800226,
                        380891169,
                        571051228,
                        592045286,
                        603551954,
                        1326773955
                      ],
                      "y": [
                        "Soybeans",
                        "Cassava",
                        "Vegetables, fresh nes",
                        "Sugar beet",
                        "Potatoes",
                        "Rice, paddy (rice milled equivalent)",
                        "Rice, paddy",
                        "Wheat",
                        "Maize",
                        "Sugar cane"
                      ]
                    }
                  ],
                  "layout": {
                    "bargap": 0.15,
                    "font": {
                      "size": 14
                    },
                    "plot_bgcolor": "#FFFFFF",
                    "xaxis": {
                      "range": [
                        0,
                        1907024730
                      ],
                      "showline": true,
                      "visible": true
                    },
                    "yaxis": {
                      "showline": false,
                      "visible": true
                    }
                  },
                  "name": "2002"
                },
                {
                  "data": [
                    {
                      "cliponaxis": false,
                      "hoverinfo": "all",
                      "hovertemplate": "<extra></extra>",
                      "marker": {
                        "color": [
                          "rgb(69, 227, 216)",
                          "rgb(234, 127, 19)",
                          "rgb(92, 171, 115)",
                          "rgb(247, 183, 217)",
                          "rgb(255, 148, 50)",
                          "rgb(88, 192, 172)",
                          "rgb(135, 126, 225)",
                          "rgb(41, 160, 91)",
                          "rgb(49, 41, 74)",
                          "rgb(106, 205, 53)"
                        ]
                      },
                      "orientation": "h",
                      "textangle": 0,
                      "textposition": "outside",
                      "texttemplate": "%{y}<br>%{x:.4s}",
                      "type": "bar",
                      "x": [
                        190573528,
                        192215569,
                        232734248,
                        237183104,
                        307591201,
                        391483259,
                        549974473,
                        586931423,
                        645055272,
                        1371880978
                      ],
                      "y": [
                        "Soybeans",
                        "Cassava",
                        "Sugar beet",
                        "Vegetables, fresh nes",
                        "Potatoes",
                        "Rice, paddy (rice milled equivalent)",
                        "Wheat",
                        "Rice, paddy",
                        "Maize",
                        "Sugar cane"
                      ]
                    }
                  ],
                  "layout": {
                    "bargap": 0.15,
                    "font": {
                      "size": 14
                    },
                    "plot_bgcolor": "#FFFFFF",
                    "xaxis": {
                      "range": [
                        0,
                        1907024730
                      ],
                      "showline": true,
                      "visible": true
                    },
                    "yaxis": {
                      "showline": false,
                      "visible": true
                    }
                  },
                  "name": "2003"
                },
                {
                  "data": [
                    {
                      "cliponaxis": false,
                      "hoverinfo": "all",
                      "hovertemplate": "<extra></extra>",
                      "marker": {
                        "color": [
                          "rgb(234, 127, 19)",
                          "rgb(69, 227, 216)",
                          "rgb(247, 183, 217)",
                          "rgb(92, 171, 115)",
                          "rgb(255, 148, 50)",
                          "rgb(88, 192, 172)",
                          "rgb(41, 160, 91)",
                          "rgb(135, 126, 225)",
                          "rgb(49, 41, 74)",
                          "rgb(106, 205, 53)"
                        ]
                      },
                      "orientation": "h",
                      "textangle": 0,
                      "textposition": "outside",
                      "texttemplate": "%{y}<br>%{x:.4s}",
                      "type": "bar",
                      "x": [
                        203831956,
                        205548134,
                        224325418,
                        251589379,
                        328165612,
                        405101582,
                        607348698,
                        634666010,
                        729517951,
                        1333138427
                      ],
                      "y": [
                        "Cassava",
                        "Soybeans",
                        "Vegetables, fresh nes",
                        "Sugar beet",
                        "Potatoes",
                        "Rice, paddy (rice milled equivalent)",
                        "Rice, paddy",
                        "Wheat",
                        "Maize",
                        "Sugar cane"
                      ]
                    }
                  ],
                  "layout": {
                    "bargap": 0.15,
                    "font": {
                      "size": 14
                    },
                    "plot_bgcolor": "#FFFFFF",
                    "xaxis": {
                      "range": [
                        0,
                        1907024730
                      ],
                      "showline": true,
                      "visible": true
                    },
                    "yaxis": {
                      "showline": false,
                      "visible": true
                    }
                  },
                  "name": "2004"
                },
                {
                  "data": [
                    {
                      "cliponaxis": false,
                      "hoverinfo": "all",
                      "hovertemplate": "<extra></extra>",
                      "marker": {
                        "color": [
                          "rgb(234, 127, 19)",
                          "rgb(69, 227, 216)",
                          "rgb(247, 183, 217)",
                          "rgb(92, 171, 115)",
                          "rgb(255, 148, 50)",
                          "rgb(88, 192, 172)",
                          "rgb(135, 126, 225)",
                          "rgb(41, 160, 91)",
                          "rgb(49, 41, 74)",
                          "rgb(106, 205, 53)"
                        ]
                      },
                      "orientation": "h",
                      "textangle": 0,
                      "textposition": "outside",
                      "texttemplate": "%{y}<br>%{x:.4s}",
                      "type": "bar",
                      "x": [
                        206533771,
                        214542761,
                        231771630,
                        253737449,
                        317675179,
                        423028136,
                        627020836,
                        634225091,
                        714191174,
                        1306307695
                      ],
                      "y": [
                        "Cassava",
                        "Soybeans",
                        "Vegetables, fresh nes",
                        "Sugar beet",
                        "Potatoes",
                        "Rice, paddy (rice milled equivalent)",
                        "Wheat",
                        "Rice, paddy",
                        "Maize",
                        "Sugar cane"
                      ]
                    }
                  ],
                  "layout": {
                    "bargap": 0.15,
                    "font": {
                      "size": 14
                    },
                    "plot_bgcolor": "#FFFFFF",
                    "xaxis": {
                      "range": [
                        0,
                        1907024730
                      ],
                      "showline": true,
                      "visible": true
                    },
                    "yaxis": {
                      "showline": false,
                      "visible": true
                    }
                  },
                  "name": "2005"
                },
                {
                  "data": [
                    {
                      "cliponaxis": false,
                      "hoverinfo": "all",
                      "hovertemplate": "<extra></extra>",
                      "marker": {
                        "color": [
                          "rgb(69, 227, 216)",
                          "rgb(234, 127, 19)",
                          "rgb(247, 183, 217)",
                          "rgb(92, 171, 115)",
                          "rgb(255, 148, 50)",
                          "rgb(88, 192, 172)",
                          "rgb(135, 126, 225)",
                          "rgb(41, 160, 91)",
                          "rgb(49, 41, 74)",
                          "rgb(106, 205, 53)"
                        ]
                      },
                      "orientation": "h",
                      "textangle": 0,
                      "textposition": "outside",
                      "texttemplate": "%{y}<br>%{x:.4s}",
                      "type": "bar",
                      "x": [
                        221558922,
                        223636615,
                        241884277,
                        254025175,
                        307572166,
                        427350243,
                        614381123,
                        640705012,
                        707937211,
                        1417376025
                      ],
                      "y": [
                        "Soybeans",
                        "Cassava",
                        "Vegetables, fresh nes",
                        "Sugar beet",
                        "Potatoes",
                        "Rice, paddy (rice milled equivalent)",
                        "Wheat",
                        "Rice, paddy",
                        "Maize",
                        "Sugar cane"
                      ]
                    }
                  ],
                  "layout": {
                    "bargap": 0.15,
                    "font": {
                      "size": 14
                    },
                    "plot_bgcolor": "#FFFFFF",
                    "xaxis": {
                      "range": [
                        0,
                        1907024730
                      ],
                      "showline": true,
                      "visible": true
                    },
                    "yaxis": {
                      "showline": false,
                      "visible": true
                    }
                  },
                  "name": "2006"
                },
                {
                  "data": [
                    {
                      "cliponaxis": false,
                      "hoverinfo": "all",
                      "hovertemplate": "<extra></extra>",
                      "marker": {
                        "color": [
                          "rgb(69, 227, 216)",
                          "rgb(234, 127, 19)",
                          "rgb(247, 183, 217)",
                          "rgb(92, 171, 115)",
                          "rgb(255, 148, 50)",
                          "rgb(88, 192, 172)",
                          "rgb(135, 126, 225)",
                          "rgb(41, 160, 91)",
                          "rgb(49, 41, 74)",
                          "rgb(106, 205, 53)"
                        ]
                      },
                      "orientation": "h",
                      "textangle": 0,
                      "textposition": "outside",
                      "texttemplate": "%{y}<br>%{x:.4s}",
                      "type": "bar",
                      "x": [
                        219793075,
                        226974274,
                        244610984,
                        246945604,
                        313191368,
                        437923034,
                        606595140,
                        656556273,
                        792732888,
                        1605136205
                      ],
                      "y": [
                        "Soybeans",
                        "Cassava",
                        "Vegetables, fresh nes",
                        "Sugar beet",
                        "Potatoes",
                        "Rice, paddy (rice milled equivalent)",
                        "Wheat",
                        "Rice, paddy",
                        "Maize",
                        "Sugar cane"
                      ]
                    }
                  ],
                  "layout": {
                    "bargap": 0.15,
                    "font": {
                      "size": 14
                    },
                    "plot_bgcolor": "#FFFFFF",
                    "xaxis": {
                      "range": [
                        0,
                        1907024730
                      ],
                      "showline": true,
                      "visible": true
                    },
                    "yaxis": {
                      "showline": false,
                      "visible": true
                    }
                  },
                  "name": "2007"
                },
                {
                  "data": [
                    {
                      "cliponaxis": false,
                      "hoverinfo": "all",
                      "hovertemplate": "<extra></extra>",
                      "marker": {
                        "color": [
                          "rgb(92, 171, 115)",
                          "rgb(234, 127, 19)",
                          "rgb(69, 227, 216)",
                          "rgb(247, 183, 217)",
                          "rgb(255, 148, 50)",
                          "rgb(88, 192, 172)",
                          "rgb(135, 126, 225)",
                          "rgb(41, 160, 91)",
                          "rgb(49, 41, 74)",
                          "rgb(106, 205, 53)"
                        ]
                      },
                      "orientation": "h",
                      "textangle": 0,
                      "textposition": "outside",
                      "texttemplate": "%{y}<br>%{x:.4s}",
                      "type": "bar",
                      "x": [
                        221199239,
                        230081674,
                        231223485,
                        249305237,
                        327188473,
                        458262606,
                        680294443,
                        687050383,
                        829240208,
                        1721251508
                      ],
                      "y": [
                        "Sugar beet",
                        "Cassava",
                        "Soybeans",
                        "Vegetables, fresh nes",
                        "Potatoes",
                        "Rice, paddy (rice milled equivalent)",
                        "Wheat",
                        "Rice, paddy",
                        "Maize",
                        "Sugar cane"
                      ]
                    }
                  ],
                  "layout": {
                    "bargap": 0.15,
                    "font": {
                      "size": 14
                    },
                    "plot_bgcolor": "#FFFFFF",
                    "xaxis": {
                      "range": [
                        0,
                        1907024730
                      ],
                      "showline": true,
                      "visible": true
                    },
                    "yaxis": {
                      "showline": false,
                      "visible": true
                    }
                  },
                  "name": "2008"
                },
                {
                  "data": [
                    {
                      "cliponaxis": false,
                      "hoverinfo": "all",
                      "hovertemplate": "<extra></extra>",
                      "marker": {
                        "color": [
                          "rgb(69, 227, 216)",
                          "rgb(92, 171, 115)",
                          "rgb(234, 127, 19)",
                          "rgb(247, 183, 217)",
                          "rgb(255, 148, 50)",
                          "rgb(88, 192, 172)",
                          "rgb(135, 126, 225)",
                          "rgb(41, 160, 91)",
                          "rgb(49, 41, 74)",
                          "rgb(106, 205, 53)"
                        ]
                      },
                      "orientation": "h",
                      "textangle": 0,
                      "textposition": "outside",
                      "texttemplate": "%{y}<br>%{x:.4s}",
                      "type": "bar",
                      "x": [
                        223380802,
                        227985771,
                        233794346,
                        248581509,
                        330740148,
                        457333039,
                        683639171,
                        685656731,
                        820072448,
                        1677610596
                      ],
                      "y": [
                        "Soybeans",
                        "Sugar beet",
                        "Cassava",
                        "Vegetables, fresh nes",
                        "Potatoes",
                        "Rice, paddy (rice milled equivalent)",
                        "Wheat",
                        "Rice, paddy",
                        "Maize",
                        "Sugar cane"
                      ]
                    }
                  ],
                  "layout": {
                    "bargap": 0.15,
                    "font": {
                      "size": 14
                    },
                    "plot_bgcolor": "#FFFFFF",
                    "xaxis": {
                      "range": [
                        0,
                        1907024730
                      ],
                      "showline": true,
                      "visible": true
                    },
                    "yaxis": {
                      "showline": false,
                      "visible": true
                    }
                  },
                  "name": "2009"
                },
                {
                  "data": [
                    {
                      "cliponaxis": false,
                      "hoverinfo": "all",
                      "hovertemplate": "<extra></extra>",
                      "marker": {
                        "color": [
                          "rgb(92, 171, 115)",
                          "rgb(234, 127, 19)",
                          "rgb(247, 183, 217)",
                          "rgb(69, 227, 216)",
                          "rgb(255, 148, 50)",
                          "rgb(88, 192, 172)",
                          "rgb(135, 126, 225)",
                          "rgb(41, 160, 91)",
                          "rgb(49, 41, 74)",
                          "rgb(106, 205, 53)"
                        ]
                      },
                      "orientation": "h",
                      "textangle": 0,
                      "textposition": "outside",
                      "texttemplate": "%{y}<br>%{x:.4s}",
                      "type": "bar",
                      "x": [
                        228408922,
                        239296357,
                        259746276,
                        265088429,
                        328616920,
                        467659411,
                        640802665,
                        701138548,
                        851679519,
                        1682839957
                      ],
                      "y": [
                        "Sugar beet",
                        "Cassava",
                        "Vegetables, fresh nes",
                        "Soybeans",
                        "Potatoes",
                        "Rice, paddy (rice milled equivalent)",
                        "Wheat",
                        "Rice, paddy",
                        "Maize",
                        "Sugar cane"
                      ]
                    }
                  ],
                  "layout": {
                    "bargap": 0.15,
                    "font": {
                      "size": 14
                    },
                    "plot_bgcolor": "#FFFFFF",
                    "xaxis": {
                      "range": [
                        0,
                        1907024730
                      ],
                      "showline": true,
                      "visible": true
                    },
                    "yaxis": {
                      "showline": false,
                      "visible": true
                    }
                  },
                  "name": "2010"
                },
                {
                  "data": [
                    {
                      "cliponaxis": false,
                      "hoverinfo": "all",
                      "hovertemplate": "<extra></extra>",
                      "marker": {
                        "color": [
                          "rgb(234, 127, 19)",
                          "rgb(247, 183, 217)",
                          "rgb(69, 227, 216)",
                          "rgb(92, 171, 115)",
                          "rgb(255, 148, 50)",
                          "rgb(88, 192, 172)",
                          "rgb(135, 126, 225)",
                          "rgb(41, 160, 91)",
                          "rgb(49, 41, 74)",
                          "rgb(106, 205, 53)"
                        ]
                      },
                      "orientation": "h",
                      "textangle": 0,
                      "textposition": "outside",
                      "texttemplate": "%{y}<br>%{x:.4s}",
                      "type": "bar",
                      "x": [
                        251822205,
                        260842101,
                        261601653,
                        278833260,
                        367889898,
                        484492968,
                        696898368,
                        726376264,
                        886680581,
                        1794120501
                      ],
                      "y": [
                        "Cassava",
                        "Vegetables, fresh nes",
                        "Soybeans",
                        "Sugar beet",
                        "Potatoes",
                        "Rice, paddy (rice milled equivalent)",
                        "Wheat",
                        "Rice, paddy",
                        "Maize",
                        "Sugar cane"
                      ]
                    }
                  ],
                  "layout": {
                    "bargap": 0.15,
                    "font": {
                      "size": 14
                    },
                    "plot_bgcolor": "#FFFFFF",
                    "xaxis": {
                      "range": [
                        0,
                        1907024730
                      ],
                      "showline": true,
                      "visible": true
                    },
                    "yaxis": {
                      "showline": false,
                      "visible": true
                    }
                  },
                  "name": "2011"
                },
                {
                  "data": [
                    {
                      "cliponaxis": false,
                      "hoverinfo": "all",
                      "hovertemplate": "<extra></extra>",
                      "marker": {
                        "color": [
                          "rgb(99, 208, 163)",
                          "rgb(92, 171, 115)",
                          "rgb(247, 183, 217)",
                          "rgb(234, 127, 19)",
                          "rgb(255, 148, 50)",
                          "rgb(88, 192, 172)",
                          "rgb(135, 126, 225)",
                          "rgb(41, 160, 91)",
                          "rgb(49, 41, 74)",
                          "rgb(106, 205, 53)"
                        ]
                      },
                      "orientation": "h",
                      "textangle": 0,
                      "textposition": "outside",
                      "texttemplate": "%{y}<br>%{x:.4s}",
                      "type": "bar",
                      "x": [
                        256568919,
                        269637113,
                        272044780,
                        277683210,
                        361003266,
                        491310036,
                        673728907,
                        736596755,
                        875039160,
                        1831008220
                      ],
                      "y": [
                        "Oil palm fruit",
                        "Sugar beet",
                        "Vegetables, fresh nes",
                        "Cassava",
                        "Potatoes",
                        "Rice, paddy (rice milled equivalent)",
                        "Wheat",
                        "Rice, paddy",
                        "Maize",
                        "Sugar cane"
                      ]
                    }
                  ],
                  "layout": {
                    "bargap": 0.15,
                    "font": {
                      "size": 14
                    },
                    "plot_bgcolor": "#FFFFFF",
                    "xaxis": {
                      "range": [
                        0,
                        1907024730
                      ],
                      "showline": true,
                      "visible": true
                    },
                    "yaxis": {
                      "showline": false,
                      "visible": true
                    }
                  },
                  "name": "2012"
                },
                {
                  "data": [
                    {
                      "cliponaxis": false,
                      "hoverinfo": "all",
                      "hovertemplate": "<extra></extra>",
                      "marker": {
                        "color": [
                          "rgb(99, 208, 163)",
                          "rgb(69, 227, 216)",
                          "rgb(247, 183, 217)",
                          "rgb(234, 127, 19)",
                          "rgb(255, 148, 50)",
                          "rgb(88, 192, 172)",
                          "rgb(135, 126, 225)",
                          "rgb(41, 160, 91)",
                          "rgb(49, 41, 74)",
                          "rgb(106, 205, 53)"
                        ]
                      },
                      "orientation": "h",
                      "textangle": 0,
                      "textposition": "outside",
                      "texttemplate": "%{y}<br>%{x:.4s}",
                      "type": "bar",
                      "x": [
                        265060825,
                        277672608,
                        277982471,
                        278454322,
                        365087514,
                        495250794,
                        710397103,
                        742504938,
                        1016207182,
                        1901868866
                      ],
                      "y": [
                        "Oil palm fruit",
                        "Soybeans",
                        "Vegetables, fresh nes",
                        "Cassava",
                        "Potatoes",
                        "Rice, paddy (rice milled equivalent)",
                        "Wheat",
                        "Rice, paddy",
                        "Maize",
                        "Sugar cane"
                      ]
                    }
                  ],
                  "layout": {
                    "bargap": 0.15,
                    "font": {
                      "size": 14
                    },
                    "plot_bgcolor": "#FFFFFF",
                    "xaxis": {
                      "range": [
                        0,
                        1907024730
                      ],
                      "showline": true,
                      "visible": true
                    },
                    "yaxis": {
                      "showline": false,
                      "visible": true
                    }
                  },
                  "name": "2013"
                },
                {
                  "data": [
                    {
                      "cliponaxis": false,
                      "hoverinfo": "all",
                      "hovertemplate": "<extra></extra>",
                      "marker": {
                        "color": [
                          "rgb(247, 183, 217)",
                          "rgb(99, 208, 163)",
                          "rgb(234, 127, 19)",
                          "rgb(69, 227, 216)",
                          "rgb(255, 148, 50)",
                          "rgb(88, 192, 172)",
                          "rgb(135, 126, 225)",
                          "rgb(41, 160, 91)",
                          "rgb(49, 41, 74)",
                          "rgb(106, 205, 53)"
                        ]
                      },
                      "orientation": "h",
                      "textangle": 0,
                      "textposition": "outside",
                      "texttemplate": "%{y}<br>%{x:.4s}",
                      "type": "bar",
                      "x": [
                        285693443,
                        285916764,
                        290942989,
                        306348530,
                        369966532,
                        495216917,
                        728730126,
                        742454148,
                        1039226655,
                        1885955643
                      ],
                      "y": [
                        "Vegetables, fresh nes",
                        "Oil palm fruit",
                        "Cassava",
                        "Soybeans",
                        "Potatoes",
                        "Rice, paddy (rice milled equivalent)",
                        "Wheat",
                        "Rice, paddy",
                        "Maize",
                        "Sugar cane"
                      ]
                    }
                  ],
                  "layout": {
                    "bargap": 0.15,
                    "font": {
                      "size": 14
                    },
                    "plot_bgcolor": "#FFFFFF",
                    "xaxis": {
                      "range": [
                        0,
                        1907024730
                      ],
                      "showline": true,
                      "visible": true
                    },
                    "yaxis": {
                      "showline": false,
                      "visible": true
                    }
                  },
                  "name": "2014"
                },
                {
                  "data": [
                    {
                      "cliponaxis": false,
                      "hoverinfo": "all",
                      "hovertemplate": "<extra></extra>",
                      "marker": {
                        "color": [
                          "rgb(247, 183, 217)",
                          "rgb(234, 127, 19)",
                          "rgb(99, 208, 163)",
                          "rgb(69, 227, 216)",
                          "rgb(255, 148, 50)",
                          "rgb(88, 192, 172)",
                          "rgb(135, 126, 225)",
                          "rgb(41, 160, 91)",
                          "rgb(49, 41, 74)",
                          "rgb(106, 205, 53)"
                        ]
                      },
                      "orientation": "h",
                      "textangle": 0,
                      "textposition": "outside",
                      "texttemplate": "%{y}<br>%{x:.4s}",
                      "type": "bar",
                      "x": [
                        288931169,
                        293010305,
                        300284643,
                        323306702,
                        365748227,
                        497518927,
                        741643258,
                        745905437,
                        1052127378,
                        1875060932
                      ],
                      "y": [
                        "Vegetables, fresh nes",
                        "Cassava",
                        "Oil palm fruit",
                        "Soybeans",
                        "Potatoes",
                        "Rice, paddy (rice milled equivalent)",
                        "Wheat",
                        "Rice, paddy",
                        "Maize",
                        "Sugar cane"
                      ]
                    }
                  ],
                  "layout": {
                    "bargap": 0.15,
                    "font": {
                      "size": 14
                    },
                    "plot_bgcolor": "#FFFFFF",
                    "xaxis": {
                      "range": [
                        0,
                        1907024730
                      ],
                      "showline": true,
                      "visible": true
                    },
                    "yaxis": {
                      "showline": false,
                      "visible": true
                    }
                  },
                  "name": "2015"
                },
                {
                  "data": [
                    {
                      "cliponaxis": false,
                      "hoverinfo": "all",
                      "hovertemplate": "<extra></extra>",
                      "marker": {
                        "color": [
                          "rgb(92, 171, 115)",
                          "rgb(234, 127, 19)",
                          "rgb(247, 183, 217)",
                          "rgb(69, 227, 216)",
                          "rgb(255, 148, 50)",
                          "rgb(88, 192, 172)",
                          "rgb(135, 126, 225)",
                          "rgb(41, 160, 91)",
                          "rgb(49, 41, 74)",
                          "rgb(106, 205, 53)"
                        ]
                      },
                      "orientation": "h",
                      "textangle": 0,
                      "textposition": "outside",
                      "texttemplate": "%{y}<br>%{x:.4s}",
                      "type": "bar",
                      "x": [
                        278702349,
                        288497460,
                        292920885,
                        335613801,
                        356952488,
                        501507373,
                        748392150,
                        751885117,
                        1126990585,
                        1874611396
                      ],
                      "y": [
                        "Sugar beet",
                        "Cassava",
                        "Vegetables, fresh nes",
                        "Soybeans",
                        "Potatoes",
                        "Rice, paddy (rice milled equivalent)",
                        "Wheat",
                        "Rice, paddy",
                        "Maize",
                        "Sugar cane"
                      ]
                    }
                  ],
                  "layout": {
                    "bargap": 0.15,
                    "font": {
                      "size": 14
                    },
                    "plot_bgcolor": "#FFFFFF",
                    "xaxis": {
                      "range": [
                        0,
                        1907024730
                      ],
                      "showline": true,
                      "visible": true
                    },
                    "yaxis": {
                      "showline": false,
                      "visible": true
                    }
                  },
                  "name": "2016"
                },
                {
                  "data": [
                    {
                      "cliponaxis": false,
                      "hoverinfo": "all",
                      "hovertemplate": "<extra></extra>",
                      "marker": {
                        "color": [
                          "rgb(234, 127, 19)",
                          "rgb(247, 183, 217)",
                          "rgb(92, 171, 115)",
                          "rgb(69, 227, 216)",
                          "rgb(255, 148, 50)",
                          "rgb(88, 192, 172)",
                          "rgb(41, 160, 91)",
                          "rgb(135, 126, 225)",
                          "rgb(49, 41, 74)",
                          "rgb(106, 205, 53)"
                        ]
                      },
                      "orientation": "h",
                      "textangle": 0,
                      "textposition": "outside",
                      "texttemplate": "%{y}<br>%{x:.4s}",
                      "type": "bar",
                      "x": [
                        279304523,
                        294934038,
                        310374816,
                        353026796,
                        373774234,
                        513476024,
                        769829121,
                        773476524,
                        1164400832,
                        1851333716
                      ],
                      "y": [
                        "Cassava",
                        "Vegetables, fresh nes",
                        "Sugar beet",
                        "Soybeans",
                        "Potatoes",
                        "Rice, paddy (rice milled equivalent)",
                        "Rice, paddy",
                        "Wheat",
                        "Maize",
                        "Sugar cane"
                      ]
                    }
                  ],
                  "layout": {
                    "bargap": 0.15,
                    "font": {
                      "size": 14
                    },
                    "plot_bgcolor": "#FFFFFF",
                    "xaxis": {
                      "range": [
                        0,
                        1907024730
                      ],
                      "showline": true,
                      "visible": true
                    },
                    "yaxis": {
                      "showline": false,
                      "visible": true
                    }
                  },
                  "name": "2017"
                },
                {
                  "data": [
                    {
                      "cliponaxis": false,
                      "hoverinfo": "all",
                      "hovertemplate": "<extra></extra>",
                      "marker": {
                        "color": [
                          "rgb(92, 171, 115)",
                          "rgb(234, 127, 19)",
                          "rgb(247, 183, 217)",
                          "rgb(69, 227, 216)",
                          "rgb(255, 148, 50)",
                          "rgb(88, 192, 172)",
                          "rgb(135, 126, 225)",
                          "rgb(41, 160, 91)",
                          "rgb(49, 41, 74)",
                          "rgb(106, 205, 53)"
                        ]
                      },
                      "orientation": "h",
                      "textangle": 0,
                      "textposition": "outside",
                      "texttemplate": "%{y}<br>%{x:.4s}",
                      "type": "bar",
                      "x": [
                        274886306,
                        277808759,
                        297596674,
                        348712311,
                        368168914,
                        521594098,
                        734045174,
                        782000147,
                        1147621938,
                        1907024730
                      ],
                      "y": [
                        "Sugar beet",
                        "Cassava",
                        "Vegetables, fresh nes",
                        "Soybeans",
                        "Potatoes",
                        "Rice, paddy (rice milled equivalent)",
                        "Wheat",
                        "Rice, paddy",
                        "Maize",
                        "Sugar cane"
                      ]
                    }
                  ],
                  "layout": {
                    "bargap": 0.15,
                    "font": {
                      "size": 14
                    },
                    "plot_bgcolor": "#FFFFFF",
                    "xaxis": {
                      "range": [
                        0,
                        1907024730
                      ],
                      "showline": true,
                      "visible": true
                    },
                    "yaxis": {
                      "showline": false,
                      "visible": true
                    }
                  },
                  "name": "2018"
                }
              ],
              "layout": {
                "bargap": 0.15,
                "font": {
                  "size": 14
                },
                "plot_bgcolor": "#FFFFFF",
                "sliders": [
                  {
                    "active": 0,
                    "currentvalue": {
                      "font": {
                        "size": 20
                      },
                      "prefix": "Year: ",
                      "visible": true,
                      "xanchor": "right"
                    },
                    "len": 0.9,
                    "pad": {
                      "b": 10,
                      "t": 50
                    },
                    "steps": [
                      {
                        "args": [
                          [
                            "1961"
                          ],
                          {
                            "frame": {
                              "duration": 800,
                              "redraw": false
                            },
                            "mode": "immediate",
                            "transition": {
                              "duration": 800
                            }
                          }
                        ],
                        "label": "1961",
                        "method": "animate"
                      },
                      {
                        "args": [
                          [
                            "1962"
                          ],
                          {
                            "frame": {
                              "duration": 800,
                              "redraw": false
                            },
                            "mode": "immediate",
                            "transition": {
                              "duration": 800
                            }
                          }
                        ],
                        "label": "1962",
                        "method": "animate"
                      },
                      {
                        "args": [
                          [
                            "1963"
                          ],
                          {
                            "frame": {
                              "duration": 800,
                              "redraw": false
                            },
                            "mode": "immediate",
                            "transition": {
                              "duration": 800
                            }
                          }
                        ],
                        "label": "1963",
                        "method": "animate"
                      },
                      {
                        "args": [
                          [
                            "1964"
                          ],
                          {
                            "frame": {
                              "duration": 800,
                              "redraw": false
                            },
                            "mode": "immediate",
                            "transition": {
                              "duration": 800
                            }
                          }
                        ],
                        "label": "1964",
                        "method": "animate"
                      },
                      {
                        "args": [
                          [
                            "1965"
                          ],
                          {
                            "frame": {
                              "duration": 800,
                              "redraw": false
                            },
                            "mode": "immediate",
                            "transition": {
                              "duration": 800
                            }
                          }
                        ],
                        "label": "1965",
                        "method": "animate"
                      },
                      {
                        "args": [
                          [
                            "1966"
                          ],
                          {
                            "frame": {
                              "duration": 800,
                              "redraw": false
                            },
                            "mode": "immediate",
                            "transition": {
                              "duration": 800
                            }
                          }
                        ],
                        "label": "1966",
                        "method": "animate"
                      },
                      {
                        "args": [
                          [
                            "1967"
                          ],
                          {
                            "frame": {
                              "duration": 800,
                              "redraw": false
                            },
                            "mode": "immediate",
                            "transition": {
                              "duration": 800
                            }
                          }
                        ],
                        "label": "1967",
                        "method": "animate"
                      },
                      {
                        "args": [
                          [
                            "1968"
                          ],
                          {
                            "frame": {
                              "duration": 800,
                              "redraw": false
                            },
                            "mode": "immediate",
                            "transition": {
                              "duration": 800
                            }
                          }
                        ],
                        "label": "1968",
                        "method": "animate"
                      },
                      {
                        "args": [
                          [
                            "1969"
                          ],
                          {
                            "frame": {
                              "duration": 800,
                              "redraw": false
                            },
                            "mode": "immediate",
                            "transition": {
                              "duration": 800
                            }
                          }
                        ],
                        "label": "1969",
                        "method": "animate"
                      },
                      {
                        "args": [
                          [
                            "1970"
                          ],
                          {
                            "frame": {
                              "duration": 800,
                              "redraw": false
                            },
                            "mode": "immediate",
                            "transition": {
                              "duration": 800
                            }
                          }
                        ],
                        "label": "1970",
                        "method": "animate"
                      },
                      {
                        "args": [
                          [
                            "1971"
                          ],
                          {
                            "frame": {
                              "duration": 800,
                              "redraw": false
                            },
                            "mode": "immediate",
                            "transition": {
                              "duration": 800
                            }
                          }
                        ],
                        "label": "1971",
                        "method": "animate"
                      },
                      {
                        "args": [
                          [
                            "1972"
                          ],
                          {
                            "frame": {
                              "duration": 800,
                              "redraw": false
                            },
                            "mode": "immediate",
                            "transition": {
                              "duration": 800
                            }
                          }
                        ],
                        "label": "1972",
                        "method": "animate"
                      },
                      {
                        "args": [
                          [
                            "1973"
                          ],
                          {
                            "frame": {
                              "duration": 800,
                              "redraw": false
                            },
                            "mode": "immediate",
                            "transition": {
                              "duration": 800
                            }
                          }
                        ],
                        "label": "1973",
                        "method": "animate"
                      },
                      {
                        "args": [
                          [
                            "1974"
                          ],
                          {
                            "frame": {
                              "duration": 800,
                              "redraw": false
                            },
                            "mode": "immediate",
                            "transition": {
                              "duration": 800
                            }
                          }
                        ],
                        "label": "1974",
                        "method": "animate"
                      },
                      {
                        "args": [
                          [
                            "1975"
                          ],
                          {
                            "frame": {
                              "duration": 800,
                              "redraw": false
                            },
                            "mode": "immediate",
                            "transition": {
                              "duration": 800
                            }
                          }
                        ],
                        "label": "1975",
                        "method": "animate"
                      },
                      {
                        "args": [
                          [
                            "1976"
                          ],
                          {
                            "frame": {
                              "duration": 800,
                              "redraw": false
                            },
                            "mode": "immediate",
                            "transition": {
                              "duration": 800
                            }
                          }
                        ],
                        "label": "1976",
                        "method": "animate"
                      },
                      {
                        "args": [
                          [
                            "1977"
                          ],
                          {
                            "frame": {
                              "duration": 800,
                              "redraw": false
                            },
                            "mode": "immediate",
                            "transition": {
                              "duration": 800
                            }
                          }
                        ],
                        "label": "1977",
                        "method": "animate"
                      },
                      {
                        "args": [
                          [
                            "1978"
                          ],
                          {
                            "frame": {
                              "duration": 800,
                              "redraw": false
                            },
                            "mode": "immediate",
                            "transition": {
                              "duration": 800
                            }
                          }
                        ],
                        "label": "1978",
                        "method": "animate"
                      },
                      {
                        "args": [
                          [
                            "1979"
                          ],
                          {
                            "frame": {
                              "duration": 800,
                              "redraw": false
                            },
                            "mode": "immediate",
                            "transition": {
                              "duration": 800
                            }
                          }
                        ],
                        "label": "1979",
                        "method": "animate"
                      },
                      {
                        "args": [
                          [
                            "1980"
                          ],
                          {
                            "frame": {
                              "duration": 800,
                              "redraw": false
                            },
                            "mode": "immediate",
                            "transition": {
                              "duration": 800
                            }
                          }
                        ],
                        "label": "1980",
                        "method": "animate"
                      },
                      {
                        "args": [
                          [
                            "1981"
                          ],
                          {
                            "frame": {
                              "duration": 800,
                              "redraw": false
                            },
                            "mode": "immediate",
                            "transition": {
                              "duration": 800
                            }
                          }
                        ],
                        "label": "1981",
                        "method": "animate"
                      },
                      {
                        "args": [
                          [
                            "1982"
                          ],
                          {
                            "frame": {
                              "duration": 800,
                              "redraw": false
                            },
                            "mode": "immediate",
                            "transition": {
                              "duration": 800
                            }
                          }
                        ],
                        "label": "1982",
                        "method": "animate"
                      },
                      {
                        "args": [
                          [
                            "1983"
                          ],
                          {
                            "frame": {
                              "duration": 800,
                              "redraw": false
                            },
                            "mode": "immediate",
                            "transition": {
                              "duration": 800
                            }
                          }
                        ],
                        "label": "1983",
                        "method": "animate"
                      },
                      {
                        "args": [
                          [
                            "1984"
                          ],
                          {
                            "frame": {
                              "duration": 800,
                              "redraw": false
                            },
                            "mode": "immediate",
                            "transition": {
                              "duration": 800
                            }
                          }
                        ],
                        "label": "1984",
                        "method": "animate"
                      },
                      {
                        "args": [
                          [
                            "1985"
                          ],
                          {
                            "frame": {
                              "duration": 800,
                              "redraw": false
                            },
                            "mode": "immediate",
                            "transition": {
                              "duration": 800
                            }
                          }
                        ],
                        "label": "1985",
                        "method": "animate"
                      },
                      {
                        "args": [
                          [
                            "1986"
                          ],
                          {
                            "frame": {
                              "duration": 800,
                              "redraw": false
                            },
                            "mode": "immediate",
                            "transition": {
                              "duration": 800
                            }
                          }
                        ],
                        "label": "1986",
                        "method": "animate"
                      },
                      {
                        "args": [
                          [
                            "1987"
                          ],
                          {
                            "frame": {
                              "duration": 800,
                              "redraw": false
                            },
                            "mode": "immediate",
                            "transition": {
                              "duration": 800
                            }
                          }
                        ],
                        "label": "1987",
                        "method": "animate"
                      },
                      {
                        "args": [
                          [
                            "1988"
                          ],
                          {
                            "frame": {
                              "duration": 800,
                              "redraw": false
                            },
                            "mode": "immediate",
                            "transition": {
                              "duration": 800
                            }
                          }
                        ],
                        "label": "1988",
                        "method": "animate"
                      },
                      {
                        "args": [
                          [
                            "1989"
                          ],
                          {
                            "frame": {
                              "duration": 800,
                              "redraw": false
                            },
                            "mode": "immediate",
                            "transition": {
                              "duration": 800
                            }
                          }
                        ],
                        "label": "1989",
                        "method": "animate"
                      },
                      {
                        "args": [
                          [
                            "1990"
                          ],
                          {
                            "frame": {
                              "duration": 800,
                              "redraw": false
                            },
                            "mode": "immediate",
                            "transition": {
                              "duration": 800
                            }
                          }
                        ],
                        "label": "1990",
                        "method": "animate"
                      },
                      {
                        "args": [
                          [
                            "1991"
                          ],
                          {
                            "frame": {
                              "duration": 800,
                              "redraw": false
                            },
                            "mode": "immediate",
                            "transition": {
                              "duration": 800
                            }
                          }
                        ],
                        "label": "1991",
                        "method": "animate"
                      },
                      {
                        "args": [
                          [
                            "1992"
                          ],
                          {
                            "frame": {
                              "duration": 800,
                              "redraw": false
                            },
                            "mode": "immediate",
                            "transition": {
                              "duration": 800
                            }
                          }
                        ],
                        "label": "1992",
                        "method": "animate"
                      },
                      {
                        "args": [
                          [
                            "1993"
                          ],
                          {
                            "frame": {
                              "duration": 800,
                              "redraw": false
                            },
                            "mode": "immediate",
                            "transition": {
                              "duration": 800
                            }
                          }
                        ],
                        "label": "1993",
                        "method": "animate"
                      },
                      {
                        "args": [
                          [
                            "1994"
                          ],
                          {
                            "frame": {
                              "duration": 800,
                              "redraw": false
                            },
                            "mode": "immediate",
                            "transition": {
                              "duration": 800
                            }
                          }
                        ],
                        "label": "1994",
                        "method": "animate"
                      },
                      {
                        "args": [
                          [
                            "1995"
                          ],
                          {
                            "frame": {
                              "duration": 800,
                              "redraw": false
                            },
                            "mode": "immediate",
                            "transition": {
                              "duration": 800
                            }
                          }
                        ],
                        "label": "1995",
                        "method": "animate"
                      },
                      {
                        "args": [
                          [
                            "1996"
                          ],
                          {
                            "frame": {
                              "duration": 800,
                              "redraw": false
                            },
                            "mode": "immediate",
                            "transition": {
                              "duration": 800
                            }
                          }
                        ],
                        "label": "1996",
                        "method": "animate"
                      },
                      {
                        "args": [
                          [
                            "1997"
                          ],
                          {
                            "frame": {
                              "duration": 800,
                              "redraw": false
                            },
                            "mode": "immediate",
                            "transition": {
                              "duration": 800
                            }
                          }
                        ],
                        "label": "1997",
                        "method": "animate"
                      },
                      {
                        "args": [
                          [
                            "1998"
                          ],
                          {
                            "frame": {
                              "duration": 800,
                              "redraw": false
                            },
                            "mode": "immediate",
                            "transition": {
                              "duration": 800
                            }
                          }
                        ],
                        "label": "1998",
                        "method": "animate"
                      },
                      {
                        "args": [
                          [
                            "1999"
                          ],
                          {
                            "frame": {
                              "duration": 800,
                              "redraw": false
                            },
                            "mode": "immediate",
                            "transition": {
                              "duration": 800
                            }
                          }
                        ],
                        "label": "1999",
                        "method": "animate"
                      },
                      {
                        "args": [
                          [
                            "2000"
                          ],
                          {
                            "frame": {
                              "duration": 800,
                              "redraw": false
                            },
                            "mode": "immediate",
                            "transition": {
                              "duration": 800
                            }
                          }
                        ],
                        "label": "2000",
                        "method": "animate"
                      },
                      {
                        "args": [
                          [
                            "2001"
                          ],
                          {
                            "frame": {
                              "duration": 800,
                              "redraw": false
                            },
                            "mode": "immediate",
                            "transition": {
                              "duration": 800
                            }
                          }
                        ],
                        "label": "2001",
                        "method": "animate"
                      },
                      {
                        "args": [
                          [
                            "2002"
                          ],
                          {
                            "frame": {
                              "duration": 800,
                              "redraw": false
                            },
                            "mode": "immediate",
                            "transition": {
                              "duration": 800
                            }
                          }
                        ],
                        "label": "2002",
                        "method": "animate"
                      },
                      {
                        "args": [
                          [
                            "2003"
                          ],
                          {
                            "frame": {
                              "duration": 800,
                              "redraw": false
                            },
                            "mode": "immediate",
                            "transition": {
                              "duration": 800
                            }
                          }
                        ],
                        "label": "2003",
                        "method": "animate"
                      },
                      {
                        "args": [
                          [
                            "2004"
                          ],
                          {
                            "frame": {
                              "duration": 800,
                              "redraw": false
                            },
                            "mode": "immediate",
                            "transition": {
                              "duration": 800
                            }
                          }
                        ],
                        "label": "2004",
                        "method": "animate"
                      },
                      {
                        "args": [
                          [
                            "2005"
                          ],
                          {
                            "frame": {
                              "duration": 800,
                              "redraw": false
                            },
                            "mode": "immediate",
                            "transition": {
                              "duration": 800
                            }
                          }
                        ],
                        "label": "2005",
                        "method": "animate"
                      },
                      {
                        "args": [
                          [
                            "2006"
                          ],
                          {
                            "frame": {
                              "duration": 800,
                              "redraw": false
                            },
                            "mode": "immediate",
                            "transition": {
                              "duration": 800
                            }
                          }
                        ],
                        "label": "2006",
                        "method": "animate"
                      },
                      {
                        "args": [
                          [
                            "2007"
                          ],
                          {
                            "frame": {
                              "duration": 800,
                              "redraw": false
                            },
                            "mode": "immediate",
                            "transition": {
                              "duration": 800
                            }
                          }
                        ],
                        "label": "2007",
                        "method": "animate"
                      },
                      {
                        "args": [
                          [
                            "2008"
                          ],
                          {
                            "frame": {
                              "duration": 800,
                              "redraw": false
                            },
                            "mode": "immediate",
                            "transition": {
                              "duration": 800
                            }
                          }
                        ],
                        "label": "2008",
                        "method": "animate"
                      },
                      {
                        "args": [
                          [
                            "2009"
                          ],
                          {
                            "frame": {
                              "duration": 800,
                              "redraw": false
                            },
                            "mode": "immediate",
                            "transition": {
                              "duration": 800
                            }
                          }
                        ],
                        "label": "2009",
                        "method": "animate"
                      },
                      {
                        "args": [
                          [
                            "2010"
                          ],
                          {
                            "frame": {
                              "duration": 800,
                              "redraw": false
                            },
                            "mode": "immediate",
                            "transition": {
                              "duration": 800
                            }
                          }
                        ],
                        "label": "2010",
                        "method": "animate"
                      },
                      {
                        "args": [
                          [
                            "2011"
                          ],
                          {
                            "frame": {
                              "duration": 800,
                              "redraw": false
                            },
                            "mode": "immediate",
                            "transition": {
                              "duration": 800
                            }
                          }
                        ],
                        "label": "2011",
                        "method": "animate"
                      },
                      {
                        "args": [
                          [
                            "2012"
                          ],
                          {
                            "frame": {
                              "duration": 800,
                              "redraw": false
                            },
                            "mode": "immediate",
                            "transition": {
                              "duration": 800
                            }
                          }
                        ],
                        "label": "2012",
                        "method": "animate"
                      },
                      {
                        "args": [
                          [
                            "2013"
                          ],
                          {
                            "frame": {
                              "duration": 800,
                              "redraw": false
                            },
                            "mode": "immediate",
                            "transition": {
                              "duration": 800
                            }
                          }
                        ],
                        "label": "2013",
                        "method": "animate"
                      },
                      {
                        "args": [
                          [
                            "2014"
                          ],
                          {
                            "frame": {
                              "duration": 800,
                              "redraw": false
                            },
                            "mode": "immediate",
                            "transition": {
                              "duration": 800
                            }
                          }
                        ],
                        "label": "2014",
                        "method": "animate"
                      },
                      {
                        "args": [
                          [
                            "2015"
                          ],
                          {
                            "frame": {
                              "duration": 800,
                              "redraw": false
                            },
                            "mode": "immediate",
                            "transition": {
                              "duration": 800
                            }
                          }
                        ],
                        "label": "2015",
                        "method": "animate"
                      },
                      {
                        "args": [
                          [
                            "2016"
                          ],
                          {
                            "frame": {
                              "duration": 800,
                              "redraw": false
                            },
                            "mode": "immediate",
                            "transition": {
                              "duration": 800
                            }
                          }
                        ],
                        "label": "2016",
                        "method": "animate"
                      },
                      {
                        "args": [
                          [
                            "2017"
                          ],
                          {
                            "frame": {
                              "duration": 800,
                              "redraw": false
                            },
                            "mode": "immediate",
                            "transition": {
                              "duration": 800
                            }
                          }
                        ],
                        "label": "2017",
                        "method": "animate"
                      },
                      {
                        "args": [
                          [
                            "2018"
                          ],
                          {
                            "frame": {
                              "duration": 800,
                              "redraw": false
                            },
                            "mode": "immediate",
                            "transition": {
                              "duration": 800
                            }
                          }
                        ],
                        "label": "2018",
                        "method": "animate"
                      }
                    ],
                    "transition": {
                      "duration": 300,
                      "easing": "cubic-in-out"
                    },
                    "x": 0.1,
                    "xanchor": "left",
                    "y": 0,
                    "yanchor": "top"
                  }
                ],
                "template": {
                  "data": {
                    "bar": [
                      {
                        "error_x": {
                          "color": "#2a3f5f"
                        },
                        "error_y": {
                          "color": "#2a3f5f"
                        },
                        "marker": {
                          "line": {
                            "color": "#E5ECF6",
                            "width": 0.5
                          },
                          "pattern": {
                            "fillmode": "overlay",
                            "size": 10,
                            "solidity": 0.2
                          }
                        },
                        "type": "bar"
                      }
                    ],
                    "barpolar": [
                      {
                        "marker": {
                          "line": {
                            "color": "#E5ECF6",
                            "width": 0.5
                          },
                          "pattern": {
                            "fillmode": "overlay",
                            "size": 10,
                            "solidity": 0.2
                          }
                        },
                        "type": "barpolar"
                      }
                    ],
                    "carpet": [
                      {
                        "aaxis": {
                          "endlinecolor": "#2a3f5f",
                          "gridcolor": "white",
                          "linecolor": "white",
                          "minorgridcolor": "white",
                          "startlinecolor": "#2a3f5f"
                        },
                        "baxis": {
                          "endlinecolor": "#2a3f5f",
                          "gridcolor": "white",
                          "linecolor": "white",
                          "minorgridcolor": "white",
                          "startlinecolor": "#2a3f5f"
                        },
                        "type": "carpet"
                      }
                    ],
                    "choropleth": [
                      {
                        "colorbar": {
                          "outlinewidth": 0,
                          "ticks": ""
                        },
                        "type": "choropleth"
                      }
                    ],
                    "contour": [
                      {
                        "colorbar": {
                          "outlinewidth": 0,
                          "ticks": ""
                        },
                        "colorscale": [
                          [
                            0,
                            "#0d0887"
                          ],
                          [
                            0.1111111111111111,
                            "#46039f"
                          ],
                          [
                            0.2222222222222222,
                            "#7201a8"
                          ],
                          [
                            0.3333333333333333,
                            "#9c179e"
                          ],
                          [
                            0.4444444444444444,
                            "#bd3786"
                          ],
                          [
                            0.5555555555555556,
                            "#d8576b"
                          ],
                          [
                            0.6666666666666666,
                            "#ed7953"
                          ],
                          [
                            0.7777777777777778,
                            "#fb9f3a"
                          ],
                          [
                            0.8888888888888888,
                            "#fdca26"
                          ],
                          [
                            1,
                            "#f0f921"
                          ]
                        ],
                        "type": "contour"
                      }
                    ],
                    "contourcarpet": [
                      {
                        "colorbar": {
                          "outlinewidth": 0,
                          "ticks": ""
                        },
                        "type": "contourcarpet"
                      }
                    ],
                    "heatmap": [
                      {
                        "colorbar": {
                          "outlinewidth": 0,
                          "ticks": ""
                        },
                        "colorscale": [
                          [
                            0,
                            "#0d0887"
                          ],
                          [
                            0.1111111111111111,
                            "#46039f"
                          ],
                          [
                            0.2222222222222222,
                            "#7201a8"
                          ],
                          [
                            0.3333333333333333,
                            "#9c179e"
                          ],
                          [
                            0.4444444444444444,
                            "#bd3786"
                          ],
                          [
                            0.5555555555555556,
                            "#d8576b"
                          ],
                          [
                            0.6666666666666666,
                            "#ed7953"
                          ],
                          [
                            0.7777777777777778,
                            "#fb9f3a"
                          ],
                          [
                            0.8888888888888888,
                            "#fdca26"
                          ],
                          [
                            1,
                            "#f0f921"
                          ]
                        ],
                        "type": "heatmap"
                      }
                    ],
                    "heatmapgl": [
                      {
                        "colorbar": {
                          "outlinewidth": 0,
                          "ticks": ""
                        },
                        "colorscale": [
                          [
                            0,
                            "#0d0887"
                          ],
                          [
                            0.1111111111111111,
                            "#46039f"
                          ],
                          [
                            0.2222222222222222,
                            "#7201a8"
                          ],
                          [
                            0.3333333333333333,
                            "#9c179e"
                          ],
                          [
                            0.4444444444444444,
                            "#bd3786"
                          ],
                          [
                            0.5555555555555556,
                            "#d8576b"
                          ],
                          [
                            0.6666666666666666,
                            "#ed7953"
                          ],
                          [
                            0.7777777777777778,
                            "#fb9f3a"
                          ],
                          [
                            0.8888888888888888,
                            "#fdca26"
                          ],
                          [
                            1,
                            "#f0f921"
                          ]
                        ],
                        "type": "heatmapgl"
                      }
                    ],
                    "histogram": [
                      {
                        "marker": {
                          "pattern": {
                            "fillmode": "overlay",
                            "size": 10,
                            "solidity": 0.2
                          }
                        },
                        "type": "histogram"
                      }
                    ],
                    "histogram2d": [
                      {
                        "colorbar": {
                          "outlinewidth": 0,
                          "ticks": ""
                        },
                        "colorscale": [
                          [
                            0,
                            "#0d0887"
                          ],
                          [
                            0.1111111111111111,
                            "#46039f"
                          ],
                          [
                            0.2222222222222222,
                            "#7201a8"
                          ],
                          [
                            0.3333333333333333,
                            "#9c179e"
                          ],
                          [
                            0.4444444444444444,
                            "#bd3786"
                          ],
                          [
                            0.5555555555555556,
                            "#d8576b"
                          ],
                          [
                            0.6666666666666666,
                            "#ed7953"
                          ],
                          [
                            0.7777777777777778,
                            "#fb9f3a"
                          ],
                          [
                            0.8888888888888888,
                            "#fdca26"
                          ],
                          [
                            1,
                            "#f0f921"
                          ]
                        ],
                        "type": "histogram2d"
                      }
                    ],
                    "histogram2dcontour": [
                      {
                        "colorbar": {
                          "outlinewidth": 0,
                          "ticks": ""
                        },
                        "colorscale": [
                          [
                            0,
                            "#0d0887"
                          ],
                          [
                            0.1111111111111111,
                            "#46039f"
                          ],
                          [
                            0.2222222222222222,
                            "#7201a8"
                          ],
                          [
                            0.3333333333333333,
                            "#9c179e"
                          ],
                          [
                            0.4444444444444444,
                            "#bd3786"
                          ],
                          [
                            0.5555555555555556,
                            "#d8576b"
                          ],
                          [
                            0.6666666666666666,
                            "#ed7953"
                          ],
                          [
                            0.7777777777777778,
                            "#fb9f3a"
                          ],
                          [
                            0.8888888888888888,
                            "#fdca26"
                          ],
                          [
                            1,
                            "#f0f921"
                          ]
                        ],
                        "type": "histogram2dcontour"
                      }
                    ],
                    "mesh3d": [
                      {
                        "colorbar": {
                          "outlinewidth": 0,
                          "ticks": ""
                        },
                        "type": "mesh3d"
                      }
                    ],
                    "parcoords": [
                      {
                        "line": {
                          "colorbar": {
                            "outlinewidth": 0,
                            "ticks": ""
                          }
                        },
                        "type": "parcoords"
                      }
                    ],
                    "pie": [
                      {
                        "automargin": true,
                        "type": "pie"
                      }
                    ],
                    "scatter": [
                      {
                        "fillpattern": {
                          "fillmode": "overlay",
                          "size": 10,
                          "solidity": 0.2
                        },
                        "type": "scatter"
                      }
                    ],
                    "scatter3d": [
                      {
                        "line": {
                          "colorbar": {
                            "outlinewidth": 0,
                            "ticks": ""
                          }
                        },
                        "marker": {
                          "colorbar": {
                            "outlinewidth": 0,
                            "ticks": ""
                          }
                        },
                        "type": "scatter3d"
                      }
                    ],
                    "scattercarpet": [
                      {
                        "marker": {
                          "colorbar": {
                            "outlinewidth": 0,
                            "ticks": ""
                          }
                        },
                        "type": "scattercarpet"
                      }
                    ],
                    "scattergeo": [
                      {
                        "marker": {
                          "colorbar": {
                            "outlinewidth": 0,
                            "ticks": ""
                          }
                        },
                        "type": "scattergeo"
                      }
                    ],
                    "scattergl": [
                      {
                        "marker": {
                          "colorbar": {
                            "outlinewidth": 0,
                            "ticks": ""
                          }
                        },
                        "type": "scattergl"
                      }
                    ],
                    "scattermapbox": [
                      {
                        "marker": {
                          "colorbar": {
                            "outlinewidth": 0,
                            "ticks": ""
                          }
                        },
                        "type": "scattermapbox"
                      }
                    ],
                    "scatterpolar": [
                      {
                        "marker": {
                          "colorbar": {
                            "outlinewidth": 0,
                            "ticks": ""
                          }
                        },
                        "type": "scatterpolar"
                      }
                    ],
                    "scatterpolargl": [
                      {
                        "marker": {
                          "colorbar": {
                            "outlinewidth": 0,
                            "ticks": ""
                          }
                        },
                        "type": "scatterpolargl"
                      }
                    ],
                    "scatterternary": [
                      {
                        "marker": {
                          "colorbar": {
                            "outlinewidth": 0,
                            "ticks": ""
                          }
                        },
                        "type": "scatterternary"
                      }
                    ],
                    "surface": [
                      {
                        "colorbar": {
                          "outlinewidth": 0,
                          "ticks": ""
                        },
                        "colorscale": [
                          [
                            0,
                            "#0d0887"
                          ],
                          [
                            0.1111111111111111,
                            "#46039f"
                          ],
                          [
                            0.2222222222222222,
                            "#7201a8"
                          ],
                          [
                            0.3333333333333333,
                            "#9c179e"
                          ],
                          [
                            0.4444444444444444,
                            "#bd3786"
                          ],
                          [
                            0.5555555555555556,
                            "#d8576b"
                          ],
                          [
                            0.6666666666666666,
                            "#ed7953"
                          ],
                          [
                            0.7777777777777778,
                            "#fb9f3a"
                          ],
                          [
                            0.8888888888888888,
                            "#fdca26"
                          ],
                          [
                            1,
                            "#f0f921"
                          ]
                        ],
                        "type": "surface"
                      }
                    ],
                    "table": [
                      {
                        "cells": {
                          "fill": {
                            "color": "#EBF0F8"
                          },
                          "line": {
                            "color": "white"
                          }
                        },
                        "header": {
                          "fill": {
                            "color": "#C8D4E3"
                          },
                          "line": {
                            "color": "white"
                          }
                        },
                        "type": "table"
                      }
                    ]
                  },
                  "layout": {
                    "annotationdefaults": {
                      "arrowcolor": "#2a3f5f",
                      "arrowhead": 0,
                      "arrowwidth": 1
                    },
                    "autotypenumbers": "strict",
                    "coloraxis": {
                      "colorbar": {
                        "outlinewidth": 0,
                        "ticks": ""
                      }
                    },
                    "colorscale": {
                      "diverging": [
                        [
                          0,
                          "#8e0152"
                        ],
                        [
                          0.1,
                          "#c51b7d"
                        ],
                        [
                          0.2,
                          "#de77ae"
                        ],
                        [
                          0.3,
                          "#f1b6da"
                        ],
                        [
                          0.4,
                          "#fde0ef"
                        ],
                        [
                          0.5,
                          "#f7f7f7"
                        ],
                        [
                          0.6,
                          "#e6f5d0"
                        ],
                        [
                          0.7,
                          "#b8e186"
                        ],
                        [
                          0.8,
                          "#7fbc41"
                        ],
                        [
                          0.9,
                          "#4d9221"
                        ],
                        [
                          1,
                          "#276419"
                        ]
                      ],
                      "sequential": [
                        [
                          0,
                          "#0d0887"
                        ],
                        [
                          0.1111111111111111,
                          "#46039f"
                        ],
                        [
                          0.2222222222222222,
                          "#7201a8"
                        ],
                        [
                          0.3333333333333333,
                          "#9c179e"
                        ],
                        [
                          0.4444444444444444,
                          "#bd3786"
                        ],
                        [
                          0.5555555555555556,
                          "#d8576b"
                        ],
                        [
                          0.6666666666666666,
                          "#ed7953"
                        ],
                        [
                          0.7777777777777778,
                          "#fb9f3a"
                        ],
                        [
                          0.8888888888888888,
                          "#fdca26"
                        ],
                        [
                          1,
                          "#f0f921"
                        ]
                      ],
                      "sequentialminus": [
                        [
                          0,
                          "#0d0887"
                        ],
                        [
                          0.1111111111111111,
                          "#46039f"
                        ],
                        [
                          0.2222222222222222,
                          "#7201a8"
                        ],
                        [
                          0.3333333333333333,
                          "#9c179e"
                        ],
                        [
                          0.4444444444444444,
                          "#bd3786"
                        ],
                        [
                          0.5555555555555556,
                          "#d8576b"
                        ],
                        [
                          0.6666666666666666,
                          "#ed7953"
                        ],
                        [
                          0.7777777777777778,
                          "#fb9f3a"
                        ],
                        [
                          0.8888888888888888,
                          "#fdca26"
                        ],
                        [
                          1,
                          "#f0f921"
                        ]
                      ]
                    },
                    "colorway": [
                      "#636efa",
                      "#EF553B",
                      "#00cc96",
                      "#ab63fa",
                      "#FFA15A",
                      "#19d3f3",
                      "#FF6692",
                      "#B6E880",
                      "#FF97FF",
                      "#FECB52"
                    ],
                    "font": {
                      "color": "#2a3f5f"
                    },
                    "geo": {
                      "bgcolor": "white",
                      "lakecolor": "white",
                      "landcolor": "#E5ECF6",
                      "showlakes": true,
                      "showland": true,
                      "subunitcolor": "white"
                    },
                    "hoverlabel": {
                      "align": "left"
                    },
                    "hovermode": "closest",
                    "mapbox": {
                      "style": "light"
                    },
                    "paper_bgcolor": "white",
                    "plot_bgcolor": "#E5ECF6",
                    "polar": {
                      "angularaxis": {
                        "gridcolor": "white",
                        "linecolor": "white",
                        "ticks": ""
                      },
                      "bgcolor": "#E5ECF6",
                      "radialaxis": {
                        "gridcolor": "white",
                        "linecolor": "white",
                        "ticks": ""
                      }
                    },
                    "scene": {
                      "xaxis": {
                        "backgroundcolor": "#E5ECF6",
                        "gridcolor": "white",
                        "gridwidth": 2,
                        "linecolor": "white",
                        "showbackground": true,
                        "ticks": "",
                        "zerolinecolor": "white"
                      },
                      "yaxis": {
                        "backgroundcolor": "#E5ECF6",
                        "gridcolor": "white",
                        "gridwidth": 2,
                        "linecolor": "white",
                        "showbackground": true,
                        "ticks": "",
                        "zerolinecolor": "white"
                      },
                      "zaxis": {
                        "backgroundcolor": "#E5ECF6",
                        "gridcolor": "white",
                        "gridwidth": 2,
                        "linecolor": "white",
                        "showbackground": true,
                        "ticks": "",
                        "zerolinecolor": "white"
                      }
                    },
                    "shapedefaults": {
                      "line": {
                        "color": "#2a3f5f"
                      }
                    },
                    "ternary": {
                      "aaxis": {
                        "gridcolor": "white",
                        "linecolor": "white",
                        "ticks": ""
                      },
                      "baxis": {
                        "gridcolor": "white",
                        "linecolor": "white",
                        "ticks": ""
                      },
                      "bgcolor": "#E5ECF6",
                      "caxis": {
                        "gridcolor": "white",
                        "linecolor": "white",
                        "ticks": ""
                      }
                    },
                    "title": {
                      "x": 0.05
                    },
                    "xaxis": {
                      "automargin": true,
                      "gridcolor": "white",
                      "linecolor": "white",
                      "ticks": "",
                      "title": {
                        "standoff": 15
                      },
                      "zerolinecolor": "white",
                      "zerolinewidth": 2
                    },
                    "yaxis": {
                      "automargin": true,
                      "gridcolor": "white",
                      "linecolor": "white",
                      "ticks": "",
                      "title": {
                        "standoff": 15
                      },
                      "zerolinecolor": "white",
                      "zerolinewidth": 2
                    }
                  }
                },
                "updatemenus": [
                  {
                    "buttons": [
                      {
                        "args": [
                          null,
                          {
                            "frame": {
                              "duration": 800,
                              "redraw": false
                            },
                            "fromcurrent": true,
                            "transition": {
                              "duration": 800,
                              "easing": "quadratic-in-out"
                            }
                          }
                        ],
                        "label": "Play",
                        "method": "animate"
                      },
                      {
                        "args": [
                          [
                            null
                          ],
                          {
                            "frame": {
                              "duration": 0,
                              "redraw": false
                            },
                            "mode": "immediate",
                            "transition": {
                              "duration": 0
                            }
                          }
                        ],
                        "label": "Pause",
                        "method": "animate"
                      }
                    ],
                    "direction": "left",
                    "pad": {
                      "r": 10,
                      "t": 87
                    },
                    "showactive": true,
                    "type": "buttons",
                    "x": 0.1,
                    "xanchor": "right",
                    "y": 0,
                    "yanchor": "top"
                  }
                ],
                "xaxis": {
                  "range": [
                    0,
                    1907024730
                  ],
                  "showline": true,
                  "showticklabels": true,
                  "title": {
                    "text": "Production quantity (tonnes)"
                  },
                  "visible": true
                },
                "yaxis": {
                  "showline": false,
                  "showticklabels": false,
                  "title": {
                    "text": "Top 10 crops"
                  },
                  "visible": true
                }
              }
            },
            "text/html": [
              "<div>                        <script type=\"text/javascript\">window.PlotlyConfig = {MathJaxConfig: 'local'};</script>\n",
              "        <script src=\"https://cdn.plot.ly/plotly-2.16.1.min.js\"></script>                <div id=\"3a100d65-7581-4b39-aa10-628fdd20c71c\" class=\"plotly-graph-div\" style=\"height:100%; width:100%;\"></div>            <script type=\"text/javascript\">                                    window.PLOTLYENV=window.PLOTLYENV || {};                                    if (document.getElementById(\"3a100d65-7581-4b39-aa10-628fdd20c71c\")) {                    Plotly.newPlot(                        \"3a100d65-7581-4b39-aa10-628fdd20c71c\",                        [{\"cliponaxis\":false,\"hoverinfo\":\"all\",\"marker\":{\"color\":[\"rgb(234, 127, 19)\",\"rgb(31, 220, 223)\",\"rgb(204, 223, 90)\",\"rgb(88, 192, 172)\",\"rgb(92, 171, 115)\",\"rgb(49, 41, 74)\",\"rgb(41, 160, 91)\",\"rgb(135, 126, 225)\",\"rgb(255, 148, 50)\",\"rgb(106, 205, 53)\"]},\"orientation\":\"h\",\"textangle\":0,\"textposition\":\"outside\",\"texttemplate\":\"%{y}<br>%{x:.4s}\",\"x\":[71259839.0,72411104.0,98192635.0,143836304.0,160501987.0,205027583.0,215646633.0,222357231.0,270552196.0,447977522.0],\"y\":[\"Cassava\",\"Barley\",\"Sweet potatoes\",\"Rice, paddy (rice milled equivalent)\",\"Sugar beet\",\"Maize\",\"Rice, paddy\",\"Wheat\",\"Potatoes\",\"Sugar cane\"],\"type\":\"bar\"}],                        {\"bargap\":0.15,\"font\":{\"size\":14},\"plot_bgcolor\":\"#FFFFFF\",\"xaxis\":{\"range\":[0,1907024730.0],\"showline\":true,\"visible\":true,\"title\":{\"text\":\"Production quantity (tonnes)\"},\"showticklabels\":true},\"yaxis\":{\"showline\":false,\"visible\":true,\"title\":{\"text\":\"Top 10 crops\"},\"showticklabels\":false},\"template\":{\"data\":{\"histogram2dcontour\":[{\"type\":\"histogram2dcontour\",\"colorbar\":{\"outlinewidth\":0,\"ticks\":\"\"},\"colorscale\":[[0.0,\"#0d0887\"],[0.1111111111111111,\"#46039f\"],[0.2222222222222222,\"#7201a8\"],[0.3333333333333333,\"#9c179e\"],[0.4444444444444444,\"#bd3786\"],[0.5555555555555556,\"#d8576b\"],[0.6666666666666666,\"#ed7953\"],[0.7777777777777778,\"#fb9f3a\"],[0.8888888888888888,\"#fdca26\"],[1.0,\"#f0f921\"]]}],\"choropleth\":[{\"type\":\"choropleth\",\"colorbar\":{\"outlinewidth\":0,\"ticks\":\"\"}}],\"histogram2d\":[{\"type\":\"histogram2d\",\"colorbar\":{\"outlinewidth\":0,\"ticks\":\"\"},\"colorscale\":[[0.0,\"#0d0887\"],[0.1111111111111111,\"#46039f\"],[0.2222222222222222,\"#7201a8\"],[0.3333333333333333,\"#9c179e\"],[0.4444444444444444,\"#bd3786\"],[0.5555555555555556,\"#d8576b\"],[0.6666666666666666,\"#ed7953\"],[0.7777777777777778,\"#fb9f3a\"],[0.8888888888888888,\"#fdca26\"],[1.0,\"#f0f921\"]]}],\"heatmap\":[{\"type\":\"heatmap\",\"colorbar\":{\"outlinewidth\":0,\"ticks\":\"\"},\"colorscale\":[[0.0,\"#0d0887\"],[0.1111111111111111,\"#46039f\"],[0.2222222222222222,\"#7201a8\"],[0.3333333333333333,\"#9c179e\"],[0.4444444444444444,\"#bd3786\"],[0.5555555555555556,\"#d8576b\"],[0.6666666666666666,\"#ed7953\"],[0.7777777777777778,\"#fb9f3a\"],[0.8888888888888888,\"#fdca26\"],[1.0,\"#f0f921\"]]}],\"heatmapgl\":[{\"type\":\"heatmapgl\",\"colorbar\":{\"outlinewidth\":0,\"ticks\":\"\"},\"colorscale\":[[0.0,\"#0d0887\"],[0.1111111111111111,\"#46039f\"],[0.2222222222222222,\"#7201a8\"],[0.3333333333333333,\"#9c179e\"],[0.4444444444444444,\"#bd3786\"],[0.5555555555555556,\"#d8576b\"],[0.6666666666666666,\"#ed7953\"],[0.7777777777777778,\"#fb9f3a\"],[0.8888888888888888,\"#fdca26\"],[1.0,\"#f0f921\"]]}],\"contourcarpet\":[{\"type\":\"contourcarpet\",\"colorbar\":{\"outlinewidth\":0,\"ticks\":\"\"}}],\"contour\":[{\"type\":\"contour\",\"colorbar\":{\"outlinewidth\":0,\"ticks\":\"\"},\"colorscale\":[[0.0,\"#0d0887\"],[0.1111111111111111,\"#46039f\"],[0.2222222222222222,\"#7201a8\"],[0.3333333333333333,\"#9c179e\"],[0.4444444444444444,\"#bd3786\"],[0.5555555555555556,\"#d8576b\"],[0.6666666666666666,\"#ed7953\"],[0.7777777777777778,\"#fb9f3a\"],[0.8888888888888888,\"#fdca26\"],[1.0,\"#f0f921\"]]}],\"surface\":[{\"type\":\"surface\",\"colorbar\":{\"outlinewidth\":0,\"ticks\":\"\"},\"colorscale\":[[0.0,\"#0d0887\"],[0.1111111111111111,\"#46039f\"],[0.2222222222222222,\"#7201a8\"],[0.3333333333333333,\"#9c179e\"],[0.4444444444444444,\"#bd3786\"],[0.5555555555555556,\"#d8576b\"],[0.6666666666666666,\"#ed7953\"],[0.7777777777777778,\"#fb9f3a\"],[0.8888888888888888,\"#fdca26\"],[1.0,\"#f0f921\"]]}],\"mesh3d\":[{\"type\":\"mesh3d\",\"colorbar\":{\"outlinewidth\":0,\"ticks\":\"\"}}],\"scatter\":[{\"fillpattern\":{\"fillmode\":\"overlay\",\"size\":10,\"solidity\":0.2},\"type\":\"scatter\"}],\"parcoords\":[{\"type\":\"parcoords\",\"line\":{\"colorbar\":{\"outlinewidth\":0,\"ticks\":\"\"}}}],\"scatterpolargl\":[{\"type\":\"scatterpolargl\",\"marker\":{\"colorbar\":{\"outlinewidth\":0,\"ticks\":\"\"}}}],\"bar\":[{\"error_x\":{\"color\":\"#2a3f5f\"},\"error_y\":{\"color\":\"#2a3f5f\"},\"marker\":{\"line\":{\"color\":\"#E5ECF6\",\"width\":0.5},\"pattern\":{\"fillmode\":\"overlay\",\"size\":10,\"solidity\":0.2}},\"type\":\"bar\"}],\"scattergeo\":[{\"type\":\"scattergeo\",\"marker\":{\"colorbar\":{\"outlinewidth\":0,\"ticks\":\"\"}}}],\"scatterpolar\":[{\"type\":\"scatterpolar\",\"marker\":{\"colorbar\":{\"outlinewidth\":0,\"ticks\":\"\"}}}],\"histogram\":[{\"marker\":{\"pattern\":{\"fillmode\":\"overlay\",\"size\":10,\"solidity\":0.2}},\"type\":\"histogram\"}],\"scattergl\":[{\"type\":\"scattergl\",\"marker\":{\"colorbar\":{\"outlinewidth\":0,\"ticks\":\"\"}}}],\"scatter3d\":[{\"type\":\"scatter3d\",\"line\":{\"colorbar\":{\"outlinewidth\":0,\"ticks\":\"\"}},\"marker\":{\"colorbar\":{\"outlinewidth\":0,\"ticks\":\"\"}}}],\"scattermapbox\":[{\"type\":\"scattermapbox\",\"marker\":{\"colorbar\":{\"outlinewidth\":0,\"ticks\":\"\"}}}],\"scatterternary\":[{\"type\":\"scatterternary\",\"marker\":{\"colorbar\":{\"outlinewidth\":0,\"ticks\":\"\"}}}],\"scattercarpet\":[{\"type\":\"scattercarpet\",\"marker\":{\"colorbar\":{\"outlinewidth\":0,\"ticks\":\"\"}}}],\"carpet\":[{\"aaxis\":{\"endlinecolor\":\"#2a3f5f\",\"gridcolor\":\"white\",\"linecolor\":\"white\",\"minorgridcolor\":\"white\",\"startlinecolor\":\"#2a3f5f\"},\"baxis\":{\"endlinecolor\":\"#2a3f5f\",\"gridcolor\":\"white\",\"linecolor\":\"white\",\"minorgridcolor\":\"white\",\"startlinecolor\":\"#2a3f5f\"},\"type\":\"carpet\"}],\"table\":[{\"cells\":{\"fill\":{\"color\":\"#EBF0F8\"},\"line\":{\"color\":\"white\"}},\"header\":{\"fill\":{\"color\":\"#C8D4E3\"},\"line\":{\"color\":\"white\"}},\"type\":\"table\"}],\"barpolar\":[{\"marker\":{\"line\":{\"color\":\"#E5ECF6\",\"width\":0.5},\"pattern\":{\"fillmode\":\"overlay\",\"size\":10,\"solidity\":0.2}},\"type\":\"barpolar\"}],\"pie\":[{\"automargin\":true,\"type\":\"pie\"}]},\"layout\":{\"autotypenumbers\":\"strict\",\"colorway\":[\"#636efa\",\"#EF553B\",\"#00cc96\",\"#ab63fa\",\"#FFA15A\",\"#19d3f3\",\"#FF6692\",\"#B6E880\",\"#FF97FF\",\"#FECB52\"],\"font\":{\"color\":\"#2a3f5f\"},\"hovermode\":\"closest\",\"hoverlabel\":{\"align\":\"left\"},\"paper_bgcolor\":\"white\",\"plot_bgcolor\":\"#E5ECF6\",\"polar\":{\"bgcolor\":\"#E5ECF6\",\"angularaxis\":{\"gridcolor\":\"white\",\"linecolor\":\"white\",\"ticks\":\"\"},\"radialaxis\":{\"gridcolor\":\"white\",\"linecolor\":\"white\",\"ticks\":\"\"}},\"ternary\":{\"bgcolor\":\"#E5ECF6\",\"aaxis\":{\"gridcolor\":\"white\",\"linecolor\":\"white\",\"ticks\":\"\"},\"baxis\":{\"gridcolor\":\"white\",\"linecolor\":\"white\",\"ticks\":\"\"},\"caxis\":{\"gridcolor\":\"white\",\"linecolor\":\"white\",\"ticks\":\"\"}},\"coloraxis\":{\"colorbar\":{\"outlinewidth\":0,\"ticks\":\"\"}},\"colorscale\":{\"sequential\":[[0.0,\"#0d0887\"],[0.1111111111111111,\"#46039f\"],[0.2222222222222222,\"#7201a8\"],[0.3333333333333333,\"#9c179e\"],[0.4444444444444444,\"#bd3786\"],[0.5555555555555556,\"#d8576b\"],[0.6666666666666666,\"#ed7953\"],[0.7777777777777778,\"#fb9f3a\"],[0.8888888888888888,\"#fdca26\"],[1.0,\"#f0f921\"]],\"sequentialminus\":[[0.0,\"#0d0887\"],[0.1111111111111111,\"#46039f\"],[0.2222222222222222,\"#7201a8\"],[0.3333333333333333,\"#9c179e\"],[0.4444444444444444,\"#bd3786\"],[0.5555555555555556,\"#d8576b\"],[0.6666666666666666,\"#ed7953\"],[0.7777777777777778,\"#fb9f3a\"],[0.8888888888888888,\"#fdca26\"],[1.0,\"#f0f921\"]],\"diverging\":[[0,\"#8e0152\"],[0.1,\"#c51b7d\"],[0.2,\"#de77ae\"],[0.3,\"#f1b6da\"],[0.4,\"#fde0ef\"],[0.5,\"#f7f7f7\"],[0.6,\"#e6f5d0\"],[0.7,\"#b8e186\"],[0.8,\"#7fbc41\"],[0.9,\"#4d9221\"],[1,\"#276419\"]]},\"xaxis\":{\"gridcolor\":\"white\",\"linecolor\":\"white\",\"ticks\":\"\",\"title\":{\"standoff\":15},\"zerolinecolor\":\"white\",\"automargin\":true,\"zerolinewidth\":2},\"yaxis\":{\"gridcolor\":\"white\",\"linecolor\":\"white\",\"ticks\":\"\",\"title\":{\"standoff\":15},\"zerolinecolor\":\"white\",\"automargin\":true,\"zerolinewidth\":2},\"scene\":{\"xaxis\":{\"backgroundcolor\":\"#E5ECF6\",\"gridcolor\":\"white\",\"linecolor\":\"white\",\"showbackground\":true,\"ticks\":\"\",\"zerolinecolor\":\"white\",\"gridwidth\":2},\"yaxis\":{\"backgroundcolor\":\"#E5ECF6\",\"gridcolor\":\"white\",\"linecolor\":\"white\",\"showbackground\":true,\"ticks\":\"\",\"zerolinecolor\":\"white\",\"gridwidth\":2},\"zaxis\":{\"backgroundcolor\":\"#E5ECF6\",\"gridcolor\":\"white\",\"linecolor\":\"white\",\"showbackground\":true,\"ticks\":\"\",\"zerolinecolor\":\"white\",\"gridwidth\":2}},\"shapedefaults\":{\"line\":{\"color\":\"#2a3f5f\"}},\"annotationdefaults\":{\"arrowcolor\":\"#2a3f5f\",\"arrowhead\":0,\"arrowwidth\":1},\"geo\":{\"bgcolor\":\"white\",\"landcolor\":\"#E5ECF6\",\"subunitcolor\":\"white\",\"showland\":true,\"showlakes\":true,\"lakecolor\":\"white\"},\"title\":{\"x\":0.05},\"mapbox\":{\"style\":\"light\"}}},\"updatemenus\":[{\"buttons\":[{\"args\":[null,{\"frame\":{\"duration\":800,\"redraw\":false},\"fromcurrent\":true,\"transition\":{\"duration\":800,\"easing\":\"quadratic-in-out\"}}],\"label\":\"Play\",\"method\":\"animate\"},{\"args\":[[null],{\"frame\":{\"duration\":0,\"redraw\":false},\"mode\":\"immediate\",\"transition\":{\"duration\":0}}],\"label\":\"Pause\",\"method\":\"animate\"}],\"direction\":\"left\",\"pad\":{\"r\":10,\"t\":87},\"showactive\":true,\"type\":\"buttons\",\"x\":0.1,\"xanchor\":\"right\",\"y\":0,\"yanchor\":\"top\"}],\"sliders\":[{\"active\":0,\"currentvalue\":{\"font\":{\"size\":20},\"prefix\":\"Year: \",\"visible\":true,\"xanchor\":\"right\"},\"len\":0.9,\"pad\":{\"b\":10,\"t\":50},\"steps\":[{\"args\":[[\"1961\"],{\"frame\":{\"duration\":800,\"redraw\":false},\"mode\":\"immediate\",\"transition\":{\"duration\":800}}],\"label\":\"1961\",\"method\":\"animate\"},{\"args\":[[\"1962\"],{\"frame\":{\"duration\":800,\"redraw\":false},\"mode\":\"immediate\",\"transition\":{\"duration\":800}}],\"label\":\"1962\",\"method\":\"animate\"},{\"args\":[[\"1963\"],{\"frame\":{\"duration\":800,\"redraw\":false},\"mode\":\"immediate\",\"transition\":{\"duration\":800}}],\"label\":\"1963\",\"method\":\"animate\"},{\"args\":[[\"1964\"],{\"frame\":{\"duration\":800,\"redraw\":false},\"mode\":\"immediate\",\"transition\":{\"duration\":800}}],\"label\":\"1964\",\"method\":\"animate\"},{\"args\":[[\"1965\"],{\"frame\":{\"duration\":800,\"redraw\":false},\"mode\":\"immediate\",\"transition\":{\"duration\":800}}],\"label\":\"1965\",\"method\":\"animate\"},{\"args\":[[\"1966\"],{\"frame\":{\"duration\":800,\"redraw\":false},\"mode\":\"immediate\",\"transition\":{\"duration\":800}}],\"label\":\"1966\",\"method\":\"animate\"},{\"args\":[[\"1967\"],{\"frame\":{\"duration\":800,\"redraw\":false},\"mode\":\"immediate\",\"transition\":{\"duration\":800}}],\"label\":\"1967\",\"method\":\"animate\"},{\"args\":[[\"1968\"],{\"frame\":{\"duration\":800,\"redraw\":false},\"mode\":\"immediate\",\"transition\":{\"duration\":800}}],\"label\":\"1968\",\"method\":\"animate\"},{\"args\":[[\"1969\"],{\"frame\":{\"duration\":800,\"redraw\":false},\"mode\":\"immediate\",\"transition\":{\"duration\":800}}],\"label\":\"1969\",\"method\":\"animate\"},{\"args\":[[\"1970\"],{\"frame\":{\"duration\":800,\"redraw\":false},\"mode\":\"immediate\",\"transition\":{\"duration\":800}}],\"label\":\"1970\",\"method\":\"animate\"},{\"args\":[[\"1971\"],{\"frame\":{\"duration\":800,\"redraw\":false},\"mode\":\"immediate\",\"transition\":{\"duration\":800}}],\"label\":\"1971\",\"method\":\"animate\"},{\"args\":[[\"1972\"],{\"frame\":{\"duration\":800,\"redraw\":false},\"mode\":\"immediate\",\"transition\":{\"duration\":800}}],\"label\":\"1972\",\"method\":\"animate\"},{\"args\":[[\"1973\"],{\"frame\":{\"duration\":800,\"redraw\":false},\"mode\":\"immediate\",\"transition\":{\"duration\":800}}],\"label\":\"1973\",\"method\":\"animate\"},{\"args\":[[\"1974\"],{\"frame\":{\"duration\":800,\"redraw\":false},\"mode\":\"immediate\",\"transition\":{\"duration\":800}}],\"label\":\"1974\",\"method\":\"animate\"},{\"args\":[[\"1975\"],{\"frame\":{\"duration\":800,\"redraw\":false},\"mode\":\"immediate\",\"transition\":{\"duration\":800}}],\"label\":\"1975\",\"method\":\"animate\"},{\"args\":[[\"1976\"],{\"frame\":{\"duration\":800,\"redraw\":false},\"mode\":\"immediate\",\"transition\":{\"duration\":800}}],\"label\":\"1976\",\"method\":\"animate\"},{\"args\":[[\"1977\"],{\"frame\":{\"duration\":800,\"redraw\":false},\"mode\":\"immediate\",\"transition\":{\"duration\":800}}],\"label\":\"1977\",\"method\":\"animate\"},{\"args\":[[\"1978\"],{\"frame\":{\"duration\":800,\"redraw\":false},\"mode\":\"immediate\",\"transition\":{\"duration\":800}}],\"label\":\"1978\",\"method\":\"animate\"},{\"args\":[[\"1979\"],{\"frame\":{\"duration\":800,\"redraw\":false},\"mode\":\"immediate\",\"transition\":{\"duration\":800}}],\"label\":\"1979\",\"method\":\"animate\"},{\"args\":[[\"1980\"],{\"frame\":{\"duration\":800,\"redraw\":false},\"mode\":\"immediate\",\"transition\":{\"duration\":800}}],\"label\":\"1980\",\"method\":\"animate\"},{\"args\":[[\"1981\"],{\"frame\":{\"duration\":800,\"redraw\":false},\"mode\":\"immediate\",\"transition\":{\"duration\":800}}],\"label\":\"1981\",\"method\":\"animate\"},{\"args\":[[\"1982\"],{\"frame\":{\"duration\":800,\"redraw\":false},\"mode\":\"immediate\",\"transition\":{\"duration\":800}}],\"label\":\"1982\",\"method\":\"animate\"},{\"args\":[[\"1983\"],{\"frame\":{\"duration\":800,\"redraw\":false},\"mode\":\"immediate\",\"transition\":{\"duration\":800}}],\"label\":\"1983\",\"method\":\"animate\"},{\"args\":[[\"1984\"],{\"frame\":{\"duration\":800,\"redraw\":false},\"mode\":\"immediate\",\"transition\":{\"duration\":800}}],\"label\":\"1984\",\"method\":\"animate\"},{\"args\":[[\"1985\"],{\"frame\":{\"duration\":800,\"redraw\":false},\"mode\":\"immediate\",\"transition\":{\"duration\":800}}],\"label\":\"1985\",\"method\":\"animate\"},{\"args\":[[\"1986\"],{\"frame\":{\"duration\":800,\"redraw\":false},\"mode\":\"immediate\",\"transition\":{\"duration\":800}}],\"label\":\"1986\",\"method\":\"animate\"},{\"args\":[[\"1987\"],{\"frame\":{\"duration\":800,\"redraw\":false},\"mode\":\"immediate\",\"transition\":{\"duration\":800}}],\"label\":\"1987\",\"method\":\"animate\"},{\"args\":[[\"1988\"],{\"frame\":{\"duration\":800,\"redraw\":false},\"mode\":\"immediate\",\"transition\":{\"duration\":800}}],\"label\":\"1988\",\"method\":\"animate\"},{\"args\":[[\"1989\"],{\"frame\":{\"duration\":800,\"redraw\":false},\"mode\":\"immediate\",\"transition\":{\"duration\":800}}],\"label\":\"1989\",\"method\":\"animate\"},{\"args\":[[\"1990\"],{\"frame\":{\"duration\":800,\"redraw\":false},\"mode\":\"immediate\",\"transition\":{\"duration\":800}}],\"label\":\"1990\",\"method\":\"animate\"},{\"args\":[[\"1991\"],{\"frame\":{\"duration\":800,\"redraw\":false},\"mode\":\"immediate\",\"transition\":{\"duration\":800}}],\"label\":\"1991\",\"method\":\"animate\"},{\"args\":[[\"1992\"],{\"frame\":{\"duration\":800,\"redraw\":false},\"mode\":\"immediate\",\"transition\":{\"duration\":800}}],\"label\":\"1992\",\"method\":\"animate\"},{\"args\":[[\"1993\"],{\"frame\":{\"duration\":800,\"redraw\":false},\"mode\":\"immediate\",\"transition\":{\"duration\":800}}],\"label\":\"1993\",\"method\":\"animate\"},{\"args\":[[\"1994\"],{\"frame\":{\"duration\":800,\"redraw\":false},\"mode\":\"immediate\",\"transition\":{\"duration\":800}}],\"label\":\"1994\",\"method\":\"animate\"},{\"args\":[[\"1995\"],{\"frame\":{\"duration\":800,\"redraw\":false},\"mode\":\"immediate\",\"transition\":{\"duration\":800}}],\"label\":\"1995\",\"method\":\"animate\"},{\"args\":[[\"1996\"],{\"frame\":{\"duration\":800,\"redraw\":false},\"mode\":\"immediate\",\"transition\":{\"duration\":800}}],\"label\":\"1996\",\"method\":\"animate\"},{\"args\":[[\"1997\"],{\"frame\":{\"duration\":800,\"redraw\":false},\"mode\":\"immediate\",\"transition\":{\"duration\":800}}],\"label\":\"1997\",\"method\":\"animate\"},{\"args\":[[\"1998\"],{\"frame\":{\"duration\":800,\"redraw\":false},\"mode\":\"immediate\",\"transition\":{\"duration\":800}}],\"label\":\"1998\",\"method\":\"animate\"},{\"args\":[[\"1999\"],{\"frame\":{\"duration\":800,\"redraw\":false},\"mode\":\"immediate\",\"transition\":{\"duration\":800}}],\"label\":\"1999\",\"method\":\"animate\"},{\"args\":[[\"2000\"],{\"frame\":{\"duration\":800,\"redraw\":false},\"mode\":\"immediate\",\"transition\":{\"duration\":800}}],\"label\":\"2000\",\"method\":\"animate\"},{\"args\":[[\"2001\"],{\"frame\":{\"duration\":800,\"redraw\":false},\"mode\":\"immediate\",\"transition\":{\"duration\":800}}],\"label\":\"2001\",\"method\":\"animate\"},{\"args\":[[\"2002\"],{\"frame\":{\"duration\":800,\"redraw\":false},\"mode\":\"immediate\",\"transition\":{\"duration\":800}}],\"label\":\"2002\",\"method\":\"animate\"},{\"args\":[[\"2003\"],{\"frame\":{\"duration\":800,\"redraw\":false},\"mode\":\"immediate\",\"transition\":{\"duration\":800}}],\"label\":\"2003\",\"method\":\"animate\"},{\"args\":[[\"2004\"],{\"frame\":{\"duration\":800,\"redraw\":false},\"mode\":\"immediate\",\"transition\":{\"duration\":800}}],\"label\":\"2004\",\"method\":\"animate\"},{\"args\":[[\"2005\"],{\"frame\":{\"duration\":800,\"redraw\":false},\"mode\":\"immediate\",\"transition\":{\"duration\":800}}],\"label\":\"2005\",\"method\":\"animate\"},{\"args\":[[\"2006\"],{\"frame\":{\"duration\":800,\"redraw\":false},\"mode\":\"immediate\",\"transition\":{\"duration\":800}}],\"label\":\"2006\",\"method\":\"animate\"},{\"args\":[[\"2007\"],{\"frame\":{\"duration\":800,\"redraw\":false},\"mode\":\"immediate\",\"transition\":{\"duration\":800}}],\"label\":\"2007\",\"method\":\"animate\"},{\"args\":[[\"2008\"],{\"frame\":{\"duration\":800,\"redraw\":false},\"mode\":\"immediate\",\"transition\":{\"duration\":800}}],\"label\":\"2008\",\"method\":\"animate\"},{\"args\":[[\"2009\"],{\"frame\":{\"duration\":800,\"redraw\":false},\"mode\":\"immediate\",\"transition\":{\"duration\":800}}],\"label\":\"2009\",\"method\":\"animate\"},{\"args\":[[\"2010\"],{\"frame\":{\"duration\":800,\"redraw\":false},\"mode\":\"immediate\",\"transition\":{\"duration\":800}}],\"label\":\"2010\",\"method\":\"animate\"},{\"args\":[[\"2011\"],{\"frame\":{\"duration\":800,\"redraw\":false},\"mode\":\"immediate\",\"transition\":{\"duration\":800}}],\"label\":\"2011\",\"method\":\"animate\"},{\"args\":[[\"2012\"],{\"frame\":{\"duration\":800,\"redraw\":false},\"mode\":\"immediate\",\"transition\":{\"duration\":800}}],\"label\":\"2012\",\"method\":\"animate\"},{\"args\":[[\"2013\"],{\"frame\":{\"duration\":800,\"redraw\":false},\"mode\":\"immediate\",\"transition\":{\"duration\":800}}],\"label\":\"2013\",\"method\":\"animate\"},{\"args\":[[\"2014\"],{\"frame\":{\"duration\":800,\"redraw\":false},\"mode\":\"immediate\",\"transition\":{\"duration\":800}}],\"label\":\"2014\",\"method\":\"animate\"},{\"args\":[[\"2015\"],{\"frame\":{\"duration\":800,\"redraw\":false},\"mode\":\"immediate\",\"transition\":{\"duration\":800}}],\"label\":\"2015\",\"method\":\"animate\"},{\"args\":[[\"2016\"],{\"frame\":{\"duration\":800,\"redraw\":false},\"mode\":\"immediate\",\"transition\":{\"duration\":800}}],\"label\":\"2016\",\"method\":\"animate\"},{\"args\":[[\"2017\"],{\"frame\":{\"duration\":800,\"redraw\":false},\"mode\":\"immediate\",\"transition\":{\"duration\":800}}],\"label\":\"2017\",\"method\":\"animate\"},{\"args\":[[\"2018\"],{\"frame\":{\"duration\":800,\"redraw\":false},\"mode\":\"immediate\",\"transition\":{\"duration\":800}}],\"label\":\"2018\",\"method\":\"animate\"}],\"transition\":{\"duration\":300,\"easing\":\"cubic-in-out\"},\"x\":0.1,\"xanchor\":\"left\",\"y\":0,\"yanchor\":\"top\"}]},                        {\"responsive\": true}                    ).then(function(){\n",
              "                            Plotly.addFrames('3a100d65-7581-4b39-aa10-628fdd20c71c', [{\"data\":[{\"cliponaxis\":false,\"hoverinfo\":\"all\",\"hovertemplate\":\"<extra></extra>\",\"marker\":{\"color\":[\"rgb(234, 127, 19)\",\"rgb(31, 220, 223)\",\"rgb(204, 223, 90)\",\"rgb(88, 192, 172)\",\"rgb(92, 171, 115)\",\"rgb(49, 41, 74)\",\"rgb(41, 160, 91)\",\"rgb(135, 126, 225)\",\"rgb(255, 148, 50)\",\"rgb(106, 205, 53)\"]},\"orientation\":\"h\",\"textangle\":0,\"textposition\":\"outside\",\"texttemplate\":\"%{y}<br>%{x:.4s}\",\"x\":[71259839.0,72411104.0,98192635.0,143836304.0,160501987.0,205027583.0,215646633.0,222357231.0,270552196.0,447977522.0],\"y\":[\"Cassava\",\"Barley\",\"Sweet potatoes\",\"Rice, paddy (rice milled equivalent)\",\"Sugar beet\",\"Maize\",\"Rice, paddy\",\"Wheat\",\"Potatoes\",\"Sugar cane\"],\"type\":\"bar\"}],\"layout\":{\"bargap\":0.15,\"font\":{\"size\":14},\"plot_bgcolor\":\"#FFFFFF\",\"xaxis\":{\"range\":[0,1907024730.0],\"showline\":true,\"visible\":true},\"yaxis\":{\"showline\":false,\"visible\":true}},\"name\":\"1961\"},{\"data\":[{\"cliponaxis\":false,\"hoverinfo\":\"all\",\"hovertemplate\":\"<extra></extra>\",\"marker\":{\"color\":[\"rgb(234, 127, 19)\",\"rgb(31, 220, 223)\",\"rgb(204, 223, 90)\",\"rgb(92, 171, 115)\",\"rgb(88, 192, 172)\",\"rgb(49, 41, 74)\",\"rgb(41, 160, 91)\",\"rgb(135, 126, 225)\",\"rgb(255, 148, 50)\",\"rgb(106, 205, 53)\"]},\"orientation\":\"h\",\"textangle\":0,\"textposition\":\"outside\",\"texttemplate\":\"%{y}<br>%{x:.4s}\",\"x\":[74636680.0,88396959.0,105291106.0,149172711.0,151046350.0,204876937.0,226456297.0,250319146.0,252987460.0,436872640.0],\"y\":[\"Cassava\",\"Barley\",\"Sweet potatoes\",\"Sugar beet\",\"Rice, paddy (rice milled equivalent)\",\"Maize\",\"Rice, paddy\",\"Wheat\",\"Potatoes\",\"Sugar cane\"],\"type\":\"bar\"}],\"layout\":{\"bargap\":0.15,\"font\":{\"size\":14},\"plot_bgcolor\":\"#FFFFFF\",\"xaxis\":{\"range\":[0,1907024730.0],\"showline\":true,\"visible\":true},\"yaxis\":{\"showline\":false,\"visible\":true}},\"name\":\"1962\"},{\"data\":[{\"cliponaxis\":false,\"hoverinfo\":\"all\",\"hovertemplate\":\"<extra></extra>\",\"marker\":{\"color\":[\"rgb(234, 127, 19)\",\"rgb(31, 220, 223)\",\"rgb(204, 223, 90)\",\"rgb(88, 192, 172)\",\"rgb(92, 171, 115)\",\"rgb(49, 41, 74)\",\"rgb(135, 126, 225)\",\"rgb(41, 160, 91)\",\"rgb(255, 148, 50)\",\"rgb(106, 205, 53)\"]},\"orientation\":\"h\",\"textangle\":0,\"textposition\":\"outside\",\"texttemplate\":\"%{y}<br>%{x:.4s}\",\"x\":[77975688.0,90385850.0,98009159.0,164828514.0,164975629.0,220228333.0,233339473.0,247119211.0,269982498.0,439927902.0],\"y\":[\"Cassava\",\"Barley\",\"Sweet potatoes\",\"Rice, paddy (rice milled equivalent)\",\"Sugar beet\",\"Maize\",\"Wheat\",\"Rice, paddy\",\"Potatoes\",\"Sugar cane\"],\"type\":\"bar\"}],\"layout\":{\"bargap\":0.15,\"font\":{\"size\":14},\"plot_bgcolor\":\"#FFFFFF\",\"xaxis\":{\"range\":[0,1907024730.0],\"showline\":true,\"visible\":true},\"yaxis\":{\"showline\":false,\"visible\":true}},\"name\":\"1963\"},{\"data\":[{\"cliponaxis\":false,\"hoverinfo\":\"all\",\"hovertemplate\":\"<extra></extra>\",\"marker\":{\"color\":[\"rgb(234, 127, 19)\",\"rgb(204, 223, 90)\",\"rgb(31, 220, 223)\",\"rgb(88, 192, 172)\",\"rgb(49, 41, 74)\",\"rgb(92, 171, 115)\",\"rgb(41, 160, 91)\",\"rgb(135, 126, 225)\",\"rgb(255, 148, 50)\",\"rgb(106, 205, 53)\"]},\"orientation\":\"h\",\"textangle\":0,\"textposition\":\"outside\",\"texttemplate\":\"%{y}<br>%{x:.4s}\",\"x\":[82429399.0,93377412.0,95524923.0,175373614.0,215172627.0,216206931.0,262928956.0,268791657.0,284678614.0,480849768.0],\"y\":[\"Cassava\",\"Sweet potatoes\",\"Barley\",\"Rice, paddy (rice milled equivalent)\",\"Maize\",\"Sugar beet\",\"Rice, paddy\",\"Wheat\",\"Potatoes\",\"Sugar cane\"],\"type\":\"bar\"}],\"layout\":{\"bargap\":0.15,\"font\":{\"size\":14},\"plot_bgcolor\":\"#FFFFFF\",\"xaxis\":{\"range\":[0,1907024730.0],\"showline\":true,\"visible\":true},\"yaxis\":{\"showline\":false,\"visible\":true}},\"name\":\"1964\"},{\"data\":[{\"cliponaxis\":false,\"hoverinfo\":\"all\",\"hovertemplate\":\"<extra></extra>\",\"marker\":{\"color\":[\"rgb(234, 127, 19)\",\"rgb(31, 220, 223)\",\"rgb(204, 223, 90)\",\"rgb(88, 192, 172)\",\"rgb(92, 171, 115)\",\"rgb(49, 41, 74)\",\"rgb(41, 160, 91)\",\"rgb(135, 126, 225)\",\"rgb(255, 148, 50)\",\"rgb(106, 205, 53)\"]},\"orientation\":\"h\",\"textangle\":0,\"textposition\":\"outside\",\"texttemplate\":\"%{y}<br>%{x:.4s}\",\"x\":[85582843.0,92617012.0,108377879.0,169457796.0,197376224.0,226544256.0,254059664.0,263645963.0,270913502.0,531297486.0],\"y\":[\"Cassava\",\"Barley\",\"Sweet potatoes\",\"Rice, paddy (rice milled equivalent)\",\"Sugar beet\",\"Maize\",\"Rice, paddy\",\"Wheat\",\"Potatoes\",\"Sugar cane\"],\"type\":\"bar\"}],\"layout\":{\"bargap\":0.15,\"font\":{\"size\":14},\"plot_bgcolor\":\"#FFFFFF\",\"xaxis\":{\"range\":[0,1907024730.0],\"showline\":true,\"visible\":true},\"yaxis\":{\"showline\":false,\"visible\":true}},\"name\":\"1965\"},{\"data\":[{\"cliponaxis\":false,\"hoverinfo\":\"all\",\"hovertemplate\":\"<extra></extra>\",\"marker\":{\"color\":[\"rgb(234, 127, 19)\",\"rgb(31, 220, 223)\",\"rgb(204, 223, 90)\",\"rgb(88, 192, 172)\",\"rgb(92, 171, 115)\",\"rgb(49, 41, 74)\",\"rgb(41, 160, 91)\",\"rgb(255, 148, 50)\",\"rgb(135, 126, 225)\",\"rgb(106, 205, 53)\"]},\"orientation\":\"h\",\"textangle\":0,\"textposition\":\"outside\",\"texttemplate\":\"%{y}<br>%{x:.4s}\",\"x\":[84718809.0,100425696.0,119686566.0,174207899.0,212270253.0,245599160.0,261181258.0,281964109.0,303785460.0,531492823.0],\"y\":[\"Cassava\",\"Barley\",\"Sweet potatoes\",\"Rice, paddy (rice milled equivalent)\",\"Sugar beet\",\"Maize\",\"Rice, paddy\",\"Potatoes\",\"Wheat\",\"Sugar cane\"],\"type\":\"bar\"}],\"layout\":{\"bargap\":0.15,\"font\":{\"size\":14},\"plot_bgcolor\":\"#FFFFFF\",\"xaxis\":{\"range\":[0,1907024730.0],\"showline\":true,\"visible\":true},\"yaxis\":{\"showline\":false,\"visible\":true}},\"name\":\"1966\"},{\"data\":[{\"cliponaxis\":false,\"hoverinfo\":\"all\",\"hovertemplate\":\"<extra></extra>\",\"marker\":{\"color\":[\"rgb(234, 127, 19)\",\"rgb(31, 220, 223)\",\"rgb(204, 223, 90)\",\"rgb(88, 192, 172)\",\"rgb(92, 171, 115)\",\"rgb(49, 41, 74)\",\"rgb(41, 160, 91)\",\"rgb(135, 126, 225)\",\"rgb(255, 148, 50)\",\"rgb(106, 205, 53)\"]},\"orientation\":\"h\",\"textangle\":0,\"textposition\":\"outside\",\"texttemplate\":\"%{y}<br>%{x:.4s}\",\"x\":[88630176.0,103177495.0,118614438.0,185016704.0,233455177.0,272548473.0,277386363.0,294295876.0,296220305.0,518890895.0],\"y\":[\"Cassava\",\"Barley\",\"Sweet potatoes\",\"Rice, paddy (rice milled equivalent)\",\"Sugar beet\",\"Maize\",\"Rice, paddy\",\"Wheat\",\"Potatoes\",\"Sugar cane\"],\"type\":\"bar\"}],\"layout\":{\"bargap\":0.15,\"font\":{\"size\":14},\"plot_bgcolor\":\"#FFFFFF\",\"xaxis\":{\"range\":[0,1907024730.0],\"showline\":true,\"visible\":true},\"yaxis\":{\"showline\":false,\"visible\":true}},\"name\":\"1967\"},{\"data\":[{\"cliponaxis\":false,\"hoverinfo\":\"all\",\"hovertemplate\":\"<extra></extra>\",\"marker\":{\"color\":[\"rgb(234, 127, 19)\",\"rgb(31, 220, 223)\",\"rgb(204, 223, 90)\",\"rgb(88, 192, 172)\",\"rgb(92, 171, 115)\",\"rgb(49, 41, 74)\",\"rgb(41, 160, 91)\",\"rgb(255, 148, 50)\",\"rgb(135, 126, 225)\",\"rgb(106, 205, 53)\"]},\"orientation\":\"h\",\"textangle\":0,\"textposition\":\"outside\",\"texttemplate\":\"%{y}<br>%{x:.4s}\",\"x\":[93090059.0,113504505.0,118097469.0,192512413.0,248856658.0,255670551.0,288624308.0,303709120.0,326843941.0,506091880.0],\"y\":[\"Cassava\",\"Barley\",\"Sweet potatoes\",\"Rice, paddy (rice milled equivalent)\",\"Sugar beet\",\"Maize\",\"Rice, paddy\",\"Potatoes\",\"Wheat\",\"Sugar cane\"],\"type\":\"bar\"}],\"layout\":{\"bargap\":0.15,\"font\":{\"size\":14},\"plot_bgcolor\":\"#FFFFFF\",\"xaxis\":{\"range\":[0,1907024730.0],\"showline\":true,\"visible\":true},\"yaxis\":{\"showline\":false,\"visible\":true}},\"name\":\"1968\"},{\"data\":[{\"cliponaxis\":false,\"hoverinfo\":\"all\",\"hovertemplate\":\"<extra></extra>\",\"marker\":{\"color\":[\"rgb(234, 127, 19)\",\"rgb(31, 220, 223)\",\"rgb(204, 223, 90)\",\"rgb(88, 192, 172)\",\"rgb(92, 171, 115)\",\"rgb(49, 41, 74)\",\"rgb(255, 148, 50)\",\"rgb(41, 160, 91)\",\"rgb(135, 126, 225)\",\"rgb(106, 205, 53)\"]},\"orientation\":\"h\",\"textangle\":0,\"textposition\":\"outside\",\"texttemplate\":\"%{y}<br>%{x:.4s}\",\"x\":[95325330.0,118006371.0,126160704.0,197154789.0,216920772.0,269506068.0,278475710.0,295584391.0,308640283.0,538255737.0],\"y\":[\"Cassava\",\"Barley\",\"Sweet potatoes\",\"Rice, paddy (rice milled equivalent)\",\"Sugar beet\",\"Maize\",\"Potatoes\",\"Rice, paddy\",\"Wheat\",\"Sugar cane\"],\"type\":\"bar\"}],\"layout\":{\"bargap\":0.15,\"font\":{\"size\":14},\"plot_bgcolor\":\"#FFFFFF\",\"xaxis\":{\"range\":[0,1907024730.0],\"showline\":true,\"visible\":true},\"yaxis\":{\"showline\":false,\"visible\":true}},\"name\":\"1969\"},{\"data\":[{\"cliponaxis\":false,\"hoverinfo\":\"all\",\"hovertemplate\":\"<extra></extra>\",\"marker\":{\"color\":[\"rgb(234, 127, 19)\",\"rgb(31, 220, 223)\",\"rgb(204, 223, 90)\",\"rgb(88, 192, 172)\",\"rgb(92, 171, 115)\",\"rgb(49, 41, 74)\",\"rgb(255, 148, 50)\",\"rgb(135, 126, 225)\",\"rgb(41, 160, 91)\",\"rgb(106, 205, 53)\"]},\"orientation\":\"h\",\"textangle\":0,\"textposition\":\"outside\",\"texttemplate\":\"%{y}<br>%{x:.4s}\",\"x\":[98589699.0,119378695.0,136507488.0,211002584.0,224251952.0,265831145.0,298048017.0,310740954.0,316345703.0,608616105.0],\"y\":[\"Cassava\",\"Barley\",\"Sweet potatoes\",\"Rice, paddy (rice milled equivalent)\",\"Sugar beet\",\"Maize\",\"Potatoes\",\"Wheat\",\"Rice, paddy\",\"Sugar cane\"],\"type\":\"bar\"}],\"layout\":{\"bargap\":0.15,\"font\":{\"size\":14},\"plot_bgcolor\":\"#FFFFFF\",\"xaxis\":{\"range\":[0,1907024730.0],\"showline\":true,\"visible\":true},\"yaxis\":{\"showline\":false,\"visible\":true}},\"name\":\"1970\"},{\"data\":[{\"cliponaxis\":false,\"hoverinfo\":\"all\",\"hovertemplate\":\"<extra></extra>\",\"marker\":{\"color\":[\"rgb(234, 127, 19)\",\"rgb(204, 223, 90)\",\"rgb(31, 220, 223)\",\"rgb(88, 192, 172)\",\"rgb(92, 171, 115)\",\"rgb(255, 148, 50)\",\"rgb(49, 41, 74)\",\"rgb(41, 160, 91)\",\"rgb(135, 126, 225)\",\"rgb(106, 205, 53)\"]},\"orientation\":\"h\",\"textangle\":0,\"textposition\":\"outside\",\"texttemplate\":\"%{y}<br>%{x:.4s}\",\"x\":[98756434.0,127252781.0,131237044.0,211914188.0,227540795.0,279490572.0,313622622.0,317712426.0,347525581.0,582105426.0],\"y\":[\"Cassava\",\"Sweet potatoes\",\"Barley\",\"Rice, paddy (rice milled equivalent)\",\"Sugar beet\",\"Potatoes\",\"Maize\",\"Rice, paddy\",\"Wheat\",\"Sugar cane\"],\"type\":\"bar\"}],\"layout\":{\"bargap\":0.15,\"font\":{\"size\":14},\"plot_bgcolor\":\"#FFFFFF\",\"xaxis\":{\"range\":[0,1907024730.0],\"showline\":true,\"visible\":true},\"yaxis\":{\"showline\":false,\"visible\":true}},\"name\":\"1971\"},{\"data\":[{\"cliponaxis\":false,\"hoverinfo\":\"all\",\"hovertemplate\":\"<extra></extra>\",\"marker\":{\"color\":[\"rgb(234, 127, 19)\",\"rgb(204, 223, 90)\",\"rgb(31, 220, 223)\",\"rgb(88, 192, 172)\",\"rgb(92, 171, 115)\",\"rgb(255, 148, 50)\",\"rgb(41, 160, 91)\",\"rgb(49, 41, 74)\",\"rgb(135, 126, 225)\",\"rgb(106, 205, 53)\"]},\"orientation\":\"h\",\"textangle\":0,\"textposition\":\"outside\",\"texttemplate\":\"%{y}<br>%{x:.4s}\",\"x\":[101261515.0,121467494.0,132963909.0,204962388.0,240336963.0,272144812.0,307289937.0,308826290.0,343001429.0,569105570.0],\"y\":[\"Cassava\",\"Sweet potatoes\",\"Barley\",\"Rice, paddy (rice milled equivalent)\",\"Sugar beet\",\"Potatoes\",\"Rice, paddy\",\"Maize\",\"Wheat\",\"Sugar cane\"],\"type\":\"bar\"}],\"layout\":{\"bargap\":0.15,\"font\":{\"size\":14},\"plot_bgcolor\":\"#FFFFFF\",\"xaxis\":{\"range\":[0,1907024730.0],\"showline\":true,\"visible\":true},\"yaxis\":{\"showline\":false,\"visible\":true}},\"name\":\"1972\"},{\"data\":[{\"cliponaxis\":false,\"hoverinfo\":\"all\",\"hovertemplate\":\"<extra></extra>\",\"marker\":{\"color\":[\"rgb(234, 127, 19)\",\"rgb(31, 220, 223)\",\"rgb(204, 223, 90)\",\"rgb(88, 192, 172)\",\"rgb(92, 171, 115)\",\"rgb(255, 148, 50)\",\"rgb(49, 41, 74)\",\"rgb(41, 160, 91)\",\"rgb(135, 126, 225)\",\"rgb(106, 205, 53)\"]},\"orientation\":\"h\",\"textangle\":0,\"textposition\":\"outside\",\"texttemplate\":\"%{y}<br>%{x:.4s}\",\"x\":[101734795.0,146966081.0,152865329.0,223397535.0,250104320.0,307160130.0,318290469.0,334928838.0,369334126.0,600227145.0],\"y\":[\"Cassava\",\"Barley\",\"Sweet potatoes\",\"Rice, paddy (rice milled equivalent)\",\"Sugar beet\",\"Potatoes\",\"Maize\",\"Rice, paddy\",\"Wheat\",\"Sugar cane\"],\"type\":\"bar\"}],\"layout\":{\"bargap\":0.15,\"font\":{\"size\":14},\"plot_bgcolor\":\"#FFFFFF\",\"xaxis\":{\"range\":[0,1907024730.0],\"showline\":true,\"visible\":true},\"yaxis\":{\"showline\":false,\"visible\":true}},\"name\":\"1973\"},{\"data\":[{\"cliponaxis\":false,\"hoverinfo\":\"all\",\"hovertemplate\":\"<extra></extra>\",\"marker\":{\"color\":[\"rgb(234, 127, 19)\",\"rgb(204, 223, 90)\",\"rgb(31, 220, 223)\",\"rgb(88, 192, 172)\",\"rgb(92, 171, 115)\",\"rgb(255, 148, 50)\",\"rgb(49, 41, 74)\",\"rgb(41, 160, 91)\",\"rgb(135, 126, 225)\",\"rgb(106, 205, 53)\"]},\"orientation\":\"h\",\"textangle\":0,\"textposition\":\"outside\",\"texttemplate\":\"%{y}<br>%{x:.4s}\",\"x\":[104370567.0,137264243.0,148818870.0,221424400.0,234922029.0,284781339.0,306427347.0,331970614.0,358825442.0,648516497.0],\"y\":[\"Cassava\",\"Sweet potatoes\",\"Barley\",\"Rice, paddy (rice milled equivalent)\",\"Sugar beet\",\"Potatoes\",\"Maize\",\"Rice, paddy\",\"Wheat\",\"Sugar cane\"],\"type\":\"bar\"}],\"layout\":{\"bargap\":0.15,\"font\":{\"size\":14},\"plot_bgcolor\":\"#FFFFFF\",\"xaxis\":{\"range\":[0,1907024730.0],\"showline\":true,\"visible\":true},\"yaxis\":{\"showline\":false,\"visible\":true}},\"name\":\"1974\"},{\"data\":[{\"cliponaxis\":false,\"hoverinfo\":\"all\",\"hovertemplate\":\"<extra></extra>\",\"marker\":{\"color\":[\"rgb(234, 127, 19)\",\"rgb(31, 220, 223)\",\"rgb(204, 223, 90)\",\"rgb(88, 192, 172)\",\"rgb(92, 171, 115)\",\"rgb(255, 148, 50)\",\"rgb(49, 41, 74)\",\"rgb(135, 126, 225)\",\"rgb(41, 160, 91)\",\"rgb(106, 205, 53)\"]},\"orientation\":\"h\",\"textangle\":0,\"textposition\":\"outside\",\"texttemplate\":\"%{y}<br>%{x:.4s}\",\"x\":[110398445.0,135491720.0,141314403.0,238094381.0,251310276.0,270384075.0,341751971.0,355806146.0,356963090.0,655815792.0],\"y\":[\"Cassava\",\"Barley\",\"Sweet potatoes\",\"Rice, paddy (rice milled equivalent)\",\"Sugar beet\",\"Potatoes\",\"Maize\",\"Wheat\",\"Rice, paddy\",\"Sugar cane\"],\"type\":\"bar\"}],\"layout\":{\"bargap\":0.15,\"font\":{\"size\":14},\"plot_bgcolor\":\"#FFFFFF\",\"xaxis\":{\"range\":[0,1907024730.0],\"showline\":true,\"visible\":true},\"yaxis\":{\"showline\":false,\"visible\":true}},\"name\":\"1975\"},{\"data\":[{\"cliponaxis\":false,\"hoverinfo\":\"all\",\"hovertemplate\":\"<extra></extra>\",\"marker\":{\"color\":[\"rgb(234, 127, 19)\",\"rgb(204, 223, 90)\",\"rgb(31, 220, 223)\",\"rgb(88, 192, 172)\",\"rgb(255, 148, 50)\",\"rgb(92, 171, 115)\",\"rgb(41, 160, 91)\",\"rgb(49, 41, 74)\",\"rgb(135, 126, 225)\",\"rgb(106, 205, 53)\"]},\"orientation\":\"h\",\"textangle\":0,\"textposition\":\"outside\",\"texttemplate\":\"%{y}<br>%{x:.4s}\",\"x\":[113892497.0,133322031.0,166595806.0,231906870.0,272745276.0,296408369.0,347686462.0,352395866.0,419868031.0,687207538.0],\"y\":[\"Cassava\",\"Sweet potatoes\",\"Barley\",\"Rice, paddy (rice milled equivalent)\",\"Potatoes\",\"Sugar beet\",\"Rice, paddy\",\"Maize\",\"Wheat\",\"Sugar cane\"],\"type\":\"bar\"}],\"layout\":{\"bargap\":0.15,\"font\":{\"size\":14},\"plot_bgcolor\":\"#FFFFFF\",\"xaxis\":{\"range\":[0,1907024730.0],\"showline\":true,\"visible\":true},\"yaxis\":{\"showline\":false,\"visible\":true}},\"name\":\"1976\"},{\"data\":[{\"cliponaxis\":false,\"hoverinfo\":\"all\",\"hovertemplate\":\"<extra></extra>\",\"marker\":{\"color\":[\"rgb(234, 127, 19)\",\"rgb(204, 223, 90)\",\"rgb(31, 220, 223)\",\"rgb(88, 192, 172)\",\"rgb(255, 148, 50)\",\"rgb(92, 171, 115)\",\"rgb(41, 160, 91)\",\"rgb(49, 41, 74)\",\"rgb(135, 126, 225)\",\"rgb(106, 205, 53)\"]},\"orientation\":\"h\",\"textangle\":0,\"textposition\":\"outside\",\"texttemplate\":\"%{y}<br>%{x:.4s}\",\"x\":[118605256.0,143107584.0,156386493.0,246443929.0,279667694.0,288582476.0,369481153.0,371593355.0,382276677.0,734858286.0],\"y\":[\"Cassava\",\"Sweet potatoes\",\"Barley\",\"Rice, paddy (rice milled equivalent)\",\"Potatoes\",\"Sugar beet\",\"Rice, paddy\",\"Maize\",\"Wheat\",\"Sugar cane\"],\"type\":\"bar\"}],\"layout\":{\"bargap\":0.15,\"font\":{\"size\":14},\"plot_bgcolor\":\"#FFFFFF\",\"xaxis\":{\"range\":[0,1907024730.0],\"showline\":true,\"visible\":true},\"yaxis\":{\"showline\":false,\"visible\":true}},\"name\":\"1977\"},{\"data\":[{\"cliponaxis\":false,\"hoverinfo\":\"all\",\"hovertemplate\":\"<extra></extra>\",\"marker\":{\"color\":[\"rgb(234, 127, 19)\",\"rgb(204, 223, 90)\",\"rgb(31, 220, 223)\",\"rgb(88, 192, 172)\",\"rgb(92, 171, 115)\",\"rgb(255, 148, 50)\",\"rgb(41, 160, 91)\",\"rgb(49, 41, 74)\",\"rgb(135, 126, 225)\",\"rgb(106, 205, 53)\"]},\"orientation\":\"h\",\"textangle\":0,\"textposition\":\"outside\",\"texttemplate\":\"%{y}<br>%{x:.4s}\",\"x\":[123308473.0,151857764.0,174929309.0,256934233.0,282834069.0,291161652.0,385208745.0,393600091.0,443844880.0,774416858.0],\"y\":[\"Cassava\",\"Sweet potatoes\",\"Barley\",\"Rice, paddy (rice milled equivalent)\",\"Sugar beet\",\"Potatoes\",\"Rice, paddy\",\"Maize\",\"Wheat\",\"Sugar cane\"],\"type\":\"bar\"}],\"layout\":{\"bargap\":0.15,\"font\":{\"size\":14},\"plot_bgcolor\":\"#FFFFFF\",\"xaxis\":{\"range\":[0,1907024730.0],\"showline\":true,\"visible\":true},\"yaxis\":{\"showline\":false,\"visible\":true}},\"name\":\"1978\"},{\"data\":[{\"cliponaxis\":false,\"hoverinfo\":\"all\",\"hovertemplate\":\"<extra></extra>\",\"marker\":{\"color\":[\"rgb(234, 127, 19)\",\"rgb(204, 223, 90)\",\"rgb(31, 220, 223)\",\"rgb(88, 192, 172)\",\"rgb(92, 171, 115)\",\"rgb(255, 148, 50)\",\"rgb(41, 160, 91)\",\"rgb(49, 41, 74)\",\"rgb(135, 126, 225)\",\"rgb(106, 205, 53)\"]},\"orientation\":\"h\",\"textangle\":0,\"textposition\":\"outside\",\"texttemplate\":\"%{y}<br>%{x:.4s}\",\"x\":[119745423.0,137935647.0,154989948.0,250292923.0,262752809.0,297921605.0,375251758.0,418622993.0,422999301.0,770245178.0],\"y\":[\"Cassava\",\"Sweet potatoes\",\"Barley\",\"Rice, paddy (rice milled equivalent)\",\"Sugar beet\",\"Potatoes\",\"Rice, paddy\",\"Maize\",\"Wheat\",\"Sugar cane\"],\"type\":\"bar\"}],\"layout\":{\"bargap\":0.15,\"font\":{\"size\":14},\"plot_bgcolor\":\"#FFFFFF\",\"xaxis\":{\"range\":[0,1907024730.0],\"showline\":true,\"visible\":true},\"yaxis\":{\"showline\":false,\"visible\":true}},\"name\":\"1979\"},{\"data\":[{\"cliponaxis\":false,\"hoverinfo\":\"all\",\"hovertemplate\":\"<extra></extra>\",\"marker\":{\"color\":[\"rgb(234, 127, 19)\",\"rgb(204, 223, 90)\",\"rgb(31, 220, 223)\",\"rgb(255, 148, 50)\",\"rgb(88, 192, 172)\",\"rgb(92, 171, 115)\",\"rgb(49, 41, 74)\",\"rgb(41, 160, 91)\",\"rgb(135, 126, 225)\",\"rgb(106, 205, 53)\"]},\"orientation\":\"h\",\"textangle\":0,\"textposition\":\"outside\",\"texttemplate\":\"%{y}<br>%{x:.4s}\",\"x\":[124135066.0,137869239.0,156702822.0,240495788.0,264713164.0,267856451.0,396623388.0,396871310.0,440187901.0,734489200.0],\"y\":[\"Cassava\",\"Sweet potatoes\",\"Barley\",\"Potatoes\",\"Rice, paddy (rice milled equivalent)\",\"Sugar beet\",\"Maize\",\"Rice, paddy\",\"Wheat\",\"Sugar cane\"],\"type\":\"bar\"}],\"layout\":{\"bargap\":0.15,\"font\":{\"size\":14},\"plot_bgcolor\":\"#FFFFFF\",\"xaxis\":{\"range\":[0,1907024730.0],\"showline\":true,\"visible\":true},\"yaxis\":{\"showline\":false,\"visible\":true}},\"name\":\"1980\"},{\"data\":[{\"cliponaxis\":false,\"hoverinfo\":\"all\",\"hovertemplate\":\"<extra></extra>\",\"marker\":{\"color\":[\"rgb(204, 223, 90)\",\"rgb(234, 127, 19)\",\"rgb(31, 220, 223)\",\"rgb(255, 148, 50)\",\"rgb(88, 192, 172)\",\"rgb(92, 171, 115)\",\"rgb(41, 160, 91)\",\"rgb(49, 41, 74)\",\"rgb(135, 126, 225)\",\"rgb(106, 205, 53)\"]},\"orientation\":\"h\",\"textangle\":0,\"textposition\":\"outside\",\"texttemplate\":\"%{y}<br>%{x:.4s}\",\"x\":[125543727.0,127513877.0,149602582.0,267781520.0,273520179.0,287840286.0,410075231.0,446772517.0,449633986.0,799604214.0],\"y\":[\"Sweet potatoes\",\"Cassava\",\"Barley\",\"Potatoes\",\"Rice, paddy (rice milled equivalent)\",\"Sugar beet\",\"Rice, paddy\",\"Maize\",\"Wheat\",\"Sugar cane\"],\"type\":\"bar\"}],\"layout\":{\"bargap\":0.15,\"font\":{\"size\":14},\"plot_bgcolor\":\"#FFFFFF\",\"xaxis\":{\"range\":[0,1907024730.0],\"showline\":true,\"visible\":true},\"yaxis\":{\"showline\":false,\"visible\":true}},\"name\":\"1981\"},{\"data\":[{\"cliponaxis\":false,\"hoverinfo\":\"all\",\"hovertemplate\":\"<extra></extra>\",\"marker\":{\"color\":[\"rgb(234, 127, 19)\",\"rgb(204, 223, 90)\",\"rgb(31, 220, 223)\",\"rgb(255, 148, 50)\",\"rgb(88, 192, 172)\",\"rgb(92, 171, 115)\",\"rgb(41, 160, 91)\",\"rgb(49, 41, 74)\",\"rgb(135, 126, 225)\",\"rgb(106, 205, 53)\"]},\"orientation\":\"h\",\"textangle\":0,\"textposition\":\"outside\",\"texttemplate\":\"%{y}<br>%{x:.4s}\",\"x\":[128849568.0,129433910.0,161352537.0,265142602.0,281440016.0,291773194.0,421949049.0,448932280.0,476768609.0,907067880.0],\"y\":[\"Cassava\",\"Sweet potatoes\",\"Barley\",\"Potatoes\",\"Rice, paddy (rice milled equivalent)\",\"Sugar beet\",\"Rice, paddy\",\"Maize\",\"Wheat\",\"Sugar cane\"],\"type\":\"bar\"}],\"layout\":{\"bargap\":0.15,\"font\":{\"size\":14},\"plot_bgcolor\":\"#FFFFFF\",\"xaxis\":{\"range\":[0,1907024730.0],\"showline\":true,\"visible\":true},\"yaxis\":{\"showline\":false,\"visible\":true}},\"name\":\"1982\"},{\"data\":[{\"cliponaxis\":false,\"hoverinfo\":\"all\",\"hovertemplate\":\"<extra></extra>\",\"marker\":{\"color\":[\"rgb(234, 127, 19)\",\"rgb(204, 223, 90)\",\"rgb(31, 220, 223)\",\"rgb(255, 148, 50)\",\"rgb(92, 171, 115)\",\"rgb(88, 192, 172)\",\"rgb(49, 41, 74)\",\"rgb(41, 160, 91)\",\"rgb(135, 126, 225)\",\"rgb(106, 205, 53)\"]},\"orientation\":\"h\",\"textangle\":0,\"textposition\":\"outside\",\"texttemplate\":\"%{y}<br>%{x:.4s}\",\"x\":[126886287.0,137945719.0,159470171.0,264471009.0,274395485.0,298826869.0,347082034.0,448016295.0,489555281.0,903684353.0],\"y\":[\"Cassava\",\"Sweet potatoes\",\"Barley\",\"Potatoes\",\"Sugar beet\",\"Rice, paddy (rice milled equivalent)\",\"Maize\",\"Rice, paddy\",\"Wheat\",\"Sugar cane\"],\"type\":\"bar\"}],\"layout\":{\"bargap\":0.15,\"font\":{\"size\":14},\"plot_bgcolor\":\"#FFFFFF\",\"xaxis\":{\"range\":[0,1907024730.0],\"showline\":true,\"visible\":true},\"yaxis\":{\"showline\":false,\"visible\":true}},\"name\":\"1983\"},{\"data\":[{\"cliponaxis\":false,\"hoverinfo\":\"all\",\"hovertemplate\":\"<extra></extra>\",\"marker\":{\"color\":[\"rgb(204, 223, 90)\",\"rgb(234, 127, 19)\",\"rgb(31, 220, 223)\",\"rgb(255, 148, 50)\",\"rgb(92, 171, 115)\",\"rgb(88, 192, 172)\",\"rgb(49, 41, 74)\",\"rgb(41, 160, 91)\",\"rgb(135, 126, 225)\",\"rgb(106, 205, 53)\"]},\"orientation\":\"h\",\"textangle\":0,\"textposition\":\"outside\",\"texttemplate\":\"%{y}<br>%{x:.4s}\",\"x\":[133036563.0,133239818.0,169433845.0,290945972.0,296351939.0,310383713.0,450449992.0,465342898.0,512330225.0,929768246.0],\"y\":[\"Sweet potatoes\",\"Cassava\",\"Barley\",\"Potatoes\",\"Sugar beet\",\"Rice, paddy (rice milled equivalent)\",\"Maize\",\"Rice, paddy\",\"Wheat\",\"Sugar cane\"],\"type\":\"bar\"}],\"layout\":{\"bargap\":0.15,\"font\":{\"size\":14},\"plot_bgcolor\":\"#FFFFFF\",\"xaxis\":{\"range\":[0,1907024730.0],\"showline\":true,\"visible\":true},\"yaxis\":{\"showline\":false,\"visible\":true}},\"name\":\"1984\"},{\"data\":[{\"cliponaxis\":false,\"hoverinfo\":\"all\",\"hovertemplate\":\"<extra></extra>\",\"marker\":{\"color\":[\"rgb(204, 223, 90)\",\"rgb(234, 127, 19)\",\"rgb(31, 220, 223)\",\"rgb(255, 148, 50)\",\"rgb(92, 171, 115)\",\"rgb(88, 192, 172)\",\"rgb(41, 160, 91)\",\"rgb(49, 41, 74)\",\"rgb(135, 126, 225)\",\"rgb(106, 205, 53)\"]},\"orientation\":\"h\",\"textangle\":0,\"textposition\":\"outside\",\"texttemplate\":\"%{y}<br>%{x:.4s}\",\"x\":[122997023.0,135852865.0,172618338.0,281603760.0,284155160.0,312265770.0,468164572.0,485527301.0,499527392.0,933213589.0],\"y\":[\"Sweet potatoes\",\"Cassava\",\"Barley\",\"Potatoes\",\"Sugar beet\",\"Rice, paddy (rice milled equivalent)\",\"Rice, paddy\",\"Maize\",\"Wheat\",\"Sugar cane\"],\"type\":\"bar\"}],\"layout\":{\"bargap\":0.15,\"font\":{\"size\":14},\"plot_bgcolor\":\"#FFFFFF\",\"xaxis\":{\"range\":[0,1907024730.0],\"showline\":true,\"visible\":true},\"yaxis\":{\"showline\":false,\"visible\":true}},\"name\":\"1985\"},{\"data\":[{\"cliponaxis\":false,\"hoverinfo\":\"all\",\"hovertemplate\":\"<extra></extra>\",\"marker\":{\"color\":[\"rgb(247, 183, 217)\",\"rgb(234, 127, 19)\",\"rgb(31, 220, 223)\",\"rgb(92, 171, 115)\",\"rgb(255, 148, 50)\",\"rgb(88, 192, 172)\",\"rgb(41, 160, 91)\",\"rgb(49, 41, 74)\",\"rgb(135, 126, 225)\",\"rgb(106, 205, 53)\"]},\"orientation\":\"h\",\"textangle\":0,\"textposition\":\"outside\",\"texttemplate\":\"%{y}<br>%{x:.4s}\",\"x\":[129814219.0,134228164.0,177169275.0,286334048.0,286610518.0,312606386.0,468675242.0,478176622.0,528685222.0,934719186.0],\"y\":[\"Vegetables, fresh nes\",\"Cassava\",\"Barley\",\"Sugar beet\",\"Potatoes\",\"Rice, paddy (rice milled equivalent)\",\"Rice, paddy\",\"Maize\",\"Wheat\",\"Sugar cane\"],\"type\":\"bar\"}],\"layout\":{\"bargap\":0.15,\"font\":{\"size\":14},\"plot_bgcolor\":\"#FFFFFF\",\"xaxis\":{\"range\":[0,1907024730.0],\"showline\":true,\"visible\":true},\"yaxis\":{\"showline\":false,\"visible\":true}},\"name\":\"1986\"},{\"data\":[{\"cliponaxis\":false,\"hoverinfo\":\"all\",\"hovertemplate\":\"<extra></extra>\",\"marker\":{\"color\":[\"rgb(204, 223, 90)\",\"rgb(234, 127, 19)\",\"rgb(31, 220, 223)\",\"rgb(255, 148, 50)\",\"rgb(92, 171, 115)\",\"rgb(88, 192, 172)\",\"rgb(49, 41, 74)\",\"rgb(41, 160, 91)\",\"rgb(135, 126, 225)\",\"rgb(106, 205, 53)\"]},\"orientation\":\"h\",\"textangle\":0,\"textposition\":\"outside\",\"texttemplate\":\"%{y}<br>%{x:.4s}\",\"x\":[133652442.0,138134704.0,175288684.0,279415351.0,299751636.0,307780419.0,453115794.0,461439908.0,505075847.0,990319251.0],\"y\":[\"Sweet potatoes\",\"Cassava\",\"Barley\",\"Potatoes\",\"Sugar beet\",\"Rice, paddy (rice milled equivalent)\",\"Maize\",\"Rice, paddy\",\"Wheat\",\"Sugar cane\"],\"type\":\"bar\"}],\"layout\":{\"bargap\":0.15,\"font\":{\"size\":14},\"plot_bgcolor\":\"#FFFFFF\",\"xaxis\":{\"range\":[0,1907024730.0],\"showline\":true,\"visible\":true},\"yaxis\":{\"showline\":false,\"visible\":true}},\"name\":\"1987\"},{\"data\":[{\"cliponaxis\":false,\"hoverinfo\":\"all\",\"hovertemplate\":\"<extra></extra>\",\"marker\":{\"color\":[\"rgb(247, 183, 217)\",\"rgb(234, 127, 19)\",\"rgb(31, 220, 223)\",\"rgb(255, 148, 50)\",\"rgb(92, 171, 115)\",\"rgb(88, 192, 172)\",\"rgb(49, 41, 74)\",\"rgb(41, 160, 91)\",\"rgb(135, 126, 225)\",\"rgb(106, 205, 53)\"]},\"orientation\":\"h\",\"textangle\":0,\"textposition\":\"outside\",\"texttemplate\":\"%{y}<br>%{x:.4s}\",\"x\":[137997867.0,144878275.0,163396406.0,268603004.0,293570876.0,325134421.0,403050234.0,487457902.0,500656538.0,992982513.0],\"y\":[\"Vegetables, fresh nes\",\"Cassava\",\"Barley\",\"Potatoes\",\"Sugar beet\",\"Rice, paddy (rice milled equivalent)\",\"Maize\",\"Rice, paddy\",\"Wheat\",\"Sugar cane\"],\"type\":\"bar\"}],\"layout\":{\"bargap\":0.15,\"font\":{\"size\":14},\"plot_bgcolor\":\"#FFFFFF\",\"xaxis\":{\"range\":[0,1907024730.0],\"showline\":true,\"visible\":true},\"yaxis\":{\"showline\":false,\"visible\":true}},\"name\":\"1988\"},{\"data\":[{\"cliponaxis\":false,\"hoverinfo\":\"all\",\"hovertemplate\":\"<extra></extra>\",\"marker\":{\"color\":[\"rgb(247, 183, 217)\",\"rgb(234, 127, 19)\",\"rgb(31, 220, 223)\",\"rgb(255, 148, 50)\",\"rgb(92, 171, 115)\",\"rgb(88, 192, 172)\",\"rgb(49, 41, 74)\",\"rgb(41, 160, 91)\",\"rgb(135, 126, 225)\",\"rgb(106, 205, 53)\"]},\"orientation\":\"h\",\"textangle\":0,\"textposition\":\"outside\",\"texttemplate\":\"%{y}<br>%{x:.4s}\",\"x\":[138710355.0,152885746.0,164166455.0,276583863.0,314402899.0,343119234.0,476874503.0,514421640.0,538206114.0,1017998783.0],\"y\":[\"Vegetables, fresh nes\",\"Cassava\",\"Barley\",\"Potatoes\",\"Sugar beet\",\"Rice, paddy (rice milled equivalent)\",\"Maize\",\"Rice, paddy\",\"Wheat\",\"Sugar cane\"],\"type\":\"bar\"}],\"layout\":{\"bargap\":0.15,\"font\":{\"size\":14},\"plot_bgcolor\":\"#FFFFFF\",\"xaxis\":{\"range\":[0,1907024730.0],\"showline\":true,\"visible\":true},\"yaxis\":{\"showline\":false,\"visible\":true}},\"name\":\"1989\"},{\"data\":[{\"cliponaxis\":false,\"hoverinfo\":\"all\",\"hovertemplate\":\"<extra></extra>\",\"marker\":{\"color\":[\"rgb(247, 183, 217)\",\"rgb(234, 127, 19)\",\"rgb(31, 220, 223)\",\"rgb(255, 148, 50)\",\"rgb(92, 171, 115)\",\"rgb(88, 192, 172)\",\"rgb(49, 41, 74)\",\"rgb(41, 160, 91)\",\"rgb(135, 126, 225)\",\"rgb(106, 205, 53)\"]},\"orientation\":\"h\",\"textangle\":0,\"textposition\":\"outside\",\"texttemplate\":\"%{y}<br>%{x:.4s}\",\"x\":[140314879.0,152378682.0,178074020.0,266825273.0,309186724.0,345885292.0,483620724.0,518568653.0,591330111.0,1052997497.0],\"y\":[\"Vegetables, fresh nes\",\"Cassava\",\"Barley\",\"Potatoes\",\"Sugar beet\",\"Rice, paddy (rice milled equivalent)\",\"Maize\",\"Rice, paddy\",\"Wheat\",\"Sugar cane\"],\"type\":\"bar\"}],\"layout\":{\"bargap\":0.15,\"font\":{\"size\":14},\"plot_bgcolor\":\"#FFFFFF\",\"xaxis\":{\"range\":[0,1907024730.0],\"showline\":true,\"visible\":true},\"yaxis\":{\"showline\":false,\"visible\":true}},\"name\":\"1990\"},{\"data\":[{\"cliponaxis\":false,\"hoverinfo\":\"all\",\"hovertemplate\":\"<extra></extra>\",\"marker\":{\"color\":[\"rgb(247, 183, 217)\",\"rgb(234, 127, 19)\",\"rgb(31, 220, 223)\",\"rgb(255, 148, 50)\",\"rgb(92, 171, 115)\",\"rgb(88, 192, 172)\",\"rgb(49, 41, 74)\",\"rgb(41, 160, 91)\",\"rgb(135, 126, 225)\",\"rgb(106, 205, 53)\"]},\"orientation\":\"h\",\"textangle\":0,\"textposition\":\"outside\",\"texttemplate\":\"%{y}<br>%{x:.4s}\",\"x\":[135062201.0,160406516.0,169582274.0,256993281.0,285129013.0,345847886.0,494407622.0,518512573.0,547820731.0,1086955621.0],\"y\":[\"Vegetables, fresh nes\",\"Cassava\",\"Barley\",\"Potatoes\",\"Sugar beet\",\"Rice, paddy (rice milled equivalent)\",\"Maize\",\"Rice, paddy\",\"Wheat\",\"Sugar cane\"],\"type\":\"bar\"}],\"layout\":{\"bargap\":0.15,\"font\":{\"size\":14},\"plot_bgcolor\":\"#FFFFFF\",\"xaxis\":{\"range\":[0,1907024730.0],\"showline\":true,\"visible\":true},\"yaxis\":{\"showline\":false,\"visible\":true}},\"name\":\"1991\"},{\"data\":[{\"cliponaxis\":false,\"hoverinfo\":\"all\",\"hovertemplate\":\"<extra></extra>\",\"marker\":{\"color\":[\"rgb(247, 183, 217)\",\"rgb(234, 127, 19)\",\"rgb(31, 220, 223)\",\"rgb(255, 148, 50)\",\"rgb(92, 171, 115)\",\"rgb(88, 192, 172)\",\"rgb(41, 160, 91)\",\"rgb(49, 41, 74)\",\"rgb(135, 126, 225)\",\"rgb(106, 205, 53)\"]},\"orientation\":\"h\",\"textangle\":0,\"textposition\":\"outside\",\"texttemplate\":\"%{y}<br>%{x:.4s}\",\"x\":[144904166.0,162004349.0,165533308.0,278980652.0,281711850.0,352094665.0,527878059.0,533789336.0,565111947.0,1107576853.0],\"y\":[\"Vegetables, fresh nes\",\"Cassava\",\"Barley\",\"Potatoes\",\"Sugar beet\",\"Rice, paddy (rice milled equivalent)\",\"Rice, paddy\",\"Maize\",\"Wheat\",\"Sugar cane\"],\"type\":\"bar\"}],\"layout\":{\"bargap\":0.15,\"font\":{\"size\":14},\"plot_bgcolor\":\"#FFFFFF\",\"xaxis\":{\"range\":[0,1907024730.0],\"showline\":true,\"visible\":true},\"yaxis\":{\"showline\":false,\"visible\":true}},\"name\":\"1992\"},{\"data\":[{\"cliponaxis\":false,\"hoverinfo\":\"all\",\"hovertemplate\":\"<extra></extra>\",\"marker\":{\"color\":[\"rgb(247, 183, 217)\",\"rgb(234, 127, 19)\",\"rgb(31, 220, 223)\",\"rgb(92, 171, 115)\",\"rgb(255, 148, 50)\",\"rgb(88, 192, 172)\",\"rgb(49, 41, 74)\",\"rgb(41, 160, 91)\",\"rgb(135, 126, 225)\",\"rgb(106, 205, 53)\"]},\"orientation\":\"h\",\"textangle\":0,\"textposition\":\"outside\",\"texttemplate\":\"%{y}<br>%{x:.4s}\",\"x\":[155428142.0,163185199.0,169542965.0,282190576.0,304619922.0,353242902.0,477221153.0,529599553.0,564739765.0,1020881319.0],\"y\":[\"Vegetables, fresh nes\",\"Cassava\",\"Barley\",\"Sugar beet\",\"Potatoes\",\"Rice, paddy (rice milled equivalent)\",\"Maize\",\"Rice, paddy\",\"Wheat\",\"Sugar cane\"],\"type\":\"bar\"}],\"layout\":{\"bargap\":0.15,\"font\":{\"size\":14},\"plot_bgcolor\":\"#FFFFFF\",\"xaxis\":{\"range\":[0,1907024730.0],\"showline\":true,\"visible\":true},\"yaxis\":{\"showline\":false,\"visible\":true}},\"name\":\"1993\"},{\"data\":[{\"cliponaxis\":false,\"hoverinfo\":\"all\",\"hovertemplate\":\"<extra></extra>\",\"marker\":{\"color\":[\"rgb(31, 220, 223)\",\"rgb(247, 183, 217)\",\"rgb(234, 127, 19)\",\"rgb(92, 171, 115)\",\"rgb(255, 148, 50)\",\"rgb(88, 192, 172)\",\"rgb(135, 126, 225)\",\"rgb(41, 160, 91)\",\"rgb(49, 41, 74)\",\"rgb(106, 205, 53)\"]},\"orientation\":\"h\",\"textangle\":0,\"textposition\":\"outside\",\"texttemplate\":\"%{y}<br>%{x:.4s}\",\"x\":[161019263.0,161088312.0,164501121.0,254453796.0,270203771.0,359240229.0,525435323.0,538591048.0,568663564.0,1084097363.0],\"y\":[\"Barley\",\"Vegetables, fresh nes\",\"Cassava\",\"Sugar beet\",\"Potatoes\",\"Rice, paddy (rice milled equivalent)\",\"Wheat\",\"Rice, paddy\",\"Maize\",\"Sugar cane\"],\"type\":\"bar\"}],\"layout\":{\"bargap\":0.15,\"font\":{\"size\":14},\"plot_bgcolor\":\"#FFFFFF\",\"xaxis\":{\"range\":[0,1907024730.0],\"showline\":true,\"visible\":true},\"yaxis\":{\"showline\":false,\"visible\":true}},\"name\":\"1994\"},{\"data\":[{\"cliponaxis\":false,\"hoverinfo\":\"all\",\"hovertemplate\":\"<extra></extra>\",\"marker\":{\"color\":[\"rgb(31, 220, 223)\",\"rgb(234, 127, 19)\",\"rgb(247, 183, 217)\",\"rgb(92, 171, 115)\",\"rgb(255, 148, 50)\",\"rgb(88, 192, 172)\",\"rgb(49, 41, 74)\",\"rgb(135, 126, 225)\",\"rgb(41, 160, 91)\",\"rgb(106, 205, 53)\"]},\"orientation\":\"h\",\"textangle\":0,\"textposition\":\"outside\",\"texttemplate\":\"%{y}<br>%{x:.4s}\",\"x\":[140724630.0,161787472.0,165885731.0,264504934.0,285333037.0,364957060.0,517299059.0,544357532.0,547162009.0,1163366858.0],\"y\":[\"Barley\",\"Cassava\",\"Vegetables, fresh nes\",\"Sugar beet\",\"Potatoes\",\"Rice, paddy (rice milled equivalent)\",\"Maize\",\"Wheat\",\"Rice, paddy\",\"Sugar cane\"],\"type\":\"bar\"}],\"layout\":{\"bargap\":0.15,\"font\":{\"size\":14},\"plot_bgcolor\":\"#FFFFFF\",\"xaxis\":{\"range\":[0,1907024730.0],\"showline\":true,\"visible\":true},\"yaxis\":{\"showline\":false,\"visible\":true}},\"name\":\"1995\"},{\"data\":[{\"cliponaxis\":false,\"hoverinfo\":\"all\",\"hovertemplate\":\"<extra></extra>\",\"marker\":{\"color\":[\"rgb(31, 220, 223)\",\"rgb(234, 127, 19)\",\"rgb(247, 183, 217)\",\"rgb(92, 171, 115)\",\"rgb(255, 148, 50)\",\"rgb(88, 192, 172)\",\"rgb(41, 160, 91)\",\"rgb(135, 126, 225)\",\"rgb(49, 41, 74)\",\"rgb(106, 205, 53)\"]},\"orientation\":\"h\",\"textangle\":0,\"textposition\":\"outside\",\"texttemplate\":\"%{y}<br>%{x:.4s}\",\"x\":[155017318.0,158373490.0,171922447.0,264461343.0,310493658.0,379294907.0,568658031.0,578616933.0,586146163.0,1218890125.0],\"y\":[\"Barley\",\"Cassava\",\"Vegetables, fresh nes\",\"Sugar beet\",\"Potatoes\",\"Rice, paddy (rice milled equivalent)\",\"Rice, paddy\",\"Wheat\",\"Maize\",\"Sugar cane\"],\"type\":\"bar\"}],\"layout\":{\"bargap\":0.15,\"font\":{\"size\":14},\"plot_bgcolor\":\"#FFFFFF\",\"xaxis\":{\"range\":[0,1907024730.0],\"showline\":true,\"visible\":true},\"yaxis\":{\"showline\":false,\"visible\":true}},\"name\":\"1996\"},{\"data\":[{\"cliponaxis\":false,\"hoverinfo\":\"all\",\"hovertemplate\":\"<extra></extra>\",\"marker\":{\"color\":[\"rgb(31, 220, 223)\",\"rgb(234, 127, 19)\",\"rgb(247, 183, 217)\",\"rgb(92, 171, 115)\",\"rgb(255, 148, 50)\",\"rgb(88, 192, 172)\",\"rgb(41, 160, 91)\",\"rgb(49, 41, 74)\",\"rgb(135, 126, 225)\",\"rgb(106, 205, 53)\"]},\"orientation\":\"h\",\"textangle\":0,\"textposition\":\"outside\",\"texttemplate\":\"%{y}<br>%{x:.4s}\",\"x\":[154359212.0,161747290.0,175581351.0,267973956.0,301079129.0,384950308.0,577136893.0,584411894.0,614651780.0,1246425310.0],\"y\":[\"Barley\",\"Cassava\",\"Vegetables, fresh nes\",\"Sugar beet\",\"Potatoes\",\"Rice, paddy (rice milled equivalent)\",\"Rice, paddy\",\"Maize\",\"Wheat\",\"Sugar cane\"],\"type\":\"bar\"}],\"layout\":{\"bargap\":0.15,\"font\":{\"size\":14},\"plot_bgcolor\":\"#FFFFFF\",\"xaxis\":{\"range\":[0,1907024730.0],\"showline\":true,\"visible\":true},\"yaxis\":{\"showline\":false,\"visible\":true}},\"name\":\"1997\"},{\"data\":[{\"cliponaxis\":false,\"hoverinfo\":\"all\",\"hovertemplate\":\"<extra></extra>\",\"marker\":{\"color\":[\"rgb(69, 227, 216)\",\"rgb(234, 127, 19)\",\"rgb(247, 183, 217)\",\"rgb(92, 171, 115)\",\"rgb(255, 148, 50)\",\"rgb(88, 192, 172)\",\"rgb(41, 160, 91)\",\"rgb(135, 126, 225)\",\"rgb(49, 41, 74)\",\"rgb(106, 205, 53)\"]},\"orientation\":\"h\",\"textangle\":0,\"textposition\":\"outside\",\"texttemplate\":\"%{y}<br>%{x:.4s}\",\"x\":[160128822.0,162613417.0,178523814.0,263032522.0,297834904.0,386068923.0,578813977.0,596175815.0,615081853.0,1263674263.0],\"y\":[\"Soybeans\",\"Cassava\",\"Vegetables, fresh nes\",\"Sugar beet\",\"Potatoes\",\"Rice, paddy (rice milled equivalent)\",\"Rice, paddy\",\"Wheat\",\"Maize\",\"Sugar cane\"],\"type\":\"bar\"}],\"layout\":{\"bargap\":0.15,\"font\":{\"size\":14},\"plot_bgcolor\":\"#FFFFFF\",\"xaxis\":{\"range\":[0,1907024730.0],\"showline\":true,\"visible\":true},\"yaxis\":{\"showline\":false,\"visible\":true}},\"name\":\"1998\"},{\"data\":[{\"cliponaxis\":false,\"hoverinfo\":\"all\",\"hovertemplate\":\"<extra></extra>\",\"marker\":{\"color\":[\"rgb(69, 227, 216)\",\"rgb(234, 127, 19)\",\"rgb(247, 183, 217)\",\"rgb(92, 171, 115)\",\"rgb(255, 148, 50)\",\"rgb(88, 192, 172)\",\"rgb(135, 126, 225)\",\"rgb(49, 41, 74)\",\"rgb(41, 160, 91)\",\"rgb(106, 205, 53)\"]},\"orientation\":\"h\",\"textangle\":0,\"textposition\":\"outside\",\"texttemplate\":\"%{y}<br>%{x:.4s}\",\"x\":[157815479.0,168847321.0,188064527.0,260565420.0,296076184.0,407655445.0,584763438.0,607434709.0,611177579.0,1282128475.0],\"y\":[\"Soybeans\",\"Cassava\",\"Vegetables, fresh nes\",\"Sugar beet\",\"Potatoes\",\"Rice, paddy (rice milled equivalent)\",\"Wheat\",\"Maize\",\"Rice, paddy\",\"Sugar cane\"],\"type\":\"bar\"}],\"layout\":{\"bargap\":0.15,\"font\":{\"size\":14},\"plot_bgcolor\":\"#FFFFFF\",\"xaxis\":{\"range\":[0,1907024730.0],\"showline\":true,\"visible\":true},\"yaxis\":{\"showline\":false,\"visible\":true}},\"name\":\"1999\"},{\"data\":[{\"cliponaxis\":false,\"hoverinfo\":\"all\",\"hovertemplate\":\"<extra></extra>\",\"marker\":{\"color\":[\"rgb(69, 227, 216)\",\"rgb(234, 127, 19)\",\"rgb(247, 183, 217)\",\"rgb(92, 171, 115)\",\"rgb(255, 148, 50)\",\"rgb(88, 192, 172)\",\"rgb(135, 126, 225)\",\"rgb(49, 41, 74)\",\"rgb(41, 160, 91)\",\"rgb(106, 205, 53)\"]},\"orientation\":\"h\",\"textangle\":0,\"textposition\":\"outside\",\"texttemplate\":\"%{y}<br>%{x:.4s}\",\"x\":[161308383.0,175846840.0,211610549.0,250148505.0,322775223.0,399311670.0,584999160.0,592038698.0,598668171.0,1252668856.0],\"y\":[\"Soybeans\",\"Cassava\",\"Vegetables, fresh nes\",\"Sugar beet\",\"Potatoes\",\"Rice, paddy (rice milled equivalent)\",\"Wheat\",\"Maize\",\"Rice, paddy\",\"Sugar cane\"],\"type\":\"bar\"}],\"layout\":{\"bargap\":0.15,\"font\":{\"size\":14},\"plot_bgcolor\":\"#FFFFFF\",\"xaxis\":{\"range\":[0,1907024730.0],\"showline\":true,\"visible\":true},\"yaxis\":{\"showline\":false,\"visible\":true}},\"name\":\"2000\"},{\"data\":[{\"cliponaxis\":false,\"hoverinfo\":\"all\",\"hovertemplate\":\"<extra></extra>\",\"marker\":{\"color\":[\"rgb(69, 227, 216)\",\"rgb(234, 127, 19)\",\"rgb(247, 183, 217)\",\"rgb(92, 171, 115)\",\"rgb(255, 148, 50)\",\"rgb(88, 192, 172)\",\"rgb(135, 126, 225)\",\"rgb(41, 160, 91)\",\"rgb(49, 41, 74)\",\"rgb(106, 205, 53)\"]},\"orientation\":\"h\",\"textangle\":0,\"textposition\":\"outside\",\"texttemplate\":\"%{y}<br>%{x:.4s}\",\"x\":[177020743.0,181687057.0,227180655.0,230314950.0,305492291.0,400364493.0,588243664.0,600246617.0,615152413.0,1257665353.0],\"y\":[\"Soybeans\",\"Cassava\",\"Vegetables, fresh nes\",\"Sugar beet\",\"Potatoes\",\"Rice, paddy (rice milled equivalent)\",\"Wheat\",\"Rice, paddy\",\"Maize\",\"Sugar cane\"],\"type\":\"bar\"}],\"layout\":{\"bargap\":0.15,\"font\":{\"size\":14},\"plot_bgcolor\":\"#FFFFFF\",\"xaxis\":{\"range\":[0,1907024730.0],\"showline\":true,\"visible\":true},\"yaxis\":{\"showline\":false,\"visible\":true}},\"name\":\"2001\"},{\"data\":[{\"cliponaxis\":false,\"hoverinfo\":\"all\",\"hovertemplate\":\"<extra></extra>\",\"marker\":{\"color\":[\"rgb(69, 227, 216)\",\"rgb(234, 127, 19)\",\"rgb(247, 183, 217)\",\"rgb(92, 171, 115)\",\"rgb(255, 148, 50)\",\"rgb(88, 192, 172)\",\"rgb(41, 160, 91)\",\"rgb(135, 126, 225)\",\"rgb(49, 41, 74)\",\"rgb(106, 205, 53)\"]},\"orientation\":\"h\",\"textangle\":0,\"textposition\":\"outside\",\"texttemplate\":\"%{y}<br>%{x:.4s}\",\"x\":[180950733.0,182642727.0,226692031.0,259606962.0,309800226.0,380891169.0,571051228.0,592045286.0,603551954.0,1326773955.0],\"y\":[\"Soybeans\",\"Cassava\",\"Vegetables, fresh nes\",\"Sugar beet\",\"Potatoes\",\"Rice, paddy (rice milled equivalent)\",\"Rice, paddy\",\"Wheat\",\"Maize\",\"Sugar cane\"],\"type\":\"bar\"}],\"layout\":{\"bargap\":0.15,\"font\":{\"size\":14},\"plot_bgcolor\":\"#FFFFFF\",\"xaxis\":{\"range\":[0,1907024730.0],\"showline\":true,\"visible\":true},\"yaxis\":{\"showline\":false,\"visible\":true}},\"name\":\"2002\"},{\"data\":[{\"cliponaxis\":false,\"hoverinfo\":\"all\",\"hovertemplate\":\"<extra></extra>\",\"marker\":{\"color\":[\"rgb(69, 227, 216)\",\"rgb(234, 127, 19)\",\"rgb(92, 171, 115)\",\"rgb(247, 183, 217)\",\"rgb(255, 148, 50)\",\"rgb(88, 192, 172)\",\"rgb(135, 126, 225)\",\"rgb(41, 160, 91)\",\"rgb(49, 41, 74)\",\"rgb(106, 205, 53)\"]},\"orientation\":\"h\",\"textangle\":0,\"textposition\":\"outside\",\"texttemplate\":\"%{y}<br>%{x:.4s}\",\"x\":[190573528.0,192215569.0,232734248.0,237183104.0,307591201.0,391483259.0,549974473.0,586931423.0,645055272.0,1371880978.0],\"y\":[\"Soybeans\",\"Cassava\",\"Sugar beet\",\"Vegetables, fresh nes\",\"Potatoes\",\"Rice, paddy (rice milled equivalent)\",\"Wheat\",\"Rice, paddy\",\"Maize\",\"Sugar cane\"],\"type\":\"bar\"}],\"layout\":{\"bargap\":0.15,\"font\":{\"size\":14},\"plot_bgcolor\":\"#FFFFFF\",\"xaxis\":{\"range\":[0,1907024730.0],\"showline\":true,\"visible\":true},\"yaxis\":{\"showline\":false,\"visible\":true}},\"name\":\"2003\"},{\"data\":[{\"cliponaxis\":false,\"hoverinfo\":\"all\",\"hovertemplate\":\"<extra></extra>\",\"marker\":{\"color\":[\"rgb(234, 127, 19)\",\"rgb(69, 227, 216)\",\"rgb(247, 183, 217)\",\"rgb(92, 171, 115)\",\"rgb(255, 148, 50)\",\"rgb(88, 192, 172)\",\"rgb(41, 160, 91)\",\"rgb(135, 126, 225)\",\"rgb(49, 41, 74)\",\"rgb(106, 205, 53)\"]},\"orientation\":\"h\",\"textangle\":0,\"textposition\":\"outside\",\"texttemplate\":\"%{y}<br>%{x:.4s}\",\"x\":[203831956.0,205548134.0,224325418.0,251589379.0,328165612.0,405101582.0,607348698.0,634666010.0,729517951.0,1333138427.0],\"y\":[\"Cassava\",\"Soybeans\",\"Vegetables, fresh nes\",\"Sugar beet\",\"Potatoes\",\"Rice, paddy (rice milled equivalent)\",\"Rice, paddy\",\"Wheat\",\"Maize\",\"Sugar cane\"],\"type\":\"bar\"}],\"layout\":{\"bargap\":0.15,\"font\":{\"size\":14},\"plot_bgcolor\":\"#FFFFFF\",\"xaxis\":{\"range\":[0,1907024730.0],\"showline\":true,\"visible\":true},\"yaxis\":{\"showline\":false,\"visible\":true}},\"name\":\"2004\"},{\"data\":[{\"cliponaxis\":false,\"hoverinfo\":\"all\",\"hovertemplate\":\"<extra></extra>\",\"marker\":{\"color\":[\"rgb(234, 127, 19)\",\"rgb(69, 227, 216)\",\"rgb(247, 183, 217)\",\"rgb(92, 171, 115)\",\"rgb(255, 148, 50)\",\"rgb(88, 192, 172)\",\"rgb(135, 126, 225)\",\"rgb(41, 160, 91)\",\"rgb(49, 41, 74)\",\"rgb(106, 205, 53)\"]},\"orientation\":\"h\",\"textangle\":0,\"textposition\":\"outside\",\"texttemplate\":\"%{y}<br>%{x:.4s}\",\"x\":[206533771.0,214542761.0,231771630.0,253737449.0,317675179.0,423028136.0,627020836.0,634225091.0,714191174.0,1306307695.0],\"y\":[\"Cassava\",\"Soybeans\",\"Vegetables, fresh nes\",\"Sugar beet\",\"Potatoes\",\"Rice, paddy (rice milled equivalent)\",\"Wheat\",\"Rice, paddy\",\"Maize\",\"Sugar cane\"],\"type\":\"bar\"}],\"layout\":{\"bargap\":0.15,\"font\":{\"size\":14},\"plot_bgcolor\":\"#FFFFFF\",\"xaxis\":{\"range\":[0,1907024730.0],\"showline\":true,\"visible\":true},\"yaxis\":{\"showline\":false,\"visible\":true}},\"name\":\"2005\"},{\"data\":[{\"cliponaxis\":false,\"hoverinfo\":\"all\",\"hovertemplate\":\"<extra></extra>\",\"marker\":{\"color\":[\"rgb(69, 227, 216)\",\"rgb(234, 127, 19)\",\"rgb(247, 183, 217)\",\"rgb(92, 171, 115)\",\"rgb(255, 148, 50)\",\"rgb(88, 192, 172)\",\"rgb(135, 126, 225)\",\"rgb(41, 160, 91)\",\"rgb(49, 41, 74)\",\"rgb(106, 205, 53)\"]},\"orientation\":\"h\",\"textangle\":0,\"textposition\":\"outside\",\"texttemplate\":\"%{y}<br>%{x:.4s}\",\"x\":[221558922.0,223636615.0,241884277.0,254025175.0,307572166.0,427350243.0,614381123.0,640705012.0,707937211.0,1417376025.0],\"y\":[\"Soybeans\",\"Cassava\",\"Vegetables, fresh nes\",\"Sugar beet\",\"Potatoes\",\"Rice, paddy (rice milled equivalent)\",\"Wheat\",\"Rice, paddy\",\"Maize\",\"Sugar cane\"],\"type\":\"bar\"}],\"layout\":{\"bargap\":0.15,\"font\":{\"size\":14},\"plot_bgcolor\":\"#FFFFFF\",\"xaxis\":{\"range\":[0,1907024730.0],\"showline\":true,\"visible\":true},\"yaxis\":{\"showline\":false,\"visible\":true}},\"name\":\"2006\"},{\"data\":[{\"cliponaxis\":false,\"hoverinfo\":\"all\",\"hovertemplate\":\"<extra></extra>\",\"marker\":{\"color\":[\"rgb(69, 227, 216)\",\"rgb(234, 127, 19)\",\"rgb(247, 183, 217)\",\"rgb(92, 171, 115)\",\"rgb(255, 148, 50)\",\"rgb(88, 192, 172)\",\"rgb(135, 126, 225)\",\"rgb(41, 160, 91)\",\"rgb(49, 41, 74)\",\"rgb(106, 205, 53)\"]},\"orientation\":\"h\",\"textangle\":0,\"textposition\":\"outside\",\"texttemplate\":\"%{y}<br>%{x:.4s}\",\"x\":[219793075.0,226974274.0,244610984.0,246945604.0,313191368.0,437923034.0,606595140.0,656556273.0,792732888.0,1605136205.0],\"y\":[\"Soybeans\",\"Cassava\",\"Vegetables, fresh nes\",\"Sugar beet\",\"Potatoes\",\"Rice, paddy (rice milled equivalent)\",\"Wheat\",\"Rice, paddy\",\"Maize\",\"Sugar cane\"],\"type\":\"bar\"}],\"layout\":{\"bargap\":0.15,\"font\":{\"size\":14},\"plot_bgcolor\":\"#FFFFFF\",\"xaxis\":{\"range\":[0,1907024730.0],\"showline\":true,\"visible\":true},\"yaxis\":{\"showline\":false,\"visible\":true}},\"name\":\"2007\"},{\"data\":[{\"cliponaxis\":false,\"hoverinfo\":\"all\",\"hovertemplate\":\"<extra></extra>\",\"marker\":{\"color\":[\"rgb(92, 171, 115)\",\"rgb(234, 127, 19)\",\"rgb(69, 227, 216)\",\"rgb(247, 183, 217)\",\"rgb(255, 148, 50)\",\"rgb(88, 192, 172)\",\"rgb(135, 126, 225)\",\"rgb(41, 160, 91)\",\"rgb(49, 41, 74)\",\"rgb(106, 205, 53)\"]},\"orientation\":\"h\",\"textangle\":0,\"textposition\":\"outside\",\"texttemplate\":\"%{y}<br>%{x:.4s}\",\"x\":[221199239.0,230081674.0,231223485.0,249305237.0,327188473.0,458262606.0,680294443.0,687050383.0,829240208.0,1721251508.0],\"y\":[\"Sugar beet\",\"Cassava\",\"Soybeans\",\"Vegetables, fresh nes\",\"Potatoes\",\"Rice, paddy (rice milled equivalent)\",\"Wheat\",\"Rice, paddy\",\"Maize\",\"Sugar cane\"],\"type\":\"bar\"}],\"layout\":{\"bargap\":0.15,\"font\":{\"size\":14},\"plot_bgcolor\":\"#FFFFFF\",\"xaxis\":{\"range\":[0,1907024730.0],\"showline\":true,\"visible\":true},\"yaxis\":{\"showline\":false,\"visible\":true}},\"name\":\"2008\"},{\"data\":[{\"cliponaxis\":false,\"hoverinfo\":\"all\",\"hovertemplate\":\"<extra></extra>\",\"marker\":{\"color\":[\"rgb(69, 227, 216)\",\"rgb(92, 171, 115)\",\"rgb(234, 127, 19)\",\"rgb(247, 183, 217)\",\"rgb(255, 148, 50)\",\"rgb(88, 192, 172)\",\"rgb(135, 126, 225)\",\"rgb(41, 160, 91)\",\"rgb(49, 41, 74)\",\"rgb(106, 205, 53)\"]},\"orientation\":\"h\",\"textangle\":0,\"textposition\":\"outside\",\"texttemplate\":\"%{y}<br>%{x:.4s}\",\"x\":[223380802.0,227985771.0,233794346.0,248581509.0,330740148.0,457333039.0,683639171.0,685656731.0,820072448.0,1677610596.0],\"y\":[\"Soybeans\",\"Sugar beet\",\"Cassava\",\"Vegetables, fresh nes\",\"Potatoes\",\"Rice, paddy (rice milled equivalent)\",\"Wheat\",\"Rice, paddy\",\"Maize\",\"Sugar cane\"],\"type\":\"bar\"}],\"layout\":{\"bargap\":0.15,\"font\":{\"size\":14},\"plot_bgcolor\":\"#FFFFFF\",\"xaxis\":{\"range\":[0,1907024730.0],\"showline\":true,\"visible\":true},\"yaxis\":{\"showline\":false,\"visible\":true}},\"name\":\"2009\"},{\"data\":[{\"cliponaxis\":false,\"hoverinfo\":\"all\",\"hovertemplate\":\"<extra></extra>\",\"marker\":{\"color\":[\"rgb(92, 171, 115)\",\"rgb(234, 127, 19)\",\"rgb(247, 183, 217)\",\"rgb(69, 227, 216)\",\"rgb(255, 148, 50)\",\"rgb(88, 192, 172)\",\"rgb(135, 126, 225)\",\"rgb(41, 160, 91)\",\"rgb(49, 41, 74)\",\"rgb(106, 205, 53)\"]},\"orientation\":\"h\",\"textangle\":0,\"textposition\":\"outside\",\"texttemplate\":\"%{y}<br>%{x:.4s}\",\"x\":[228408922.0,239296357.0,259746276.0,265088429.0,328616920.0,467659411.0,640802665.0,701138548.0,851679519.0,1682839957.0],\"y\":[\"Sugar beet\",\"Cassava\",\"Vegetables, fresh nes\",\"Soybeans\",\"Potatoes\",\"Rice, paddy (rice milled equivalent)\",\"Wheat\",\"Rice, paddy\",\"Maize\",\"Sugar cane\"],\"type\":\"bar\"}],\"layout\":{\"bargap\":0.15,\"font\":{\"size\":14},\"plot_bgcolor\":\"#FFFFFF\",\"xaxis\":{\"range\":[0,1907024730.0],\"showline\":true,\"visible\":true},\"yaxis\":{\"showline\":false,\"visible\":true}},\"name\":\"2010\"},{\"data\":[{\"cliponaxis\":false,\"hoverinfo\":\"all\",\"hovertemplate\":\"<extra></extra>\",\"marker\":{\"color\":[\"rgb(234, 127, 19)\",\"rgb(247, 183, 217)\",\"rgb(69, 227, 216)\",\"rgb(92, 171, 115)\",\"rgb(255, 148, 50)\",\"rgb(88, 192, 172)\",\"rgb(135, 126, 225)\",\"rgb(41, 160, 91)\",\"rgb(49, 41, 74)\",\"rgb(106, 205, 53)\"]},\"orientation\":\"h\",\"textangle\":0,\"textposition\":\"outside\",\"texttemplate\":\"%{y}<br>%{x:.4s}\",\"x\":[251822205.0,260842101.0,261601653.0,278833260.0,367889898.0,484492968.0,696898368.0,726376264.0,886680581.0,1794120501.0],\"y\":[\"Cassava\",\"Vegetables, fresh nes\",\"Soybeans\",\"Sugar beet\",\"Potatoes\",\"Rice, paddy (rice milled equivalent)\",\"Wheat\",\"Rice, paddy\",\"Maize\",\"Sugar cane\"],\"type\":\"bar\"}],\"layout\":{\"bargap\":0.15,\"font\":{\"size\":14},\"plot_bgcolor\":\"#FFFFFF\",\"xaxis\":{\"range\":[0,1907024730.0],\"showline\":true,\"visible\":true},\"yaxis\":{\"showline\":false,\"visible\":true}},\"name\":\"2011\"},{\"data\":[{\"cliponaxis\":false,\"hoverinfo\":\"all\",\"hovertemplate\":\"<extra></extra>\",\"marker\":{\"color\":[\"rgb(99, 208, 163)\",\"rgb(92, 171, 115)\",\"rgb(247, 183, 217)\",\"rgb(234, 127, 19)\",\"rgb(255, 148, 50)\",\"rgb(88, 192, 172)\",\"rgb(135, 126, 225)\",\"rgb(41, 160, 91)\",\"rgb(49, 41, 74)\",\"rgb(106, 205, 53)\"]},\"orientation\":\"h\",\"textangle\":0,\"textposition\":\"outside\",\"texttemplate\":\"%{y}<br>%{x:.4s}\",\"x\":[256568919.0,269637113.0,272044780.0,277683210.0,361003266.0,491310036.0,673728907.0,736596755.0,875039160.0,1831008220.0],\"y\":[\"Oil palm fruit\",\"Sugar beet\",\"Vegetables, fresh nes\",\"Cassava\",\"Potatoes\",\"Rice, paddy (rice milled equivalent)\",\"Wheat\",\"Rice, paddy\",\"Maize\",\"Sugar cane\"],\"type\":\"bar\"}],\"layout\":{\"bargap\":0.15,\"font\":{\"size\":14},\"plot_bgcolor\":\"#FFFFFF\",\"xaxis\":{\"range\":[0,1907024730.0],\"showline\":true,\"visible\":true},\"yaxis\":{\"showline\":false,\"visible\":true}},\"name\":\"2012\"},{\"data\":[{\"cliponaxis\":false,\"hoverinfo\":\"all\",\"hovertemplate\":\"<extra></extra>\",\"marker\":{\"color\":[\"rgb(99, 208, 163)\",\"rgb(69, 227, 216)\",\"rgb(247, 183, 217)\",\"rgb(234, 127, 19)\",\"rgb(255, 148, 50)\",\"rgb(88, 192, 172)\",\"rgb(135, 126, 225)\",\"rgb(41, 160, 91)\",\"rgb(49, 41, 74)\",\"rgb(106, 205, 53)\"]},\"orientation\":\"h\",\"textangle\":0,\"textposition\":\"outside\",\"texttemplate\":\"%{y}<br>%{x:.4s}\",\"x\":[265060825.0,277672608.0,277982471.0,278454322.0,365087514.0,495250794.0,710397103.0,742504938.0,1016207182.0,1901868866.0],\"y\":[\"Oil palm fruit\",\"Soybeans\",\"Vegetables, fresh nes\",\"Cassava\",\"Potatoes\",\"Rice, paddy (rice milled equivalent)\",\"Wheat\",\"Rice, paddy\",\"Maize\",\"Sugar cane\"],\"type\":\"bar\"}],\"layout\":{\"bargap\":0.15,\"font\":{\"size\":14},\"plot_bgcolor\":\"#FFFFFF\",\"xaxis\":{\"range\":[0,1907024730.0],\"showline\":true,\"visible\":true},\"yaxis\":{\"showline\":false,\"visible\":true}},\"name\":\"2013\"},{\"data\":[{\"cliponaxis\":false,\"hoverinfo\":\"all\",\"hovertemplate\":\"<extra></extra>\",\"marker\":{\"color\":[\"rgb(247, 183, 217)\",\"rgb(99, 208, 163)\",\"rgb(234, 127, 19)\",\"rgb(69, 227, 216)\",\"rgb(255, 148, 50)\",\"rgb(88, 192, 172)\",\"rgb(135, 126, 225)\",\"rgb(41, 160, 91)\",\"rgb(49, 41, 74)\",\"rgb(106, 205, 53)\"]},\"orientation\":\"h\",\"textangle\":0,\"textposition\":\"outside\",\"texttemplate\":\"%{y}<br>%{x:.4s}\",\"x\":[285693443.0,285916764.0,290942989.0,306348530.0,369966532.0,495216917.0,728730126.0,742454148.0,1039226655.0,1885955643.0],\"y\":[\"Vegetables, fresh nes\",\"Oil palm fruit\",\"Cassava\",\"Soybeans\",\"Potatoes\",\"Rice, paddy (rice milled equivalent)\",\"Wheat\",\"Rice, paddy\",\"Maize\",\"Sugar cane\"],\"type\":\"bar\"}],\"layout\":{\"bargap\":0.15,\"font\":{\"size\":14},\"plot_bgcolor\":\"#FFFFFF\",\"xaxis\":{\"range\":[0,1907024730.0],\"showline\":true,\"visible\":true},\"yaxis\":{\"showline\":false,\"visible\":true}},\"name\":\"2014\"},{\"data\":[{\"cliponaxis\":false,\"hoverinfo\":\"all\",\"hovertemplate\":\"<extra></extra>\",\"marker\":{\"color\":[\"rgb(247, 183, 217)\",\"rgb(234, 127, 19)\",\"rgb(99, 208, 163)\",\"rgb(69, 227, 216)\",\"rgb(255, 148, 50)\",\"rgb(88, 192, 172)\",\"rgb(135, 126, 225)\",\"rgb(41, 160, 91)\",\"rgb(49, 41, 74)\",\"rgb(106, 205, 53)\"]},\"orientation\":\"h\",\"textangle\":0,\"textposition\":\"outside\",\"texttemplate\":\"%{y}<br>%{x:.4s}\",\"x\":[288931169.0,293010305.0,300284643.0,323306702.0,365748227.0,497518927.0,741643258.0,745905437.0,1052127378.0,1875060932.0],\"y\":[\"Vegetables, fresh nes\",\"Cassava\",\"Oil palm fruit\",\"Soybeans\",\"Potatoes\",\"Rice, paddy (rice milled equivalent)\",\"Wheat\",\"Rice, paddy\",\"Maize\",\"Sugar cane\"],\"type\":\"bar\"}],\"layout\":{\"bargap\":0.15,\"font\":{\"size\":14},\"plot_bgcolor\":\"#FFFFFF\",\"xaxis\":{\"range\":[0,1907024730.0],\"showline\":true,\"visible\":true},\"yaxis\":{\"showline\":false,\"visible\":true}},\"name\":\"2015\"},{\"data\":[{\"cliponaxis\":false,\"hoverinfo\":\"all\",\"hovertemplate\":\"<extra></extra>\",\"marker\":{\"color\":[\"rgb(92, 171, 115)\",\"rgb(234, 127, 19)\",\"rgb(247, 183, 217)\",\"rgb(69, 227, 216)\",\"rgb(255, 148, 50)\",\"rgb(88, 192, 172)\",\"rgb(135, 126, 225)\",\"rgb(41, 160, 91)\",\"rgb(49, 41, 74)\",\"rgb(106, 205, 53)\"]},\"orientation\":\"h\",\"textangle\":0,\"textposition\":\"outside\",\"texttemplate\":\"%{y}<br>%{x:.4s}\",\"x\":[278702349.0,288497460.0,292920885.0,335613801.0,356952488.0,501507373.0,748392150.0,751885117.0,1126990585.0,1874611396.0],\"y\":[\"Sugar beet\",\"Cassava\",\"Vegetables, fresh nes\",\"Soybeans\",\"Potatoes\",\"Rice, paddy (rice milled equivalent)\",\"Wheat\",\"Rice, paddy\",\"Maize\",\"Sugar cane\"],\"type\":\"bar\"}],\"layout\":{\"bargap\":0.15,\"font\":{\"size\":14},\"plot_bgcolor\":\"#FFFFFF\",\"xaxis\":{\"range\":[0,1907024730.0],\"showline\":true,\"visible\":true},\"yaxis\":{\"showline\":false,\"visible\":true}},\"name\":\"2016\"},{\"data\":[{\"cliponaxis\":false,\"hoverinfo\":\"all\",\"hovertemplate\":\"<extra></extra>\",\"marker\":{\"color\":[\"rgb(234, 127, 19)\",\"rgb(247, 183, 217)\",\"rgb(92, 171, 115)\",\"rgb(69, 227, 216)\",\"rgb(255, 148, 50)\",\"rgb(88, 192, 172)\",\"rgb(41, 160, 91)\",\"rgb(135, 126, 225)\",\"rgb(49, 41, 74)\",\"rgb(106, 205, 53)\"]},\"orientation\":\"h\",\"textangle\":0,\"textposition\":\"outside\",\"texttemplate\":\"%{y}<br>%{x:.4s}\",\"x\":[279304523.0,294934038.0,310374816.0,353026796.0,373774234.0,513476024.0,769829121.0,773476524.0,1164400832.0,1851333716.0],\"y\":[\"Cassava\",\"Vegetables, fresh nes\",\"Sugar beet\",\"Soybeans\",\"Potatoes\",\"Rice, paddy (rice milled equivalent)\",\"Rice, paddy\",\"Wheat\",\"Maize\",\"Sugar cane\"],\"type\":\"bar\"}],\"layout\":{\"bargap\":0.15,\"font\":{\"size\":14},\"plot_bgcolor\":\"#FFFFFF\",\"xaxis\":{\"range\":[0,1907024730.0],\"showline\":true,\"visible\":true},\"yaxis\":{\"showline\":false,\"visible\":true}},\"name\":\"2017\"},{\"data\":[{\"cliponaxis\":false,\"hoverinfo\":\"all\",\"hovertemplate\":\"<extra></extra>\",\"marker\":{\"color\":[\"rgb(92, 171, 115)\",\"rgb(234, 127, 19)\",\"rgb(247, 183, 217)\",\"rgb(69, 227, 216)\",\"rgb(255, 148, 50)\",\"rgb(88, 192, 172)\",\"rgb(135, 126, 225)\",\"rgb(41, 160, 91)\",\"rgb(49, 41, 74)\",\"rgb(106, 205, 53)\"]},\"orientation\":\"h\",\"textangle\":0,\"textposition\":\"outside\",\"texttemplate\":\"%{y}<br>%{x:.4s}\",\"x\":[274886306.0,277808759.0,297596674.0,348712311.0,368168914.0,521594098.0,734045174.0,782000147.0,1147621938.0,1907024730.0],\"y\":[\"Sugar beet\",\"Cassava\",\"Vegetables, fresh nes\",\"Soybeans\",\"Potatoes\",\"Rice, paddy (rice milled equivalent)\",\"Wheat\",\"Rice, paddy\",\"Maize\",\"Sugar cane\"],\"type\":\"bar\"}],\"layout\":{\"bargap\":0.15,\"font\":{\"size\":14},\"plot_bgcolor\":\"#FFFFFF\",\"xaxis\":{\"range\":[0,1907024730.0],\"showline\":true,\"visible\":true},\"yaxis\":{\"showline\":false,\"visible\":true}},\"name\":\"2018\"}]);\n",
              "                        }).then(function(){\n",
              "                            Plotly.animate('3a100d65-7581-4b39-aa10-628fdd20c71c', null);\n",
              "                        })                };                            </script>        </div>"
            ],
            "text/plain": [
              "Figure({\n",
              "    'data': [{'cliponaxis': False,\n",
              "              'hoverinfo': 'all',\n",
              "              'marker': {'color': array(['rgb(234, 127, 19)', 'rgb(31, 220, 223)', 'rgb(204, 223, 90)',\n",
              "                                         'rgb(88, 192, 172)', 'rgb(92, 171, 115)', 'rgb(49, 41, 74)',\n",
              "                                         'rgb(41, 160, 91)', 'rgb(135, 126, 225)', 'rgb(255, 148, 50)',\n",
              "                                         'rgb(106, 205, 53)'], dtype=object)},\n",
              "              'orientation': 'h',\n",
              "              'textangle': 0,\n",
              "              'textposition': 'outside',\n",
              "              'texttemplate': '%{y}<br>%{x:.4s}',\n",
              "              'type': 'bar',\n",
              "              'x': array([7.12598390e+07, 7.24111040e+07, 9.81926350e+07, 1.43836304e+08,\n",
              "                          1.60501987e+08, 2.05027583e+08, 2.15646633e+08, 2.22357231e+08,\n",
              "                          2.70552196e+08, 4.47977522e+08]),\n",
              "              'y': array(['Cassava', 'Barley', 'Sweet potatoes',\n",
              "                          'Rice, paddy (rice milled equivalent)', 'Sugar beet', 'Maize',\n",
              "                          'Rice, paddy', 'Wheat', 'Potatoes', 'Sugar cane'], dtype=object)}],\n",
              "    'frames': [{'data': [{'cliponaxis': False,\n",
              "                          'hoverinfo': 'all',\n",
              "                          'hovertemplate': '<extra></extra>',\n",
              "                          'marker': {'color': array(['rgb(234, 127, 19)', 'rgb(31, 220, 223)', 'rgb(204, 223, 90)',\n",
              "                                                     'rgb(88, 192, 172)', 'rgb(92, 171, 115)', 'rgb(49, 41, 74)',\n",
              "                                                     'rgb(41, 160, 91)', 'rgb(135, 126, 225)', 'rgb(255, 148, 50)',\n",
              "                                                     'rgb(106, 205, 53)'], dtype=object)},\n",
              "                          'orientation': 'h',\n",
              "                          'textangle': 0,\n",
              "                          'textposition': 'outside',\n",
              "                          'texttemplate': '%{y}<br>%{x:.4s}',\n",
              "                          'type': 'bar',\n",
              "                          'x': array([7.12598390e+07, 7.24111040e+07, 9.81926350e+07, 1.43836304e+08,\n",
              "                                      1.60501987e+08, 2.05027583e+08, 2.15646633e+08, 2.22357231e+08,\n",
              "                                      2.70552196e+08, 4.47977522e+08]),\n",
              "                          'y': array(['Cassava', 'Barley', 'Sweet potatoes',\n",
              "                                      'Rice, paddy (rice milled equivalent)', 'Sugar beet', 'Maize',\n",
              "                                      'Rice, paddy', 'Wheat', 'Potatoes', 'Sugar cane'], dtype=object)}],\n",
              "                'layout': {'bargap': 0.15,\n",
              "                           'font': {'size': 14},\n",
              "                           'plot_bgcolor': '#FFFFFF',\n",
              "                           'xaxis': {'range': [0, 1907024730.0], 'showline': True, 'visible': True},\n",
              "                           'yaxis': {'showline': False, 'visible': True}},\n",
              "                'name': '1961'},\n",
              "               {'data': [{'cliponaxis': False,\n",
              "                          'hoverinfo': 'all',\n",
              "                          'hovertemplate': '<extra></extra>',\n",
              "                          'marker': {'color': array(['rgb(234, 127, 19)', 'rgb(31, 220, 223)', 'rgb(204, 223, 90)',\n",
              "                                                     'rgb(92, 171, 115)', 'rgb(88, 192, 172)', 'rgb(49, 41, 74)',\n",
              "                                                     'rgb(41, 160, 91)', 'rgb(135, 126, 225)', 'rgb(255, 148, 50)',\n",
              "                                                     'rgb(106, 205, 53)'], dtype=object)},\n",
              "                          'orientation': 'h',\n",
              "                          'textangle': 0,\n",
              "                          'textposition': 'outside',\n",
              "                          'texttemplate': '%{y}<br>%{x:.4s}',\n",
              "                          'type': 'bar',\n",
              "                          'x': array([7.46366800e+07, 8.83969590e+07, 1.05291106e+08, 1.49172711e+08,\n",
              "                                      1.51046350e+08, 2.04876937e+08, 2.26456297e+08, 2.50319146e+08,\n",
              "                                      2.52987460e+08, 4.36872640e+08]),\n",
              "                          'y': array(['Cassava', 'Barley', 'Sweet potatoes', 'Sugar beet',\n",
              "                                      'Rice, paddy (rice milled equivalent)', 'Maize', 'Rice, paddy', 'Wheat',\n",
              "                                      'Potatoes', 'Sugar cane'], dtype=object)}],\n",
              "                'layout': {'bargap': 0.15,\n",
              "                           'font': {'size': 14},\n",
              "                           'plot_bgcolor': '#FFFFFF',\n",
              "                           'xaxis': {'range': [0, 1907024730.0], 'showline': True, 'visible': True},\n",
              "                           'yaxis': {'showline': False, 'visible': True}},\n",
              "                'name': '1962'},\n",
              "               {'data': [{'cliponaxis': False,\n",
              "                          'hoverinfo': 'all',\n",
              "                          'hovertemplate': '<extra></extra>',\n",
              "                          'marker': {'color': array(['rgb(234, 127, 19)', 'rgb(31, 220, 223)', 'rgb(204, 223, 90)',\n",
              "                                                     'rgb(88, 192, 172)', 'rgb(92, 171, 115)', 'rgb(49, 41, 74)',\n",
              "                                                     'rgb(135, 126, 225)', 'rgb(41, 160, 91)', 'rgb(255, 148, 50)',\n",
              "                                                     'rgb(106, 205, 53)'], dtype=object)},\n",
              "                          'orientation': 'h',\n",
              "                          'textangle': 0,\n",
              "                          'textposition': 'outside',\n",
              "                          'texttemplate': '%{y}<br>%{x:.4s}',\n",
              "                          'type': 'bar',\n",
              "                          'x': array([7.79756880e+07, 9.03858500e+07, 9.80091590e+07, 1.64828514e+08,\n",
              "                                      1.64975629e+08, 2.20228333e+08, 2.33339473e+08, 2.47119211e+08,\n",
              "                                      2.69982498e+08, 4.39927902e+08]),\n",
              "                          'y': array(['Cassava', 'Barley', 'Sweet potatoes',\n",
              "                                      'Rice, paddy (rice milled equivalent)', 'Sugar beet', 'Maize', 'Wheat',\n",
              "                                      'Rice, paddy', 'Potatoes', 'Sugar cane'], dtype=object)}],\n",
              "                'layout': {'bargap': 0.15,\n",
              "                           'font': {'size': 14},\n",
              "                           'plot_bgcolor': '#FFFFFF',\n",
              "                           'xaxis': {'range': [0, 1907024730.0], 'showline': True, 'visible': True},\n",
              "                           'yaxis': {'showline': False, 'visible': True}},\n",
              "                'name': '1963'},\n",
              "               {'data': [{'cliponaxis': False,\n",
              "                          'hoverinfo': 'all',\n",
              "                          'hovertemplate': '<extra></extra>',\n",
              "                          'marker': {'color': array(['rgb(234, 127, 19)', 'rgb(204, 223, 90)', 'rgb(31, 220, 223)',\n",
              "                                                     'rgb(88, 192, 172)', 'rgb(49, 41, 74)', 'rgb(92, 171, 115)',\n",
              "                                                     'rgb(41, 160, 91)', 'rgb(135, 126, 225)', 'rgb(255, 148, 50)',\n",
              "                                                     'rgb(106, 205, 53)'], dtype=object)},\n",
              "                          'orientation': 'h',\n",
              "                          'textangle': 0,\n",
              "                          'textposition': 'outside',\n",
              "                          'texttemplate': '%{y}<br>%{x:.4s}',\n",
              "                          'type': 'bar',\n",
              "                          'x': array([8.24293990e+07, 9.33774120e+07, 9.55249230e+07, 1.75373614e+08,\n",
              "                                      2.15172627e+08, 2.16206931e+08, 2.62928956e+08, 2.68791657e+08,\n",
              "                                      2.84678614e+08, 4.80849768e+08]),\n",
              "                          'y': array(['Cassava', 'Sweet potatoes', 'Barley',\n",
              "                                      'Rice, paddy (rice milled equivalent)', 'Maize', 'Sugar beet',\n",
              "                                      'Rice, paddy', 'Wheat', 'Potatoes', 'Sugar cane'], dtype=object)}],\n",
              "                'layout': {'bargap': 0.15,\n",
              "                           'font': {'size': 14},\n",
              "                           'plot_bgcolor': '#FFFFFF',\n",
              "                           'xaxis': {'range': [0, 1907024730.0], 'showline': True, 'visible': True},\n",
              "                           'yaxis': {'showline': False, 'visible': True}},\n",
              "                'name': '1964'},\n",
              "               {'data': [{'cliponaxis': False,\n",
              "                          'hoverinfo': 'all',\n",
              "                          'hovertemplate': '<extra></extra>',\n",
              "                          'marker': {'color': array(['rgb(234, 127, 19)', 'rgb(31, 220, 223)', 'rgb(204, 223, 90)',\n",
              "                                                     'rgb(88, 192, 172)', 'rgb(92, 171, 115)', 'rgb(49, 41, 74)',\n",
              "                                                     'rgb(41, 160, 91)', 'rgb(135, 126, 225)', 'rgb(255, 148, 50)',\n",
              "                                                     'rgb(106, 205, 53)'], dtype=object)},\n",
              "                          'orientation': 'h',\n",
              "                          'textangle': 0,\n",
              "                          'textposition': 'outside',\n",
              "                          'texttemplate': '%{y}<br>%{x:.4s}',\n",
              "                          'type': 'bar',\n",
              "                          'x': array([8.55828430e+07, 9.26170120e+07, 1.08377879e+08, 1.69457796e+08,\n",
              "                                      1.97376224e+08, 2.26544256e+08, 2.54059664e+08, 2.63645963e+08,\n",
              "                                      2.70913502e+08, 5.31297486e+08]),\n",
              "                          'y': array(['Cassava', 'Barley', 'Sweet potatoes',\n",
              "                                      'Rice, paddy (rice milled equivalent)', 'Sugar beet', 'Maize',\n",
              "                                      'Rice, paddy', 'Wheat', 'Potatoes', 'Sugar cane'], dtype=object)}],\n",
              "                'layout': {'bargap': 0.15,\n",
              "                           'font': {'size': 14},\n",
              "                           'plot_bgcolor': '#FFFFFF',\n",
              "                           'xaxis': {'range': [0, 1907024730.0], 'showline': True, 'visible': True},\n",
              "                           'yaxis': {'showline': False, 'visible': True}},\n",
              "                'name': '1965'},\n",
              "               {'data': [{'cliponaxis': False,\n",
              "                          'hoverinfo': 'all',\n",
              "                          'hovertemplate': '<extra></extra>',\n",
              "                          'marker': {'color': array(['rgb(234, 127, 19)', 'rgb(31, 220, 223)', 'rgb(204, 223, 90)',\n",
              "                                                     'rgb(88, 192, 172)', 'rgb(92, 171, 115)', 'rgb(49, 41, 74)',\n",
              "                                                     'rgb(41, 160, 91)', 'rgb(255, 148, 50)', 'rgb(135, 126, 225)',\n",
              "                                                     'rgb(106, 205, 53)'], dtype=object)},\n",
              "                          'orientation': 'h',\n",
              "                          'textangle': 0,\n",
              "                          'textposition': 'outside',\n",
              "                          'texttemplate': '%{y}<br>%{x:.4s}',\n",
              "                          'type': 'bar',\n",
              "                          'x': array([8.47188090e+07, 1.00425696e+08, 1.19686566e+08, 1.74207899e+08,\n",
              "                                      2.12270253e+08, 2.45599160e+08, 2.61181258e+08, 2.81964109e+08,\n",
              "                                      3.03785460e+08, 5.31492823e+08]),\n",
              "                          'y': array(['Cassava', 'Barley', 'Sweet potatoes',\n",
              "                                      'Rice, paddy (rice milled equivalent)', 'Sugar beet', 'Maize',\n",
              "                                      'Rice, paddy', 'Potatoes', 'Wheat', 'Sugar cane'], dtype=object)}],\n",
              "                'layout': {'bargap': 0.15,\n",
              "                           'font': {'size': 14},\n",
              "                           'plot_bgcolor': '#FFFFFF',\n",
              "                           'xaxis': {'range': [0, 1907024730.0], 'showline': True, 'visible': True},\n",
              "                           'yaxis': {'showline': False, 'visible': True}},\n",
              "                'name': '1966'},\n",
              "               {'data': [{'cliponaxis': False,\n",
              "                          'hoverinfo': 'all',\n",
              "                          'hovertemplate': '<extra></extra>',\n",
              "                          'marker': {'color': array(['rgb(234, 127, 19)', 'rgb(31, 220, 223)', 'rgb(204, 223, 90)',\n",
              "                                                     'rgb(88, 192, 172)', 'rgb(92, 171, 115)', 'rgb(49, 41, 74)',\n",
              "                                                     'rgb(41, 160, 91)', 'rgb(135, 126, 225)', 'rgb(255, 148, 50)',\n",
              "                                                     'rgb(106, 205, 53)'], dtype=object)},\n",
              "                          'orientation': 'h',\n",
              "                          'textangle': 0,\n",
              "                          'textposition': 'outside',\n",
              "                          'texttemplate': '%{y}<br>%{x:.4s}',\n",
              "                          'type': 'bar',\n",
              "                          'x': array([8.86301760e+07, 1.03177495e+08, 1.18614438e+08, 1.85016704e+08,\n",
              "                                      2.33455177e+08, 2.72548473e+08, 2.77386363e+08, 2.94295876e+08,\n",
              "                                      2.96220305e+08, 5.18890895e+08]),\n",
              "                          'y': array(['Cassava', 'Barley', 'Sweet potatoes',\n",
              "                                      'Rice, paddy (rice milled equivalent)', 'Sugar beet', 'Maize',\n",
              "                                      'Rice, paddy', 'Wheat', 'Potatoes', 'Sugar cane'], dtype=object)}],\n",
              "                'layout': {'bargap': 0.15,\n",
              "                           'font': {'size': 14},\n",
              "                           'plot_bgcolor': '#FFFFFF',\n",
              "                           'xaxis': {'range': [0, 1907024730.0], 'showline': True, 'visible': True},\n",
              "                           'yaxis': {'showline': False, 'visible': True}},\n",
              "                'name': '1967'},\n",
              "               {'data': [{'cliponaxis': False,\n",
              "                          'hoverinfo': 'all',\n",
              "                          'hovertemplate': '<extra></extra>',\n",
              "                          'marker': {'color': array(['rgb(234, 127, 19)', 'rgb(31, 220, 223)', 'rgb(204, 223, 90)',\n",
              "                                                     'rgb(88, 192, 172)', 'rgb(92, 171, 115)', 'rgb(49, 41, 74)',\n",
              "                                                     'rgb(41, 160, 91)', 'rgb(255, 148, 50)', 'rgb(135, 126, 225)',\n",
              "                                                     'rgb(106, 205, 53)'], dtype=object)},\n",
              "                          'orientation': 'h',\n",
              "                          'textangle': 0,\n",
              "                          'textposition': 'outside',\n",
              "                          'texttemplate': '%{y}<br>%{x:.4s}',\n",
              "                          'type': 'bar',\n",
              "                          'x': array([9.30900590e+07, 1.13504505e+08, 1.18097469e+08, 1.92512413e+08,\n",
              "                                      2.48856658e+08, 2.55670551e+08, 2.88624308e+08, 3.03709120e+08,\n",
              "                                      3.26843941e+08, 5.06091880e+08]),\n",
              "                          'y': array(['Cassava', 'Barley', 'Sweet potatoes',\n",
              "                                      'Rice, paddy (rice milled equivalent)', 'Sugar beet', 'Maize',\n",
              "                                      'Rice, paddy', 'Potatoes', 'Wheat', 'Sugar cane'], dtype=object)}],\n",
              "                'layout': {'bargap': 0.15,\n",
              "                           'font': {'size': 14},\n",
              "                           'plot_bgcolor': '#FFFFFF',\n",
              "                           'xaxis': {'range': [0, 1907024730.0], 'showline': True, 'visible': True},\n",
              "                           'yaxis': {'showline': False, 'visible': True}},\n",
              "                'name': '1968'},\n",
              "               {'data': [{'cliponaxis': False,\n",
              "                          'hoverinfo': 'all',\n",
              "                          'hovertemplate': '<extra></extra>',\n",
              "                          'marker': {'color': array(['rgb(234, 127, 19)', 'rgb(31, 220, 223)', 'rgb(204, 223, 90)',\n",
              "                                                     'rgb(88, 192, 172)', 'rgb(92, 171, 115)', 'rgb(49, 41, 74)',\n",
              "                                                     'rgb(255, 148, 50)', 'rgb(41, 160, 91)', 'rgb(135, 126, 225)',\n",
              "                                                     'rgb(106, 205, 53)'], dtype=object)},\n",
              "                          'orientation': 'h',\n",
              "                          'textangle': 0,\n",
              "                          'textposition': 'outside',\n",
              "                          'texttemplate': '%{y}<br>%{x:.4s}',\n",
              "                          'type': 'bar',\n",
              "                          'x': array([9.53253300e+07, 1.18006371e+08, 1.26160704e+08, 1.97154789e+08,\n",
              "                                      2.16920772e+08, 2.69506068e+08, 2.78475710e+08, 2.95584391e+08,\n",
              "                                      3.08640283e+08, 5.38255737e+08]),\n",
              "                          'y': array(['Cassava', 'Barley', 'Sweet potatoes',\n",
              "                                      'Rice, paddy (rice milled equivalent)', 'Sugar beet', 'Maize',\n",
              "                                      'Potatoes', 'Rice, paddy', 'Wheat', 'Sugar cane'], dtype=object)}],\n",
              "                'layout': {'bargap': 0.15,\n",
              "                           'font': {'size': 14},\n",
              "                           'plot_bgcolor': '#FFFFFF',\n",
              "                           'xaxis': {'range': [0, 1907024730.0], 'showline': True, 'visible': True},\n",
              "                           'yaxis': {'showline': False, 'visible': True}},\n",
              "                'name': '1969'},\n",
              "               {'data': [{'cliponaxis': False,\n",
              "                          'hoverinfo': 'all',\n",
              "                          'hovertemplate': '<extra></extra>',\n",
              "                          'marker': {'color': array(['rgb(234, 127, 19)', 'rgb(31, 220, 223)', 'rgb(204, 223, 90)',\n",
              "                                                     'rgb(88, 192, 172)', 'rgb(92, 171, 115)', 'rgb(49, 41, 74)',\n",
              "                                                     'rgb(255, 148, 50)', 'rgb(135, 126, 225)', 'rgb(41, 160, 91)',\n",
              "                                                     'rgb(106, 205, 53)'], dtype=object)},\n",
              "                          'orientation': 'h',\n",
              "                          'textangle': 0,\n",
              "                          'textposition': 'outside',\n",
              "                          'texttemplate': '%{y}<br>%{x:.4s}',\n",
              "                          'type': 'bar',\n",
              "                          'x': array([9.85896990e+07, 1.19378695e+08, 1.36507488e+08, 2.11002584e+08,\n",
              "                                      2.24251952e+08, 2.65831145e+08, 2.98048017e+08, 3.10740954e+08,\n",
              "                                      3.16345703e+08, 6.08616105e+08]),\n",
              "                          'y': array(['Cassava', 'Barley', 'Sweet potatoes',\n",
              "                                      'Rice, paddy (rice milled equivalent)', 'Sugar beet', 'Maize',\n",
              "                                      'Potatoes', 'Wheat', 'Rice, paddy', 'Sugar cane'], dtype=object)}],\n",
              "                'layout': {'bargap': 0.15,\n",
              "                           'font': {'size': 14},\n",
              "                           'plot_bgcolor': '#FFFFFF',\n",
              "                           'xaxis': {'range': [0, 1907024730.0], 'showline': True, 'visible': True},\n",
              "                           'yaxis': {'showline': False, 'visible': True}},\n",
              "                'name': '1970'},\n",
              "               {'data': [{'cliponaxis': False,\n",
              "                          'hoverinfo': 'all',\n",
              "                          'hovertemplate': '<extra></extra>',\n",
              "                          'marker': {'color': array(['rgb(234, 127, 19)', 'rgb(204, 223, 90)', 'rgb(31, 220, 223)',\n",
              "                                                     'rgb(88, 192, 172)', 'rgb(92, 171, 115)', 'rgb(255, 148, 50)',\n",
              "                                                     'rgb(49, 41, 74)', 'rgb(41, 160, 91)', 'rgb(135, 126, 225)',\n",
              "                                                     'rgb(106, 205, 53)'], dtype=object)},\n",
              "                          'orientation': 'h',\n",
              "                          'textangle': 0,\n",
              "                          'textposition': 'outside',\n",
              "                          'texttemplate': '%{y}<br>%{x:.4s}',\n",
              "                          'type': 'bar',\n",
              "                          'x': array([9.87564340e+07, 1.27252781e+08, 1.31237044e+08, 2.11914188e+08,\n",
              "                                      2.27540795e+08, 2.79490572e+08, 3.13622622e+08, 3.17712426e+08,\n",
              "                                      3.47525581e+08, 5.82105426e+08]),\n",
              "                          'y': array(['Cassava', 'Sweet potatoes', 'Barley',\n",
              "                                      'Rice, paddy (rice milled equivalent)', 'Sugar beet', 'Potatoes',\n",
              "                                      'Maize', 'Rice, paddy', 'Wheat', 'Sugar cane'], dtype=object)}],\n",
              "                'layout': {'bargap': 0.15,\n",
              "                           'font': {'size': 14},\n",
              "                           'plot_bgcolor': '#FFFFFF',\n",
              "                           'xaxis': {'range': [0, 1907024730.0], 'showline': True, 'visible': True},\n",
              "                           'yaxis': {'showline': False, 'visible': True}},\n",
              "                'name': '1971'},\n",
              "               {'data': [{'cliponaxis': False,\n",
              "                          'hoverinfo': 'all',\n",
              "                          'hovertemplate': '<extra></extra>',\n",
              "                          'marker': {'color': array(['rgb(234, 127, 19)', 'rgb(204, 223, 90)', 'rgb(31, 220, 223)',\n",
              "                                                     'rgb(88, 192, 172)', 'rgb(92, 171, 115)', 'rgb(255, 148, 50)',\n",
              "                                                     'rgb(41, 160, 91)', 'rgb(49, 41, 74)', 'rgb(135, 126, 225)',\n",
              "                                                     'rgb(106, 205, 53)'], dtype=object)},\n",
              "                          'orientation': 'h',\n",
              "                          'textangle': 0,\n",
              "                          'textposition': 'outside',\n",
              "                          'texttemplate': '%{y}<br>%{x:.4s}',\n",
              "                          'type': 'bar',\n",
              "                          'x': array([1.01261515e+08, 1.21467494e+08, 1.32963909e+08, 2.04962388e+08,\n",
              "                                      2.40336963e+08, 2.72144812e+08, 3.07289937e+08, 3.08826290e+08,\n",
              "                                      3.43001429e+08, 5.69105570e+08]),\n",
              "                          'y': array(['Cassava', 'Sweet potatoes', 'Barley',\n",
              "                                      'Rice, paddy (rice milled equivalent)', 'Sugar beet', 'Potatoes',\n",
              "                                      'Rice, paddy', 'Maize', 'Wheat', 'Sugar cane'], dtype=object)}],\n",
              "                'layout': {'bargap': 0.15,\n",
              "                           'font': {'size': 14},\n",
              "                           'plot_bgcolor': '#FFFFFF',\n",
              "                           'xaxis': {'range': [0, 1907024730.0], 'showline': True, 'visible': True},\n",
              "                           'yaxis': {'showline': False, 'visible': True}},\n",
              "                'name': '1972'},\n",
              "               {'data': [{'cliponaxis': False,\n",
              "                          'hoverinfo': 'all',\n",
              "                          'hovertemplate': '<extra></extra>',\n",
              "                          'marker': {'color': array(['rgb(234, 127, 19)', 'rgb(31, 220, 223)', 'rgb(204, 223, 90)',\n",
              "                                                     'rgb(88, 192, 172)', 'rgb(92, 171, 115)', 'rgb(255, 148, 50)',\n",
              "                                                     'rgb(49, 41, 74)', 'rgb(41, 160, 91)', 'rgb(135, 126, 225)',\n",
              "                                                     'rgb(106, 205, 53)'], dtype=object)},\n",
              "                          'orientation': 'h',\n",
              "                          'textangle': 0,\n",
              "                          'textposition': 'outside',\n",
              "                          'texttemplate': '%{y}<br>%{x:.4s}',\n",
              "                          'type': 'bar',\n",
              "                          'x': array([1.01734795e+08, 1.46966081e+08, 1.52865329e+08, 2.23397535e+08,\n",
              "                                      2.50104320e+08, 3.07160130e+08, 3.18290469e+08, 3.34928838e+08,\n",
              "                                      3.69334126e+08, 6.00227145e+08]),\n",
              "                          'y': array(['Cassava', 'Barley', 'Sweet potatoes',\n",
              "                                      'Rice, paddy (rice milled equivalent)', 'Sugar beet', 'Potatoes',\n",
              "                                      'Maize', 'Rice, paddy', 'Wheat', 'Sugar cane'], dtype=object)}],\n",
              "                'layout': {'bargap': 0.15,\n",
              "                           'font': {'size': 14},\n",
              "                           'plot_bgcolor': '#FFFFFF',\n",
              "                           'xaxis': {'range': [0, 1907024730.0], 'showline': True, 'visible': True},\n",
              "                           'yaxis': {'showline': False, 'visible': True}},\n",
              "                'name': '1973'},\n",
              "               {'data': [{'cliponaxis': False,\n",
              "                          'hoverinfo': 'all',\n",
              "                          'hovertemplate': '<extra></extra>',\n",
              "                          'marker': {'color': array(['rgb(234, 127, 19)', 'rgb(204, 223, 90)', 'rgb(31, 220, 223)',\n",
              "                                                     'rgb(88, 192, 172)', 'rgb(92, 171, 115)', 'rgb(255, 148, 50)',\n",
              "                                                     'rgb(49, 41, 74)', 'rgb(41, 160, 91)', 'rgb(135, 126, 225)',\n",
              "                                                     'rgb(106, 205, 53)'], dtype=object)},\n",
              "                          'orientation': 'h',\n",
              "                          'textangle': 0,\n",
              "                          'textposition': 'outside',\n",
              "                          'texttemplate': '%{y}<br>%{x:.4s}',\n",
              "                          'type': 'bar',\n",
              "                          'x': array([1.04370567e+08, 1.37264243e+08, 1.48818870e+08, 2.21424400e+08,\n",
              "                                      2.34922029e+08, 2.84781339e+08, 3.06427347e+08, 3.31970614e+08,\n",
              "                                      3.58825442e+08, 6.48516497e+08]),\n",
              "                          'y': array(['Cassava', 'Sweet potatoes', 'Barley',\n",
              "                                      'Rice, paddy (rice milled equivalent)', 'Sugar beet', 'Potatoes',\n",
              "                                      'Maize', 'Rice, paddy', 'Wheat', 'Sugar cane'], dtype=object)}],\n",
              "                'layout': {'bargap': 0.15,\n",
              "                           'font': {'size': 14},\n",
              "                           'plot_bgcolor': '#FFFFFF',\n",
              "                           'xaxis': {'range': [0, 1907024730.0], 'showline': True, 'visible': True},\n",
              "                           'yaxis': {'showline': False, 'visible': True}},\n",
              "                'name': '1974'},\n",
              "               {'data': [{'cliponaxis': False,\n",
              "                          'hoverinfo': 'all',\n",
              "                          'hovertemplate': '<extra></extra>',\n",
              "                          'marker': {'color': array(['rgb(234, 127, 19)', 'rgb(31, 220, 223)', 'rgb(204, 223, 90)',\n",
              "                                                     'rgb(88, 192, 172)', 'rgb(92, 171, 115)', 'rgb(255, 148, 50)',\n",
              "                                                     'rgb(49, 41, 74)', 'rgb(135, 126, 225)', 'rgb(41, 160, 91)',\n",
              "                                                     'rgb(106, 205, 53)'], dtype=object)},\n",
              "                          'orientation': 'h',\n",
              "                          'textangle': 0,\n",
              "                          'textposition': 'outside',\n",
              "                          'texttemplate': '%{y}<br>%{x:.4s}',\n",
              "                          'type': 'bar',\n",
              "                          'x': array([1.10398445e+08, 1.35491720e+08, 1.41314403e+08, 2.38094381e+08,\n",
              "                                      2.51310276e+08, 2.70384075e+08, 3.41751971e+08, 3.55806146e+08,\n",
              "                                      3.56963090e+08, 6.55815792e+08]),\n",
              "                          'y': array(['Cassava', 'Barley', 'Sweet potatoes',\n",
              "                                      'Rice, paddy (rice milled equivalent)', 'Sugar beet', 'Potatoes',\n",
              "                                      'Maize', 'Wheat', 'Rice, paddy', 'Sugar cane'], dtype=object)}],\n",
              "                'layout': {'bargap': 0.15,\n",
              "                           'font': {'size': 14},\n",
              "                           'plot_bgcolor': '#FFFFFF',\n",
              "                           'xaxis': {'range': [0, 1907024730.0], 'showline': True, 'visible': True},\n",
              "                           'yaxis': {'showline': False, 'visible': True}},\n",
              "                'name': '1975'},\n",
              "               {'data': [{'cliponaxis': False,\n",
              "                          'hoverinfo': 'all',\n",
              "                          'hovertemplate': '<extra></extra>',\n",
              "                          'marker': {'color': array(['rgb(234, 127, 19)', 'rgb(204, 223, 90)', 'rgb(31, 220, 223)',\n",
              "                                                     'rgb(88, 192, 172)', 'rgb(255, 148, 50)', 'rgb(92, 171, 115)',\n",
              "                                                     'rgb(41, 160, 91)', 'rgb(49, 41, 74)', 'rgb(135, 126, 225)',\n",
              "                                                     'rgb(106, 205, 53)'], dtype=object)},\n",
              "                          'orientation': 'h',\n",
              "                          'textangle': 0,\n",
              "                          'textposition': 'outside',\n",
              "                          'texttemplate': '%{y}<br>%{x:.4s}',\n",
              "                          'type': 'bar',\n",
              "                          'x': array([1.13892497e+08, 1.33322031e+08, 1.66595806e+08, 2.31906870e+08,\n",
              "                                      2.72745276e+08, 2.96408369e+08, 3.47686462e+08, 3.52395866e+08,\n",
              "                                      4.19868031e+08, 6.87207538e+08]),\n",
              "                          'y': array(['Cassava', 'Sweet potatoes', 'Barley',\n",
              "                                      'Rice, paddy (rice milled equivalent)', 'Potatoes', 'Sugar beet',\n",
              "                                      'Rice, paddy', 'Maize', 'Wheat', 'Sugar cane'], dtype=object)}],\n",
              "                'layout': {'bargap': 0.15,\n",
              "                           'font': {'size': 14},\n",
              "                           'plot_bgcolor': '#FFFFFF',\n",
              "                           'xaxis': {'range': [0, 1907024730.0], 'showline': True, 'visible': True},\n",
              "                           'yaxis': {'showline': False, 'visible': True}},\n",
              "                'name': '1976'},\n",
              "               {'data': [{'cliponaxis': False,\n",
              "                          'hoverinfo': 'all',\n",
              "                          'hovertemplate': '<extra></extra>',\n",
              "                          'marker': {'color': array(['rgb(234, 127, 19)', 'rgb(204, 223, 90)', 'rgb(31, 220, 223)',\n",
              "                                                     'rgb(88, 192, 172)', 'rgb(255, 148, 50)', 'rgb(92, 171, 115)',\n",
              "                                                     'rgb(41, 160, 91)', 'rgb(49, 41, 74)', 'rgb(135, 126, 225)',\n",
              "                                                     'rgb(106, 205, 53)'], dtype=object)},\n",
              "                          'orientation': 'h',\n",
              "                          'textangle': 0,\n",
              "                          'textposition': 'outside',\n",
              "                          'texttemplate': '%{y}<br>%{x:.4s}',\n",
              "                          'type': 'bar',\n",
              "                          'x': array([1.18605256e+08, 1.43107584e+08, 1.56386493e+08, 2.46443929e+08,\n",
              "                                      2.79667694e+08, 2.88582476e+08, 3.69481153e+08, 3.71593355e+08,\n",
              "                                      3.82276677e+08, 7.34858286e+08]),\n",
              "                          'y': array(['Cassava', 'Sweet potatoes', 'Barley',\n",
              "                                      'Rice, paddy (rice milled equivalent)', 'Potatoes', 'Sugar beet',\n",
              "                                      'Rice, paddy', 'Maize', 'Wheat', 'Sugar cane'], dtype=object)}],\n",
              "                'layout': {'bargap': 0.15,\n",
              "                           'font': {'size': 14},\n",
              "                           'plot_bgcolor': '#FFFFFF',\n",
              "                           'xaxis': {'range': [0, 1907024730.0], 'showline': True, 'visible': True},\n",
              "                           'yaxis': {'showline': False, 'visible': True}},\n",
              "                'name': '1977'},\n",
              "               {'data': [{'cliponaxis': False,\n",
              "                          'hoverinfo': 'all',\n",
              "                          'hovertemplate': '<extra></extra>',\n",
              "                          'marker': {'color': array(['rgb(234, 127, 19)', 'rgb(204, 223, 90)', 'rgb(31, 220, 223)',\n",
              "                                                     'rgb(88, 192, 172)', 'rgb(92, 171, 115)', 'rgb(255, 148, 50)',\n",
              "                                                     'rgb(41, 160, 91)', 'rgb(49, 41, 74)', 'rgb(135, 126, 225)',\n",
              "                                                     'rgb(106, 205, 53)'], dtype=object)},\n",
              "                          'orientation': 'h',\n",
              "                          'textangle': 0,\n",
              "                          'textposition': 'outside',\n",
              "                          'texttemplate': '%{y}<br>%{x:.4s}',\n",
              "                          'type': 'bar',\n",
              "                          'x': array([1.23308473e+08, 1.51857764e+08, 1.74929309e+08, 2.56934233e+08,\n",
              "                                      2.82834069e+08, 2.91161652e+08, 3.85208745e+08, 3.93600091e+08,\n",
              "                                      4.43844880e+08, 7.74416858e+08]),\n",
              "                          'y': array(['Cassava', 'Sweet potatoes', 'Barley',\n",
              "                                      'Rice, paddy (rice milled equivalent)', 'Sugar beet', 'Potatoes',\n",
              "                                      'Rice, paddy', 'Maize', 'Wheat', 'Sugar cane'], dtype=object)}],\n",
              "                'layout': {'bargap': 0.15,\n",
              "                           'font': {'size': 14},\n",
              "                           'plot_bgcolor': '#FFFFFF',\n",
              "                           'xaxis': {'range': [0, 1907024730.0], 'showline': True, 'visible': True},\n",
              "                           'yaxis': {'showline': False, 'visible': True}},\n",
              "                'name': '1978'},\n",
              "               {'data': [{'cliponaxis': False,\n",
              "                          'hoverinfo': 'all',\n",
              "                          'hovertemplate': '<extra></extra>',\n",
              "                          'marker': {'color': array(['rgb(234, 127, 19)', 'rgb(204, 223, 90)', 'rgb(31, 220, 223)',\n",
              "                                                     'rgb(88, 192, 172)', 'rgb(92, 171, 115)', 'rgb(255, 148, 50)',\n",
              "                                                     'rgb(41, 160, 91)', 'rgb(49, 41, 74)', 'rgb(135, 126, 225)',\n",
              "                                                     'rgb(106, 205, 53)'], dtype=object)},\n",
              "                          'orientation': 'h',\n",
              "                          'textangle': 0,\n",
              "                          'textposition': 'outside',\n",
              "                          'texttemplate': '%{y}<br>%{x:.4s}',\n",
              "                          'type': 'bar',\n",
              "                          'x': array([1.19745423e+08, 1.37935647e+08, 1.54989948e+08, 2.50292923e+08,\n",
              "                                      2.62752809e+08, 2.97921605e+08, 3.75251758e+08, 4.18622993e+08,\n",
              "                                      4.22999301e+08, 7.70245178e+08]),\n",
              "                          'y': array(['Cassava', 'Sweet potatoes', 'Barley',\n",
              "                                      'Rice, paddy (rice milled equivalent)', 'Sugar beet', 'Potatoes',\n",
              "                                      'Rice, paddy', 'Maize', 'Wheat', 'Sugar cane'], dtype=object)}],\n",
              "                'layout': {'bargap': 0.15,\n",
              "                           'font': {'size': 14},\n",
              "                           'plot_bgcolor': '#FFFFFF',\n",
              "                           'xaxis': {'range': [0, 1907024730.0], 'showline': True, 'visible': True},\n",
              "                           'yaxis': {'showline': False, 'visible': True}},\n",
              "                'name': '1979'},\n",
              "               {'data': [{'cliponaxis': False,\n",
              "                          'hoverinfo': 'all',\n",
              "                          'hovertemplate': '<extra></extra>',\n",
              "                          'marker': {'color': array(['rgb(234, 127, 19)', 'rgb(204, 223, 90)', 'rgb(31, 220, 223)',\n",
              "                                                     'rgb(255, 148, 50)', 'rgb(88, 192, 172)', 'rgb(92, 171, 115)',\n",
              "                                                     'rgb(49, 41, 74)', 'rgb(41, 160, 91)', 'rgb(135, 126, 225)',\n",
              "                                                     'rgb(106, 205, 53)'], dtype=object)},\n",
              "                          'orientation': 'h',\n",
              "                          'textangle': 0,\n",
              "                          'textposition': 'outside',\n",
              "                          'texttemplate': '%{y}<br>%{x:.4s}',\n",
              "                          'type': 'bar',\n",
              "                          'x': array([1.24135066e+08, 1.37869239e+08, 1.56702822e+08, 2.40495788e+08,\n",
              "                                      2.64713164e+08, 2.67856451e+08, 3.96623388e+08, 3.96871310e+08,\n",
              "                                      4.40187901e+08, 7.34489200e+08]),\n",
              "                          'y': array(['Cassava', 'Sweet potatoes', 'Barley', 'Potatoes',\n",
              "                                      'Rice, paddy (rice milled equivalent)', 'Sugar beet', 'Maize',\n",
              "                                      'Rice, paddy', 'Wheat', 'Sugar cane'], dtype=object)}],\n",
              "                'layout': {'bargap': 0.15,\n",
              "                           'font': {'size': 14},\n",
              "                           'plot_bgcolor': '#FFFFFF',\n",
              "                           'xaxis': {'range': [0, 1907024730.0], 'showline': True, 'visible': True},\n",
              "                           'yaxis': {'showline': False, 'visible': True}},\n",
              "                'name': '1980'},\n",
              "               {'data': [{'cliponaxis': False,\n",
              "                          'hoverinfo': 'all',\n",
              "                          'hovertemplate': '<extra></extra>',\n",
              "                          'marker': {'color': array(['rgb(204, 223, 90)', 'rgb(234, 127, 19)', 'rgb(31, 220, 223)',\n",
              "                                                     'rgb(255, 148, 50)', 'rgb(88, 192, 172)', 'rgb(92, 171, 115)',\n",
              "                                                     'rgb(41, 160, 91)', 'rgb(49, 41, 74)', 'rgb(135, 126, 225)',\n",
              "                                                     'rgb(106, 205, 53)'], dtype=object)},\n",
              "                          'orientation': 'h',\n",
              "                          'textangle': 0,\n",
              "                          'textposition': 'outside',\n",
              "                          'texttemplate': '%{y}<br>%{x:.4s}',\n",
              "                          'type': 'bar',\n",
              "                          'x': array([1.25543727e+08, 1.27513877e+08, 1.49602582e+08, 2.67781520e+08,\n",
              "                                      2.73520179e+08, 2.87840286e+08, 4.10075231e+08, 4.46772517e+08,\n",
              "                                      4.49633986e+08, 7.99604214e+08]),\n",
              "                          'y': array(['Sweet potatoes', 'Cassava', 'Barley', 'Potatoes',\n",
              "                                      'Rice, paddy (rice milled equivalent)', 'Sugar beet', 'Rice, paddy',\n",
              "                                      'Maize', 'Wheat', 'Sugar cane'], dtype=object)}],\n",
              "                'layout': {'bargap': 0.15,\n",
              "                           'font': {'size': 14},\n",
              "                           'plot_bgcolor': '#FFFFFF',\n",
              "                           'xaxis': {'range': [0, 1907024730.0], 'showline': True, 'visible': True},\n",
              "                           'yaxis': {'showline': False, 'visible': True}},\n",
              "                'name': '1981'},\n",
              "               {'data': [{'cliponaxis': False,\n",
              "                          'hoverinfo': 'all',\n",
              "                          'hovertemplate': '<extra></extra>',\n",
              "                          'marker': {'color': array(['rgb(234, 127, 19)', 'rgb(204, 223, 90)', 'rgb(31, 220, 223)',\n",
              "                                                     'rgb(255, 148, 50)', 'rgb(88, 192, 172)', 'rgb(92, 171, 115)',\n",
              "                                                     'rgb(41, 160, 91)', 'rgb(49, 41, 74)', 'rgb(135, 126, 225)',\n",
              "                                                     'rgb(106, 205, 53)'], dtype=object)},\n",
              "                          'orientation': 'h',\n",
              "                          'textangle': 0,\n",
              "                          'textposition': 'outside',\n",
              "                          'texttemplate': '%{y}<br>%{x:.4s}',\n",
              "                          'type': 'bar',\n",
              "                          'x': array([1.28849568e+08, 1.29433910e+08, 1.61352537e+08, 2.65142602e+08,\n",
              "                                      2.81440016e+08, 2.91773194e+08, 4.21949049e+08, 4.48932280e+08,\n",
              "                                      4.76768609e+08, 9.07067880e+08]),\n",
              "                          'y': array(['Cassava', 'Sweet potatoes', 'Barley', 'Potatoes',\n",
              "                                      'Rice, paddy (rice milled equivalent)', 'Sugar beet', 'Rice, paddy',\n",
              "                                      'Maize', 'Wheat', 'Sugar cane'], dtype=object)}],\n",
              "                'layout': {'bargap': 0.15,\n",
              "                           'font': {'size': 14},\n",
              "                           'plot_bgcolor': '#FFFFFF',\n",
              "                           'xaxis': {'range': [0, 1907024730.0], 'showline': True, 'visible': True},\n",
              "                           'yaxis': {'showline': False, 'visible': True}},\n",
              "                'name': '1982'},\n",
              "               {'data': [{'cliponaxis': False,\n",
              "                          'hoverinfo': 'all',\n",
              "                          'hovertemplate': '<extra></extra>',\n",
              "                          'marker': {'color': array(['rgb(234, 127, 19)', 'rgb(204, 223, 90)', 'rgb(31, 220, 223)',\n",
              "                                                     'rgb(255, 148, 50)', 'rgb(92, 171, 115)', 'rgb(88, 192, 172)',\n",
              "                                                     'rgb(49, 41, 74)', 'rgb(41, 160, 91)', 'rgb(135, 126, 225)',\n",
              "                                                     'rgb(106, 205, 53)'], dtype=object)},\n",
              "                          'orientation': 'h',\n",
              "                          'textangle': 0,\n",
              "                          'textposition': 'outside',\n",
              "                          'texttemplate': '%{y}<br>%{x:.4s}',\n",
              "                          'type': 'bar',\n",
              "                          'x': array([1.26886287e+08, 1.37945719e+08, 1.59470171e+08, 2.64471009e+08,\n",
              "                                      2.74395485e+08, 2.98826869e+08, 3.47082034e+08, 4.48016295e+08,\n",
              "                                      4.89555281e+08, 9.03684353e+08]),\n",
              "                          'y': array(['Cassava', 'Sweet potatoes', 'Barley', 'Potatoes', 'Sugar beet',\n",
              "                                      'Rice, paddy (rice milled equivalent)', 'Maize', 'Rice, paddy', 'Wheat',\n",
              "                                      'Sugar cane'], dtype=object)}],\n",
              "                'layout': {'bargap': 0.15,\n",
              "                           'font': {'size': 14},\n",
              "                           'plot_bgcolor': '#FFFFFF',\n",
              "                           'xaxis': {'range': [0, 1907024730.0], 'showline': True, 'visible': True},\n",
              "                           'yaxis': {'showline': False, 'visible': True}},\n",
              "                'name': '1983'},\n",
              "               {'data': [{'cliponaxis': False,\n",
              "                          'hoverinfo': 'all',\n",
              "                          'hovertemplate': '<extra></extra>',\n",
              "                          'marker': {'color': array(['rgb(204, 223, 90)', 'rgb(234, 127, 19)', 'rgb(31, 220, 223)',\n",
              "                                                     'rgb(255, 148, 50)', 'rgb(92, 171, 115)', 'rgb(88, 192, 172)',\n",
              "                                                     'rgb(49, 41, 74)', 'rgb(41, 160, 91)', 'rgb(135, 126, 225)',\n",
              "                                                     'rgb(106, 205, 53)'], dtype=object)},\n",
              "                          'orientation': 'h',\n",
              "                          'textangle': 0,\n",
              "                          'textposition': 'outside',\n",
              "                          'texttemplate': '%{y}<br>%{x:.4s}',\n",
              "                          'type': 'bar',\n",
              "                          'x': array([1.33036563e+08, 1.33239818e+08, 1.69433845e+08, 2.90945972e+08,\n",
              "                                      2.96351939e+08, 3.10383713e+08, 4.50449992e+08, 4.65342898e+08,\n",
              "                                      5.12330225e+08, 9.29768246e+08]),\n",
              "                          'y': array(['Sweet potatoes', 'Cassava', 'Barley', 'Potatoes', 'Sugar beet',\n",
              "                                      'Rice, paddy (rice milled equivalent)', 'Maize', 'Rice, paddy', 'Wheat',\n",
              "                                      'Sugar cane'], dtype=object)}],\n",
              "                'layout': {'bargap': 0.15,\n",
              "                           'font': {'size': 14},\n",
              "                           'plot_bgcolor': '#FFFFFF',\n",
              "                           'xaxis': {'range': [0, 1907024730.0], 'showline': True, 'visible': True},\n",
              "                           'yaxis': {'showline': False, 'visible': True}},\n",
              "                'name': '1984'},\n",
              "               {'data': [{'cliponaxis': False,\n",
              "                          'hoverinfo': 'all',\n",
              "                          'hovertemplate': '<extra></extra>',\n",
              "                          'marker': {'color': array(['rgb(204, 223, 90)', 'rgb(234, 127, 19)', 'rgb(31, 220, 223)',\n",
              "                                                     'rgb(255, 148, 50)', 'rgb(92, 171, 115)', 'rgb(88, 192, 172)',\n",
              "                                                     'rgb(41, 160, 91)', 'rgb(49, 41, 74)', 'rgb(135, 126, 225)',\n",
              "                                                     'rgb(106, 205, 53)'], dtype=object)},\n",
              "                          'orientation': 'h',\n",
              "                          'textangle': 0,\n",
              "                          'textposition': 'outside',\n",
              "                          'texttemplate': '%{y}<br>%{x:.4s}',\n",
              "                          'type': 'bar',\n",
              "                          'x': array([1.22997023e+08, 1.35852865e+08, 1.72618338e+08, 2.81603760e+08,\n",
              "                                      2.84155160e+08, 3.12265770e+08, 4.68164572e+08, 4.85527301e+08,\n",
              "                                      4.99527392e+08, 9.33213589e+08]),\n",
              "                          'y': array(['Sweet potatoes', 'Cassava', 'Barley', 'Potatoes', 'Sugar beet',\n",
              "                                      'Rice, paddy (rice milled equivalent)', 'Rice, paddy', 'Maize', 'Wheat',\n",
              "                                      'Sugar cane'], dtype=object)}],\n",
              "                'layout': {'bargap': 0.15,\n",
              "                           'font': {'size': 14},\n",
              "                           'plot_bgcolor': '#FFFFFF',\n",
              "                           'xaxis': {'range': [0, 1907024730.0], 'showline': True, 'visible': True},\n",
              "                           'yaxis': {'showline': False, 'visible': True}},\n",
              "                'name': '1985'},\n",
              "               {'data': [{'cliponaxis': False,\n",
              "                          'hoverinfo': 'all',\n",
              "                          'hovertemplate': '<extra></extra>',\n",
              "                          'marker': {'color': array(['rgb(247, 183, 217)', 'rgb(234, 127, 19)', 'rgb(31, 220, 223)',\n",
              "                                                     'rgb(92, 171, 115)', 'rgb(255, 148, 50)', 'rgb(88, 192, 172)',\n",
              "                                                     'rgb(41, 160, 91)', 'rgb(49, 41, 74)', 'rgb(135, 126, 225)',\n",
              "                                                     'rgb(106, 205, 53)'], dtype=object)},\n",
              "                          'orientation': 'h',\n",
              "                          'textangle': 0,\n",
              "                          'textposition': 'outside',\n",
              "                          'texttemplate': '%{y}<br>%{x:.4s}',\n",
              "                          'type': 'bar',\n",
              "                          'x': array([1.29814219e+08, 1.34228164e+08, 1.77169275e+08, 2.86334048e+08,\n",
              "                                      2.86610518e+08, 3.12606386e+08, 4.68675242e+08, 4.78176622e+08,\n",
              "                                      5.28685222e+08, 9.34719186e+08]),\n",
              "                          'y': array(['Vegetables, fresh nes', 'Cassava', 'Barley', 'Sugar beet', 'Potatoes',\n",
              "                                      'Rice, paddy (rice milled equivalent)', 'Rice, paddy', 'Maize', 'Wheat',\n",
              "                                      'Sugar cane'], dtype=object)}],\n",
              "                'layout': {'bargap': 0.15,\n",
              "                           'font': {'size': 14},\n",
              "                           'plot_bgcolor': '#FFFFFF',\n",
              "                           'xaxis': {'range': [0, 1907024730.0], 'showline': True, 'visible': True},\n",
              "                           'yaxis': {'showline': False, 'visible': True}},\n",
              "                'name': '1986'},\n",
              "               {'data': [{'cliponaxis': False,\n",
              "                          'hoverinfo': 'all',\n",
              "                          'hovertemplate': '<extra></extra>',\n",
              "                          'marker': {'color': array(['rgb(204, 223, 90)', 'rgb(234, 127, 19)', 'rgb(31, 220, 223)',\n",
              "                                                     'rgb(255, 148, 50)', 'rgb(92, 171, 115)', 'rgb(88, 192, 172)',\n",
              "                                                     'rgb(49, 41, 74)', 'rgb(41, 160, 91)', 'rgb(135, 126, 225)',\n",
              "                                                     'rgb(106, 205, 53)'], dtype=object)},\n",
              "                          'orientation': 'h',\n",
              "                          'textangle': 0,\n",
              "                          'textposition': 'outside',\n",
              "                          'texttemplate': '%{y}<br>%{x:.4s}',\n",
              "                          'type': 'bar',\n",
              "                          'x': array([1.33652442e+08, 1.38134704e+08, 1.75288684e+08, 2.79415351e+08,\n",
              "                                      2.99751636e+08, 3.07780419e+08, 4.53115794e+08, 4.61439908e+08,\n",
              "                                      5.05075847e+08, 9.90319251e+08]),\n",
              "                          'y': array(['Sweet potatoes', 'Cassava', 'Barley', 'Potatoes', 'Sugar beet',\n",
              "                                      'Rice, paddy (rice milled equivalent)', 'Maize', 'Rice, paddy', 'Wheat',\n",
              "                                      'Sugar cane'], dtype=object)}],\n",
              "                'layout': {'bargap': 0.15,\n",
              "                           'font': {'size': 14},\n",
              "                           'plot_bgcolor': '#FFFFFF',\n",
              "                           'xaxis': {'range': [0, 1907024730.0], 'showline': True, 'visible': True},\n",
              "                           'yaxis': {'showline': False, 'visible': True}},\n",
              "                'name': '1987'},\n",
              "               {'data': [{'cliponaxis': False,\n",
              "                          'hoverinfo': 'all',\n",
              "                          'hovertemplate': '<extra></extra>',\n",
              "                          'marker': {'color': array(['rgb(247, 183, 217)', 'rgb(234, 127, 19)', 'rgb(31, 220, 223)',\n",
              "                                                     'rgb(255, 148, 50)', 'rgb(92, 171, 115)', 'rgb(88, 192, 172)',\n",
              "                                                     'rgb(49, 41, 74)', 'rgb(41, 160, 91)', 'rgb(135, 126, 225)',\n",
              "                                                     'rgb(106, 205, 53)'], dtype=object)},\n",
              "                          'orientation': 'h',\n",
              "                          'textangle': 0,\n",
              "                          'textposition': 'outside',\n",
              "                          'texttemplate': '%{y}<br>%{x:.4s}',\n",
              "                          'type': 'bar',\n",
              "                          'x': array([1.37997867e+08, 1.44878275e+08, 1.63396406e+08, 2.68603004e+08,\n",
              "                                      2.93570876e+08, 3.25134421e+08, 4.03050234e+08, 4.87457902e+08,\n",
              "                                      5.00656538e+08, 9.92982513e+08]),\n",
              "                          'y': array(['Vegetables, fresh nes', 'Cassava', 'Barley', 'Potatoes', 'Sugar beet',\n",
              "                                      'Rice, paddy (rice milled equivalent)', 'Maize', 'Rice, paddy', 'Wheat',\n",
              "                                      'Sugar cane'], dtype=object)}],\n",
              "                'layout': {'bargap': 0.15,\n",
              "                           'font': {'size': 14},\n",
              "                           'plot_bgcolor': '#FFFFFF',\n",
              "                           'xaxis': {'range': [0, 1907024730.0], 'showline': True, 'visible': True},\n",
              "                           'yaxis': {'showline': False, 'visible': True}},\n",
              "                'name': '1988'},\n",
              "               {'data': [{'cliponaxis': False,\n",
              "                          'hoverinfo': 'all',\n",
              "                          'hovertemplate': '<extra></extra>',\n",
              "                          'marker': {'color': array(['rgb(247, 183, 217)', 'rgb(234, 127, 19)', 'rgb(31, 220, 223)',\n",
              "                                                     'rgb(255, 148, 50)', 'rgb(92, 171, 115)', 'rgb(88, 192, 172)',\n",
              "                                                     'rgb(49, 41, 74)', 'rgb(41, 160, 91)', 'rgb(135, 126, 225)',\n",
              "                                                     'rgb(106, 205, 53)'], dtype=object)},\n",
              "                          'orientation': 'h',\n",
              "                          'textangle': 0,\n",
              "                          'textposition': 'outside',\n",
              "                          'texttemplate': '%{y}<br>%{x:.4s}',\n",
              "                          'type': 'bar',\n",
              "                          'x': array([1.38710355e+08, 1.52885746e+08, 1.64166455e+08, 2.76583863e+08,\n",
              "                                      3.14402899e+08, 3.43119234e+08, 4.76874503e+08, 5.14421640e+08,\n",
              "                                      5.38206114e+08, 1.01799878e+09]),\n",
              "                          'y': array(['Vegetables, fresh nes', 'Cassava', 'Barley', 'Potatoes', 'Sugar beet',\n",
              "                                      'Rice, paddy (rice milled equivalent)', 'Maize', 'Rice, paddy', 'Wheat',\n",
              "                                      'Sugar cane'], dtype=object)}],\n",
              "                'layout': {'bargap': 0.15,\n",
              "                           'font': {'size': 14},\n",
              "                           'plot_bgcolor': '#FFFFFF',\n",
              "                           'xaxis': {'range': [0, 1907024730.0], 'showline': True, 'visible': True},\n",
              "                           'yaxis': {'showline': False, 'visible': True}},\n",
              "                'name': '1989'},\n",
              "               {'data': [{'cliponaxis': False,\n",
              "                          'hoverinfo': 'all',\n",
              "                          'hovertemplate': '<extra></extra>',\n",
              "                          'marker': {'color': array(['rgb(247, 183, 217)', 'rgb(234, 127, 19)', 'rgb(31, 220, 223)',\n",
              "                                                     'rgb(255, 148, 50)', 'rgb(92, 171, 115)', 'rgb(88, 192, 172)',\n",
              "                                                     'rgb(49, 41, 74)', 'rgb(41, 160, 91)', 'rgb(135, 126, 225)',\n",
              "                                                     'rgb(106, 205, 53)'], dtype=object)},\n",
              "                          'orientation': 'h',\n",
              "                          'textangle': 0,\n",
              "                          'textposition': 'outside',\n",
              "                          'texttemplate': '%{y}<br>%{x:.4s}',\n",
              "                          'type': 'bar',\n",
              "                          'x': array([1.40314879e+08, 1.52378682e+08, 1.78074020e+08, 2.66825273e+08,\n",
              "                                      3.09186724e+08, 3.45885292e+08, 4.83620724e+08, 5.18568653e+08,\n",
              "                                      5.91330111e+08, 1.05299750e+09]),\n",
              "                          'y': array(['Vegetables, fresh nes', 'Cassava', 'Barley', 'Potatoes', 'Sugar beet',\n",
              "                                      'Rice, paddy (rice milled equivalent)', 'Maize', 'Rice, paddy', 'Wheat',\n",
              "                                      'Sugar cane'], dtype=object)}],\n",
              "                'layout': {'bargap': 0.15,\n",
              "                           'font': {'size': 14},\n",
              "                           'plot_bgcolor': '#FFFFFF',\n",
              "                           'xaxis': {'range': [0, 1907024730.0], 'showline': True, 'visible': True},\n",
              "                           'yaxis': {'showline': False, 'visible': True}},\n",
              "                'name': '1990'},\n",
              "               {'data': [{'cliponaxis': False,\n",
              "                          'hoverinfo': 'all',\n",
              "                          'hovertemplate': '<extra></extra>',\n",
              "                          'marker': {'color': array(['rgb(247, 183, 217)', 'rgb(234, 127, 19)', 'rgb(31, 220, 223)',\n",
              "                                                     'rgb(255, 148, 50)', 'rgb(92, 171, 115)', 'rgb(88, 192, 172)',\n",
              "                                                     'rgb(49, 41, 74)', 'rgb(41, 160, 91)', 'rgb(135, 126, 225)',\n",
              "                                                     'rgb(106, 205, 53)'], dtype=object)},\n",
              "                          'orientation': 'h',\n",
              "                          'textangle': 0,\n",
              "                          'textposition': 'outside',\n",
              "                          'texttemplate': '%{y}<br>%{x:.4s}',\n",
              "                          'type': 'bar',\n",
              "                          'x': array([1.35062201e+08, 1.60406516e+08, 1.69582274e+08, 2.56993281e+08,\n",
              "                                      2.85129013e+08, 3.45847886e+08, 4.94407622e+08, 5.18512573e+08,\n",
              "                                      5.47820731e+08, 1.08695562e+09]),\n",
              "                          'y': array(['Vegetables, fresh nes', 'Cassava', 'Barley', 'Potatoes', 'Sugar beet',\n",
              "                                      'Rice, paddy (rice milled equivalent)', 'Maize', 'Rice, paddy', 'Wheat',\n",
              "                                      'Sugar cane'], dtype=object)}],\n",
              "                'layout': {'bargap': 0.15,\n",
              "                           'font': {'size': 14},\n",
              "                           'plot_bgcolor': '#FFFFFF',\n",
              "                           'xaxis': {'range': [0, 1907024730.0], 'showline': True, 'visible': True},\n",
              "                           'yaxis': {'showline': False, 'visible': True}},\n",
              "                'name': '1991'},\n",
              "               {'data': [{'cliponaxis': False,\n",
              "                          'hoverinfo': 'all',\n",
              "                          'hovertemplate': '<extra></extra>',\n",
              "                          'marker': {'color': array(['rgb(247, 183, 217)', 'rgb(234, 127, 19)', 'rgb(31, 220, 223)',\n",
              "                                                     'rgb(255, 148, 50)', 'rgb(92, 171, 115)', 'rgb(88, 192, 172)',\n",
              "                                                     'rgb(41, 160, 91)', 'rgb(49, 41, 74)', 'rgb(135, 126, 225)',\n",
              "                                                     'rgb(106, 205, 53)'], dtype=object)},\n",
              "                          'orientation': 'h',\n",
              "                          'textangle': 0,\n",
              "                          'textposition': 'outside',\n",
              "                          'texttemplate': '%{y}<br>%{x:.4s}',\n",
              "                          'type': 'bar',\n",
              "                          'x': array([1.44904166e+08, 1.62004349e+08, 1.65533308e+08, 2.78980652e+08,\n",
              "                                      2.81711850e+08, 3.52094665e+08, 5.27878059e+08, 5.33789336e+08,\n",
              "                                      5.65111947e+08, 1.10757685e+09]),\n",
              "                          'y': array(['Vegetables, fresh nes', 'Cassava', 'Barley', 'Potatoes', 'Sugar beet',\n",
              "                                      'Rice, paddy (rice milled equivalent)', 'Rice, paddy', 'Maize', 'Wheat',\n",
              "                                      'Sugar cane'], dtype=object)}],\n",
              "                'layout': {'bargap': 0.15,\n",
              "                           'font': {'size': 14},\n",
              "                           'plot_bgcolor': '#FFFFFF',\n",
              "                           'xaxis': {'range': [0, 1907024730.0], 'showline': True, 'visible': True},\n",
              "                           'yaxis': {'showline': False, 'visible': True}},\n",
              "                'name': '1992'},\n",
              "               {'data': [{'cliponaxis': False,\n",
              "                          'hoverinfo': 'all',\n",
              "                          'hovertemplate': '<extra></extra>',\n",
              "                          'marker': {'color': array(['rgb(247, 183, 217)', 'rgb(234, 127, 19)', 'rgb(31, 220, 223)',\n",
              "                                                     'rgb(92, 171, 115)', 'rgb(255, 148, 50)', 'rgb(88, 192, 172)',\n",
              "                                                     'rgb(49, 41, 74)', 'rgb(41, 160, 91)', 'rgb(135, 126, 225)',\n",
              "                                                     'rgb(106, 205, 53)'], dtype=object)},\n",
              "                          'orientation': 'h',\n",
              "                          'textangle': 0,\n",
              "                          'textposition': 'outside',\n",
              "                          'texttemplate': '%{y}<br>%{x:.4s}',\n",
              "                          'type': 'bar',\n",
              "                          'x': array([1.55428142e+08, 1.63185199e+08, 1.69542965e+08, 2.82190576e+08,\n",
              "                                      3.04619922e+08, 3.53242902e+08, 4.77221153e+08, 5.29599553e+08,\n",
              "                                      5.64739765e+08, 1.02088132e+09]),\n",
              "                          'y': array(['Vegetables, fresh nes', 'Cassava', 'Barley', 'Sugar beet', 'Potatoes',\n",
              "                                      'Rice, paddy (rice milled equivalent)', 'Maize', 'Rice, paddy', 'Wheat',\n",
              "                                      'Sugar cane'], dtype=object)}],\n",
              "                'layout': {'bargap': 0.15,\n",
              "                           'font': {'size': 14},\n",
              "                           'plot_bgcolor': '#FFFFFF',\n",
              "                           'xaxis': {'range': [0, 1907024730.0], 'showline': True, 'visible': True},\n",
              "                           'yaxis': {'showline': False, 'visible': True}},\n",
              "                'name': '1993'},\n",
              "               {'data': [{'cliponaxis': False,\n",
              "                          'hoverinfo': 'all',\n",
              "                          'hovertemplate': '<extra></extra>',\n",
              "                          'marker': {'color': array(['rgb(31, 220, 223)', 'rgb(247, 183, 217)', 'rgb(234, 127, 19)',\n",
              "                                                     'rgb(92, 171, 115)', 'rgb(255, 148, 50)', 'rgb(88, 192, 172)',\n",
              "                                                     'rgb(135, 126, 225)', 'rgb(41, 160, 91)', 'rgb(49, 41, 74)',\n",
              "                                                     'rgb(106, 205, 53)'], dtype=object)},\n",
              "                          'orientation': 'h',\n",
              "                          'textangle': 0,\n",
              "                          'textposition': 'outside',\n",
              "                          'texttemplate': '%{y}<br>%{x:.4s}',\n",
              "                          'type': 'bar',\n",
              "                          'x': array([1.61019263e+08, 1.61088312e+08, 1.64501121e+08, 2.54453796e+08,\n",
              "                                      2.70203771e+08, 3.59240229e+08, 5.25435323e+08, 5.38591048e+08,\n",
              "                                      5.68663564e+08, 1.08409736e+09]),\n",
              "                          'y': array(['Barley', 'Vegetables, fresh nes', 'Cassava', 'Sugar beet', 'Potatoes',\n",
              "                                      'Rice, paddy (rice milled equivalent)', 'Wheat', 'Rice, paddy', 'Maize',\n",
              "                                      'Sugar cane'], dtype=object)}],\n",
              "                'layout': {'bargap': 0.15,\n",
              "                           'font': {'size': 14},\n",
              "                           'plot_bgcolor': '#FFFFFF',\n",
              "                           'xaxis': {'range': [0, 1907024730.0], 'showline': True, 'visible': True},\n",
              "                           'yaxis': {'showline': False, 'visible': True}},\n",
              "                'name': '1994'},\n",
              "               {'data': [{'cliponaxis': False,\n",
              "                          'hoverinfo': 'all',\n",
              "                          'hovertemplate': '<extra></extra>',\n",
              "                          'marker': {'color': array(['rgb(31, 220, 223)', 'rgb(234, 127, 19)', 'rgb(247, 183, 217)',\n",
              "                                                     'rgb(92, 171, 115)', 'rgb(255, 148, 50)', 'rgb(88, 192, 172)',\n",
              "                                                     'rgb(49, 41, 74)', 'rgb(135, 126, 225)', 'rgb(41, 160, 91)',\n",
              "                                                     'rgb(106, 205, 53)'], dtype=object)},\n",
              "                          'orientation': 'h',\n",
              "                          'textangle': 0,\n",
              "                          'textposition': 'outside',\n",
              "                          'texttemplate': '%{y}<br>%{x:.4s}',\n",
              "                          'type': 'bar',\n",
              "                          'x': array([1.40724630e+08, 1.61787472e+08, 1.65885731e+08, 2.64504934e+08,\n",
              "                                      2.85333037e+08, 3.64957060e+08, 5.17299059e+08, 5.44357532e+08,\n",
              "                                      5.47162009e+08, 1.16336686e+09]),\n",
              "                          'y': array(['Barley', 'Cassava', 'Vegetables, fresh nes', 'Sugar beet', 'Potatoes',\n",
              "                                      'Rice, paddy (rice milled equivalent)', 'Maize', 'Wheat', 'Rice, paddy',\n",
              "                                      'Sugar cane'], dtype=object)}],\n",
              "                'layout': {'bargap': 0.15,\n",
              "                           'font': {'size': 14},\n",
              "                           'plot_bgcolor': '#FFFFFF',\n",
              "                           'xaxis': {'range': [0, 1907024730.0], 'showline': True, 'visible': True},\n",
              "                           'yaxis': {'showline': False, 'visible': True}},\n",
              "                'name': '1995'},\n",
              "               {'data': [{'cliponaxis': False,\n",
              "                          'hoverinfo': 'all',\n",
              "                          'hovertemplate': '<extra></extra>',\n",
              "                          'marker': {'color': array(['rgb(31, 220, 223)', 'rgb(234, 127, 19)', 'rgb(247, 183, 217)',\n",
              "                                                     'rgb(92, 171, 115)', 'rgb(255, 148, 50)', 'rgb(88, 192, 172)',\n",
              "                                                     'rgb(41, 160, 91)', 'rgb(135, 126, 225)', 'rgb(49, 41, 74)',\n",
              "                                                     'rgb(106, 205, 53)'], dtype=object)},\n",
              "                          'orientation': 'h',\n",
              "                          'textangle': 0,\n",
              "                          'textposition': 'outside',\n",
              "                          'texttemplate': '%{y}<br>%{x:.4s}',\n",
              "                          'type': 'bar',\n",
              "                          'x': array([1.55017318e+08, 1.58373490e+08, 1.71922447e+08, 2.64461343e+08,\n",
              "                                      3.10493658e+08, 3.79294907e+08, 5.68658031e+08, 5.78616933e+08,\n",
              "                                      5.86146163e+08, 1.21889012e+09]),\n",
              "                          'y': array(['Barley', 'Cassava', 'Vegetables, fresh nes', 'Sugar beet', 'Potatoes',\n",
              "                                      'Rice, paddy (rice milled equivalent)', 'Rice, paddy', 'Wheat', 'Maize',\n",
              "                                      'Sugar cane'], dtype=object)}],\n",
              "                'layout': {'bargap': 0.15,\n",
              "                           'font': {'size': 14},\n",
              "                           'plot_bgcolor': '#FFFFFF',\n",
              "                           'xaxis': {'range': [0, 1907024730.0], 'showline': True, 'visible': True},\n",
              "                           'yaxis': {'showline': False, 'visible': True}},\n",
              "                'name': '1996'},\n",
              "               {'data': [{'cliponaxis': False,\n",
              "                          'hoverinfo': 'all',\n",
              "                          'hovertemplate': '<extra></extra>',\n",
              "                          'marker': {'color': array(['rgb(31, 220, 223)', 'rgb(234, 127, 19)', 'rgb(247, 183, 217)',\n",
              "                                                     'rgb(92, 171, 115)', 'rgb(255, 148, 50)', 'rgb(88, 192, 172)',\n",
              "                                                     'rgb(41, 160, 91)', 'rgb(49, 41, 74)', 'rgb(135, 126, 225)',\n",
              "                                                     'rgb(106, 205, 53)'], dtype=object)},\n",
              "                          'orientation': 'h',\n",
              "                          'textangle': 0,\n",
              "                          'textposition': 'outside',\n",
              "                          'texttemplate': '%{y}<br>%{x:.4s}',\n",
              "                          'type': 'bar',\n",
              "                          'x': array([1.54359212e+08, 1.61747290e+08, 1.75581351e+08, 2.67973956e+08,\n",
              "                                      3.01079129e+08, 3.84950308e+08, 5.77136893e+08, 5.84411894e+08,\n",
              "                                      6.14651780e+08, 1.24642531e+09]),\n",
              "                          'y': array(['Barley', 'Cassava', 'Vegetables, fresh nes', 'Sugar beet', 'Potatoes',\n",
              "                                      'Rice, paddy (rice milled equivalent)', 'Rice, paddy', 'Maize', 'Wheat',\n",
              "                                      'Sugar cane'], dtype=object)}],\n",
              "                'layout': {'bargap': 0.15,\n",
              "                           'font': {'size': 14},\n",
              "                           'plot_bgcolor': '#FFFFFF',\n",
              "                           'xaxis': {'range': [0, 1907024730.0], 'showline': True, 'visible': True},\n",
              "                           'yaxis': {'showline': False, 'visible': True}},\n",
              "                'name': '1997'},\n",
              "               {'data': [{'cliponaxis': False,\n",
              "                          'hoverinfo': 'all',\n",
              "                          'hovertemplate': '<extra></extra>',\n",
              "                          'marker': {'color': array(['rgb(69, 227, 216)', 'rgb(234, 127, 19)', 'rgb(247, 183, 217)',\n",
              "                                                     'rgb(92, 171, 115)', 'rgb(255, 148, 50)', 'rgb(88, 192, 172)',\n",
              "                                                     'rgb(41, 160, 91)', 'rgb(135, 126, 225)', 'rgb(49, 41, 74)',\n",
              "                                                     'rgb(106, 205, 53)'], dtype=object)},\n",
              "                          'orientation': 'h',\n",
              "                          'textangle': 0,\n",
              "                          'textposition': 'outside',\n",
              "                          'texttemplate': '%{y}<br>%{x:.4s}',\n",
              "                          'type': 'bar',\n",
              "                          'x': array([1.60128822e+08, 1.62613417e+08, 1.78523814e+08, 2.63032522e+08,\n",
              "                                      2.97834904e+08, 3.86068923e+08, 5.78813977e+08, 5.96175815e+08,\n",
              "                                      6.15081853e+08, 1.26367426e+09]),\n",
              "                          'y': array(['Soybeans', 'Cassava', 'Vegetables, fresh nes', 'Sugar beet',\n",
              "                                      'Potatoes', 'Rice, paddy (rice milled equivalent)', 'Rice, paddy',\n",
              "                                      'Wheat', 'Maize', 'Sugar cane'], dtype=object)}],\n",
              "                'layout': {'bargap': 0.15,\n",
              "                           'font': {'size': 14},\n",
              "                           'plot_bgcolor': '#FFFFFF',\n",
              "                           'xaxis': {'range': [0, 1907024730.0], 'showline': True, 'visible': True},\n",
              "                           'yaxis': {'showline': False, 'visible': True}},\n",
              "                'name': '1998'},\n",
              "               {'data': [{'cliponaxis': False,\n",
              "                          'hoverinfo': 'all',\n",
              "                          'hovertemplate': '<extra></extra>',\n",
              "                          'marker': {'color': array(['rgb(69, 227, 216)', 'rgb(234, 127, 19)', 'rgb(247, 183, 217)',\n",
              "                                                     'rgb(92, 171, 115)', 'rgb(255, 148, 50)', 'rgb(88, 192, 172)',\n",
              "                                                     'rgb(135, 126, 225)', 'rgb(49, 41, 74)', 'rgb(41, 160, 91)',\n",
              "                                                     'rgb(106, 205, 53)'], dtype=object)},\n",
              "                          'orientation': 'h',\n",
              "                          'textangle': 0,\n",
              "                          'textposition': 'outside',\n",
              "                          'texttemplate': '%{y}<br>%{x:.4s}',\n",
              "                          'type': 'bar',\n",
              "                          'x': array([1.57815479e+08, 1.68847321e+08, 1.88064527e+08, 2.60565420e+08,\n",
              "                                      2.96076184e+08, 4.07655445e+08, 5.84763438e+08, 6.07434709e+08,\n",
              "                                      6.11177579e+08, 1.28212848e+09]),\n",
              "                          'y': array(['Soybeans', 'Cassava', 'Vegetables, fresh nes', 'Sugar beet',\n",
              "                                      'Potatoes', 'Rice, paddy (rice milled equivalent)', 'Wheat', 'Maize',\n",
              "                                      'Rice, paddy', 'Sugar cane'], dtype=object)}],\n",
              "                'layout': {'bargap': 0.15,\n",
              "                           'font': {'size': 14},\n",
              "                           'plot_bgcolor': '#FFFFFF',\n",
              "                           'xaxis': {'range': [0, 1907024730.0], 'showline': True, 'visible': True},\n",
              "                           'yaxis': {'showline': False, 'visible': True}},\n",
              "                'name': '1999'},\n",
              "               {'data': [{'cliponaxis': False,\n",
              "                          'hoverinfo': 'all',\n",
              "                          'hovertemplate': '<extra></extra>',\n",
              "                          'marker': {'color': array(['rgb(69, 227, 216)', 'rgb(234, 127, 19)', 'rgb(247, 183, 217)',\n",
              "                                                     'rgb(92, 171, 115)', 'rgb(255, 148, 50)', 'rgb(88, 192, 172)',\n",
              "                                                     'rgb(135, 126, 225)', 'rgb(49, 41, 74)', 'rgb(41, 160, 91)',\n",
              "                                                     'rgb(106, 205, 53)'], dtype=object)},\n",
              "                          'orientation': 'h',\n",
              "                          'textangle': 0,\n",
              "                          'textposition': 'outside',\n",
              "                          'texttemplate': '%{y}<br>%{x:.4s}',\n",
              "                          'type': 'bar',\n",
              "                          'x': array([1.61308383e+08, 1.75846840e+08, 2.11610549e+08, 2.50148505e+08,\n",
              "                                      3.22775223e+08, 3.99311670e+08, 5.84999160e+08, 5.92038698e+08,\n",
              "                                      5.98668171e+08, 1.25266886e+09]),\n",
              "                          'y': array(['Soybeans', 'Cassava', 'Vegetables, fresh nes', 'Sugar beet',\n",
              "                                      'Potatoes', 'Rice, paddy (rice milled equivalent)', 'Wheat', 'Maize',\n",
              "                                      'Rice, paddy', 'Sugar cane'], dtype=object)}],\n",
              "                'layout': {'bargap': 0.15,\n",
              "                           'font': {'size': 14},\n",
              "                           'plot_bgcolor': '#FFFFFF',\n",
              "                           'xaxis': {'range': [0, 1907024730.0], 'showline': True, 'visible': True},\n",
              "                           'yaxis': {'showline': False, 'visible': True}},\n",
              "                'name': '2000'},\n",
              "               {'data': [{'cliponaxis': False,\n",
              "                          'hoverinfo': 'all',\n",
              "                          'hovertemplate': '<extra></extra>',\n",
              "                          'marker': {'color': array(['rgb(69, 227, 216)', 'rgb(234, 127, 19)', 'rgb(247, 183, 217)',\n",
              "                                                     'rgb(92, 171, 115)', 'rgb(255, 148, 50)', 'rgb(88, 192, 172)',\n",
              "                                                     'rgb(135, 126, 225)', 'rgb(41, 160, 91)', 'rgb(49, 41, 74)',\n",
              "                                                     'rgb(106, 205, 53)'], dtype=object)},\n",
              "                          'orientation': 'h',\n",
              "                          'textangle': 0,\n",
              "                          'textposition': 'outside',\n",
              "                          'texttemplate': '%{y}<br>%{x:.4s}',\n",
              "                          'type': 'bar',\n",
              "                          'x': array([1.77020743e+08, 1.81687057e+08, 2.27180655e+08, 2.30314950e+08,\n",
              "                                      3.05492291e+08, 4.00364493e+08, 5.88243664e+08, 6.00246617e+08,\n",
              "                                      6.15152413e+08, 1.25766535e+09]),\n",
              "                          'y': array(['Soybeans', 'Cassava', 'Vegetables, fresh nes', 'Sugar beet',\n",
              "                                      'Potatoes', 'Rice, paddy (rice milled equivalent)', 'Wheat',\n",
              "                                      'Rice, paddy', 'Maize', 'Sugar cane'], dtype=object)}],\n",
              "                'layout': {'bargap': 0.15,\n",
              "                           'font': {'size': 14},\n",
              "                           'plot_bgcolor': '#FFFFFF',\n",
              "                           'xaxis': {'range': [0, 1907024730.0], 'showline': True, 'visible': True},\n",
              "                           'yaxis': {'showline': False, 'visible': True}},\n",
              "                'name': '2001'},\n",
              "               {'data': [{'cliponaxis': False,\n",
              "                          'hoverinfo': 'all',\n",
              "                          'hovertemplate': '<extra></extra>',\n",
              "                          'marker': {'color': array(['rgb(69, 227, 216)', 'rgb(234, 127, 19)', 'rgb(247, 183, 217)',\n",
              "                                                     'rgb(92, 171, 115)', 'rgb(255, 148, 50)', 'rgb(88, 192, 172)',\n",
              "                                                     'rgb(41, 160, 91)', 'rgb(135, 126, 225)', 'rgb(49, 41, 74)',\n",
              "                                                     'rgb(106, 205, 53)'], dtype=object)},\n",
              "                          'orientation': 'h',\n",
              "                          'textangle': 0,\n",
              "                          'textposition': 'outside',\n",
              "                          'texttemplate': '%{y}<br>%{x:.4s}',\n",
              "                          'type': 'bar',\n",
              "                          'x': array([1.80950733e+08, 1.82642727e+08, 2.26692031e+08, 2.59606962e+08,\n",
              "                                      3.09800226e+08, 3.80891169e+08, 5.71051228e+08, 5.92045286e+08,\n",
              "                                      6.03551954e+08, 1.32677396e+09]),\n",
              "                          'y': array(['Soybeans', 'Cassava', 'Vegetables, fresh nes', 'Sugar beet',\n",
              "                                      'Potatoes', 'Rice, paddy (rice milled equivalent)', 'Rice, paddy',\n",
              "                                      'Wheat', 'Maize', 'Sugar cane'], dtype=object)}],\n",
              "                'layout': {'bargap': 0.15,\n",
              "                           'font': {'size': 14},\n",
              "                           'plot_bgcolor': '#FFFFFF',\n",
              "                           'xaxis': {'range': [0, 1907024730.0], 'showline': True, 'visible': True},\n",
              "                           'yaxis': {'showline': False, 'visible': True}},\n",
              "                'name': '2002'},\n",
              "               {'data': [{'cliponaxis': False,\n",
              "                          'hoverinfo': 'all',\n",
              "                          'hovertemplate': '<extra></extra>',\n",
              "                          'marker': {'color': array(['rgb(69, 227, 216)', 'rgb(234, 127, 19)', 'rgb(92, 171, 115)',\n",
              "                                                     'rgb(247, 183, 217)', 'rgb(255, 148, 50)', 'rgb(88, 192, 172)',\n",
              "                                                     'rgb(135, 126, 225)', 'rgb(41, 160, 91)', 'rgb(49, 41, 74)',\n",
              "                                                     'rgb(106, 205, 53)'], dtype=object)},\n",
              "                          'orientation': 'h',\n",
              "                          'textangle': 0,\n",
              "                          'textposition': 'outside',\n",
              "                          'texttemplate': '%{y}<br>%{x:.4s}',\n",
              "                          'type': 'bar',\n",
              "                          'x': array([1.90573528e+08, 1.92215569e+08, 2.32734248e+08, 2.37183104e+08,\n",
              "                                      3.07591201e+08, 3.91483259e+08, 5.49974473e+08, 5.86931423e+08,\n",
              "                                      6.45055272e+08, 1.37188098e+09]),\n",
              "                          'y': array(['Soybeans', 'Cassava', 'Sugar beet', 'Vegetables, fresh nes',\n",
              "                                      'Potatoes', 'Rice, paddy (rice milled equivalent)', 'Wheat',\n",
              "                                      'Rice, paddy', 'Maize', 'Sugar cane'], dtype=object)}],\n",
              "                'layout': {'bargap': 0.15,\n",
              "                           'font': {'size': 14},\n",
              "                           'plot_bgcolor': '#FFFFFF',\n",
              "                           'xaxis': {'range': [0, 1907024730.0], 'showline': True, 'visible': True},\n",
              "                           'yaxis': {'showline': False, 'visible': True}},\n",
              "                'name': '2003'},\n",
              "               {'data': [{'cliponaxis': False,\n",
              "                          'hoverinfo': 'all',\n",
              "                          'hovertemplate': '<extra></extra>',\n",
              "                          'marker': {'color': array(['rgb(234, 127, 19)', 'rgb(69, 227, 216)', 'rgb(247, 183, 217)',\n",
              "                                                     'rgb(92, 171, 115)', 'rgb(255, 148, 50)', 'rgb(88, 192, 172)',\n",
              "                                                     'rgb(41, 160, 91)', 'rgb(135, 126, 225)', 'rgb(49, 41, 74)',\n",
              "                                                     'rgb(106, 205, 53)'], dtype=object)},\n",
              "                          'orientation': 'h',\n",
              "                          'textangle': 0,\n",
              "                          'textposition': 'outside',\n",
              "                          'texttemplate': '%{y}<br>%{x:.4s}',\n",
              "                          'type': 'bar',\n",
              "                          'x': array([2.03831956e+08, 2.05548134e+08, 2.24325418e+08, 2.51589379e+08,\n",
              "                                      3.28165612e+08, 4.05101582e+08, 6.07348698e+08, 6.34666010e+08,\n",
              "                                      7.29517951e+08, 1.33313843e+09]),\n",
              "                          'y': array(['Cassava', 'Soybeans', 'Vegetables, fresh nes', 'Sugar beet',\n",
              "                                      'Potatoes', 'Rice, paddy (rice milled equivalent)', 'Rice, paddy',\n",
              "                                      'Wheat', 'Maize', 'Sugar cane'], dtype=object)}],\n",
              "                'layout': {'bargap': 0.15,\n",
              "                           'font': {'size': 14},\n",
              "                           'plot_bgcolor': '#FFFFFF',\n",
              "                           'xaxis': {'range': [0, 1907024730.0], 'showline': True, 'visible': True},\n",
              "                           'yaxis': {'showline': False, 'visible': True}},\n",
              "                'name': '2004'},\n",
              "               {'data': [{'cliponaxis': False,\n",
              "                          'hoverinfo': 'all',\n",
              "                          'hovertemplate': '<extra></extra>',\n",
              "                          'marker': {'color': array(['rgb(234, 127, 19)', 'rgb(69, 227, 216)', 'rgb(247, 183, 217)',\n",
              "                                                     'rgb(92, 171, 115)', 'rgb(255, 148, 50)', 'rgb(88, 192, 172)',\n",
              "                                                     'rgb(135, 126, 225)', 'rgb(41, 160, 91)', 'rgb(49, 41, 74)',\n",
              "                                                     'rgb(106, 205, 53)'], dtype=object)},\n",
              "                          'orientation': 'h',\n",
              "                          'textangle': 0,\n",
              "                          'textposition': 'outside',\n",
              "                          'texttemplate': '%{y}<br>%{x:.4s}',\n",
              "                          'type': 'bar',\n",
              "                          'x': array([2.06533771e+08, 2.14542761e+08, 2.31771630e+08, 2.53737449e+08,\n",
              "                                      3.17675179e+08, 4.23028136e+08, 6.27020836e+08, 6.34225091e+08,\n",
              "                                      7.14191174e+08, 1.30630770e+09]),\n",
              "                          'y': array(['Cassava', 'Soybeans', 'Vegetables, fresh nes', 'Sugar beet',\n",
              "                                      'Potatoes', 'Rice, paddy (rice milled equivalent)', 'Wheat',\n",
              "                                      'Rice, paddy', 'Maize', 'Sugar cane'], dtype=object)}],\n",
              "                'layout': {'bargap': 0.15,\n",
              "                           'font': {'size': 14},\n",
              "                           'plot_bgcolor': '#FFFFFF',\n",
              "                           'xaxis': {'range': [0, 1907024730.0], 'showline': True, 'visible': True},\n",
              "                           'yaxis': {'showline': False, 'visible': True}},\n",
              "                'name': '2005'},\n",
              "               {'data': [{'cliponaxis': False,\n",
              "                          'hoverinfo': 'all',\n",
              "                          'hovertemplate': '<extra></extra>',\n",
              "                          'marker': {'color': array(['rgb(69, 227, 216)', 'rgb(234, 127, 19)', 'rgb(247, 183, 217)',\n",
              "                                                     'rgb(92, 171, 115)', 'rgb(255, 148, 50)', 'rgb(88, 192, 172)',\n",
              "                                                     'rgb(135, 126, 225)', 'rgb(41, 160, 91)', 'rgb(49, 41, 74)',\n",
              "                                                     'rgb(106, 205, 53)'], dtype=object)},\n",
              "                          'orientation': 'h',\n",
              "                          'textangle': 0,\n",
              "                          'textposition': 'outside',\n",
              "                          'texttemplate': '%{y}<br>%{x:.4s}',\n",
              "                          'type': 'bar',\n",
              "                          'x': array([2.21558922e+08, 2.23636615e+08, 2.41884277e+08, 2.54025175e+08,\n",
              "                                      3.07572166e+08, 4.27350243e+08, 6.14381123e+08, 6.40705012e+08,\n",
              "                                      7.07937211e+08, 1.41737602e+09]),\n",
              "                          'y': array(['Soybeans', 'Cassava', 'Vegetables, fresh nes', 'Sugar beet',\n",
              "                                      'Potatoes', 'Rice, paddy (rice milled equivalent)', 'Wheat',\n",
              "                                      'Rice, paddy', 'Maize', 'Sugar cane'], dtype=object)}],\n",
              "                'layout': {'bargap': 0.15,\n",
              "                           'font': {'size': 14},\n",
              "                           'plot_bgcolor': '#FFFFFF',\n",
              "                           'xaxis': {'range': [0, 1907024730.0], 'showline': True, 'visible': True},\n",
              "                           'yaxis': {'showline': False, 'visible': True}},\n",
              "                'name': '2006'},\n",
              "               {'data': [{'cliponaxis': False,\n",
              "                          'hoverinfo': 'all',\n",
              "                          'hovertemplate': '<extra></extra>',\n",
              "                          'marker': {'color': array(['rgb(69, 227, 216)', 'rgb(234, 127, 19)', 'rgb(247, 183, 217)',\n",
              "                                                     'rgb(92, 171, 115)', 'rgb(255, 148, 50)', 'rgb(88, 192, 172)',\n",
              "                                                     'rgb(135, 126, 225)', 'rgb(41, 160, 91)', 'rgb(49, 41, 74)',\n",
              "                                                     'rgb(106, 205, 53)'], dtype=object)},\n",
              "                          'orientation': 'h',\n",
              "                          'textangle': 0,\n",
              "                          'textposition': 'outside',\n",
              "                          'texttemplate': '%{y}<br>%{x:.4s}',\n",
              "                          'type': 'bar',\n",
              "                          'x': array([2.19793075e+08, 2.26974274e+08, 2.44610984e+08, 2.46945604e+08,\n",
              "                                      3.13191368e+08, 4.37923034e+08, 6.06595140e+08, 6.56556273e+08,\n",
              "                                      7.92732888e+08, 1.60513620e+09]),\n",
              "                          'y': array(['Soybeans', 'Cassava', 'Vegetables, fresh nes', 'Sugar beet',\n",
              "                                      'Potatoes', 'Rice, paddy (rice milled equivalent)', 'Wheat',\n",
              "                                      'Rice, paddy', 'Maize', 'Sugar cane'], dtype=object)}],\n",
              "                'layout': {'bargap': 0.15,\n",
              "                           'font': {'size': 14},\n",
              "                           'plot_bgcolor': '#FFFFFF',\n",
              "                           'xaxis': {'range': [0, 1907024730.0], 'showline': True, 'visible': True},\n",
              "                           'yaxis': {'showline': False, 'visible': True}},\n",
              "                'name': '2007'},\n",
              "               {'data': [{'cliponaxis': False,\n",
              "                          'hoverinfo': 'all',\n",
              "                          'hovertemplate': '<extra></extra>',\n",
              "                          'marker': {'color': array(['rgb(92, 171, 115)', 'rgb(234, 127, 19)', 'rgb(69, 227, 216)',\n",
              "                                                     'rgb(247, 183, 217)', 'rgb(255, 148, 50)', 'rgb(88, 192, 172)',\n",
              "                                                     'rgb(135, 126, 225)', 'rgb(41, 160, 91)', 'rgb(49, 41, 74)',\n",
              "                                                     'rgb(106, 205, 53)'], dtype=object)},\n",
              "                          'orientation': 'h',\n",
              "                          'textangle': 0,\n",
              "                          'textposition': 'outside',\n",
              "                          'texttemplate': '%{y}<br>%{x:.4s}',\n",
              "                          'type': 'bar',\n",
              "                          'x': array([2.21199239e+08, 2.30081674e+08, 2.31223485e+08, 2.49305237e+08,\n",
              "                                      3.27188473e+08, 4.58262606e+08, 6.80294443e+08, 6.87050383e+08,\n",
              "                                      8.29240208e+08, 1.72125151e+09]),\n",
              "                          'y': array(['Sugar beet', 'Cassava', 'Soybeans', 'Vegetables, fresh nes',\n",
              "                                      'Potatoes', 'Rice, paddy (rice milled equivalent)', 'Wheat',\n",
              "                                      'Rice, paddy', 'Maize', 'Sugar cane'], dtype=object)}],\n",
              "                'layout': {'bargap': 0.15,\n",
              "                           'font': {'size': 14},\n",
              "                           'plot_bgcolor': '#FFFFFF',\n",
              "                           'xaxis': {'range': [0, 1907024730.0], 'showline': True, 'visible': True},\n",
              "                           'yaxis': {'showline': False, 'visible': True}},\n",
              "                'name': '2008'},\n",
              "               {'data': [{'cliponaxis': False,\n",
              "                          'hoverinfo': 'all',\n",
              "                          'hovertemplate': '<extra></extra>',\n",
              "                          'marker': {'color': array(['rgb(69, 227, 216)', 'rgb(92, 171, 115)', 'rgb(234, 127, 19)',\n",
              "                                                     'rgb(247, 183, 217)', 'rgb(255, 148, 50)', 'rgb(88, 192, 172)',\n",
              "                                                     'rgb(135, 126, 225)', 'rgb(41, 160, 91)', 'rgb(49, 41, 74)',\n",
              "                                                     'rgb(106, 205, 53)'], dtype=object)},\n",
              "                          'orientation': 'h',\n",
              "                          'textangle': 0,\n",
              "                          'textposition': 'outside',\n",
              "                          'texttemplate': '%{y}<br>%{x:.4s}',\n",
              "                          'type': 'bar',\n",
              "                          'x': array([2.23380802e+08, 2.27985771e+08, 2.33794346e+08, 2.48581509e+08,\n",
              "                                      3.30740148e+08, 4.57333039e+08, 6.83639171e+08, 6.85656731e+08,\n",
              "                                      8.20072448e+08, 1.67761060e+09]),\n",
              "                          'y': array(['Soybeans', 'Sugar beet', 'Cassava', 'Vegetables, fresh nes',\n",
              "                                      'Potatoes', 'Rice, paddy (rice milled equivalent)', 'Wheat',\n",
              "                                      'Rice, paddy', 'Maize', 'Sugar cane'], dtype=object)}],\n",
              "                'layout': {'bargap': 0.15,\n",
              "                           'font': {'size': 14},\n",
              "                           'plot_bgcolor': '#FFFFFF',\n",
              "                           'xaxis': {'range': [0, 1907024730.0], 'showline': True, 'visible': True},\n",
              "                           'yaxis': {'showline': False, 'visible': True}},\n",
              "                'name': '2009'},\n",
              "               {'data': [{'cliponaxis': False,\n",
              "                          'hoverinfo': 'all',\n",
              "                          'hovertemplate': '<extra></extra>',\n",
              "                          'marker': {'color': array(['rgb(92, 171, 115)', 'rgb(234, 127, 19)', 'rgb(247, 183, 217)',\n",
              "                                                     'rgb(69, 227, 216)', 'rgb(255, 148, 50)', 'rgb(88, 192, 172)',\n",
              "                                                     'rgb(135, 126, 225)', 'rgb(41, 160, 91)', 'rgb(49, 41, 74)',\n",
              "                                                     'rgb(106, 205, 53)'], dtype=object)},\n",
              "                          'orientation': 'h',\n",
              "                          'textangle': 0,\n",
              "                          'textposition': 'outside',\n",
              "                          'texttemplate': '%{y}<br>%{x:.4s}',\n",
              "                          'type': 'bar',\n",
              "                          'x': array([2.28408922e+08, 2.39296357e+08, 2.59746276e+08, 2.65088429e+08,\n",
              "                                      3.28616920e+08, 4.67659411e+08, 6.40802665e+08, 7.01138548e+08,\n",
              "                                      8.51679519e+08, 1.68283996e+09]),\n",
              "                          'y': array(['Sugar beet', 'Cassava', 'Vegetables, fresh nes', 'Soybeans',\n",
              "                                      'Potatoes', 'Rice, paddy (rice milled equivalent)', 'Wheat',\n",
              "                                      'Rice, paddy', 'Maize', 'Sugar cane'], dtype=object)}],\n",
              "                'layout': {'bargap': 0.15,\n",
              "                           'font': {'size': 14},\n",
              "                           'plot_bgcolor': '#FFFFFF',\n",
              "                           'xaxis': {'range': [0, 1907024730.0], 'showline': True, 'visible': True},\n",
              "                           'yaxis': {'showline': False, 'visible': True}},\n",
              "                'name': '2010'},\n",
              "               {'data': [{'cliponaxis': False,\n",
              "                          'hoverinfo': 'all',\n",
              "                          'hovertemplate': '<extra></extra>',\n",
              "                          'marker': {'color': array(['rgb(234, 127, 19)', 'rgb(247, 183, 217)', 'rgb(69, 227, 216)',\n",
              "                                                     'rgb(92, 171, 115)', 'rgb(255, 148, 50)', 'rgb(88, 192, 172)',\n",
              "                                                     'rgb(135, 126, 225)', 'rgb(41, 160, 91)', 'rgb(49, 41, 74)',\n",
              "                                                     'rgb(106, 205, 53)'], dtype=object)},\n",
              "                          'orientation': 'h',\n",
              "                          'textangle': 0,\n",
              "                          'textposition': 'outside',\n",
              "                          'texttemplate': '%{y}<br>%{x:.4s}',\n",
              "                          'type': 'bar',\n",
              "                          'x': array([2.51822205e+08, 2.60842101e+08, 2.61601653e+08, 2.78833260e+08,\n",
              "                                      3.67889898e+08, 4.84492968e+08, 6.96898368e+08, 7.26376264e+08,\n",
              "                                      8.86680581e+08, 1.79412050e+09]),\n",
              "                          'y': array(['Cassava', 'Vegetables, fresh nes', 'Soybeans', 'Sugar beet',\n",
              "                                      'Potatoes', 'Rice, paddy (rice milled equivalent)', 'Wheat',\n",
              "                                      'Rice, paddy', 'Maize', 'Sugar cane'], dtype=object)}],\n",
              "                'layout': {'bargap': 0.15,\n",
              "                           'font': {'size': 14},\n",
              "                           'plot_bgcolor': '#FFFFFF',\n",
              "                           'xaxis': {'range': [0, 1907024730.0], 'showline': True, 'visible': True},\n",
              "                           'yaxis': {'showline': False, 'visible': True}},\n",
              "                'name': '2011'},\n",
              "               {'data': [{'cliponaxis': False,\n",
              "                          'hoverinfo': 'all',\n",
              "                          'hovertemplate': '<extra></extra>',\n",
              "                          'marker': {'color': array(['rgb(99, 208, 163)', 'rgb(92, 171, 115)', 'rgb(247, 183, 217)',\n",
              "                                                     'rgb(234, 127, 19)', 'rgb(255, 148, 50)', 'rgb(88, 192, 172)',\n",
              "                                                     'rgb(135, 126, 225)', 'rgb(41, 160, 91)', 'rgb(49, 41, 74)',\n",
              "                                                     'rgb(106, 205, 53)'], dtype=object)},\n",
              "                          'orientation': 'h',\n",
              "                          'textangle': 0,\n",
              "                          'textposition': 'outside',\n",
              "                          'texttemplate': '%{y}<br>%{x:.4s}',\n",
              "                          'type': 'bar',\n",
              "                          'x': array([2.56568919e+08, 2.69637113e+08, 2.72044780e+08, 2.77683210e+08,\n",
              "                                      3.61003266e+08, 4.91310036e+08, 6.73728907e+08, 7.36596755e+08,\n",
              "                                      8.75039160e+08, 1.83100822e+09]),\n",
              "                          'y': array(['Oil palm fruit', 'Sugar beet', 'Vegetables, fresh nes', 'Cassava',\n",
              "                                      'Potatoes', 'Rice, paddy (rice milled equivalent)', 'Wheat',\n",
              "                                      'Rice, paddy', 'Maize', 'Sugar cane'], dtype=object)}],\n",
              "                'layout': {'bargap': 0.15,\n",
              "                           'font': {'size': 14},\n",
              "                           'plot_bgcolor': '#FFFFFF',\n",
              "                           'xaxis': {'range': [0, 1907024730.0], 'showline': True, 'visible': True},\n",
              "                           'yaxis': {'showline': False, 'visible': True}},\n",
              "                'name': '2012'},\n",
              "               {'data': [{'cliponaxis': False,\n",
              "                          'hoverinfo': 'all',\n",
              "                          'hovertemplate': '<extra></extra>',\n",
              "                          'marker': {'color': array(['rgb(99, 208, 163)', 'rgb(69, 227, 216)', 'rgb(247, 183, 217)',\n",
              "                                                     'rgb(234, 127, 19)', 'rgb(255, 148, 50)', 'rgb(88, 192, 172)',\n",
              "                                                     'rgb(135, 126, 225)', 'rgb(41, 160, 91)', 'rgb(49, 41, 74)',\n",
              "                                                     'rgb(106, 205, 53)'], dtype=object)},\n",
              "                          'orientation': 'h',\n",
              "                          'textangle': 0,\n",
              "                          'textposition': 'outside',\n",
              "                          'texttemplate': '%{y}<br>%{x:.4s}',\n",
              "                          'type': 'bar',\n",
              "                          'x': array([2.65060825e+08, 2.77672608e+08, 2.77982471e+08, 2.78454322e+08,\n",
              "                                      3.65087514e+08, 4.95250794e+08, 7.10397103e+08, 7.42504938e+08,\n",
              "                                      1.01620718e+09, 1.90186887e+09]),\n",
              "                          'y': array(['Oil palm fruit', 'Soybeans', 'Vegetables, fresh nes', 'Cassava',\n",
              "                                      'Potatoes', 'Rice, paddy (rice milled equivalent)', 'Wheat',\n",
              "                                      'Rice, paddy', 'Maize', 'Sugar cane'], dtype=object)}],\n",
              "                'layout': {'bargap': 0.15,\n",
              "                           'font': {'size': 14},\n",
              "                           'plot_bgcolor': '#FFFFFF',\n",
              "                           'xaxis': {'range': [0, 1907024730.0], 'showline': True, 'visible': True},\n",
              "                           'yaxis': {'showline': False, 'visible': True}},\n",
              "                'name': '2013'},\n",
              "               {'data': [{'cliponaxis': False,\n",
              "                          'hoverinfo': 'all',\n",
              "                          'hovertemplate': '<extra></extra>',\n",
              "                          'marker': {'color': array(['rgb(247, 183, 217)', 'rgb(99, 208, 163)', 'rgb(234, 127, 19)',\n",
              "                                                     'rgb(69, 227, 216)', 'rgb(255, 148, 50)', 'rgb(88, 192, 172)',\n",
              "                                                     'rgb(135, 126, 225)', 'rgb(41, 160, 91)', 'rgb(49, 41, 74)',\n",
              "                                                     'rgb(106, 205, 53)'], dtype=object)},\n",
              "                          'orientation': 'h',\n",
              "                          'textangle': 0,\n",
              "                          'textposition': 'outside',\n",
              "                          'texttemplate': '%{y}<br>%{x:.4s}',\n",
              "                          'type': 'bar',\n",
              "                          'x': array([2.85693443e+08, 2.85916764e+08, 2.90942989e+08, 3.06348530e+08,\n",
              "                                      3.69966532e+08, 4.95216917e+08, 7.28730126e+08, 7.42454148e+08,\n",
              "                                      1.03922666e+09, 1.88595564e+09]),\n",
              "                          'y': array(['Vegetables, fresh nes', 'Oil palm fruit', 'Cassava', 'Soybeans',\n",
              "                                      'Potatoes', 'Rice, paddy (rice milled equivalent)', 'Wheat',\n",
              "                                      'Rice, paddy', 'Maize', 'Sugar cane'], dtype=object)}],\n",
              "                'layout': {'bargap': 0.15,\n",
              "                           'font': {'size': 14},\n",
              "                           'plot_bgcolor': '#FFFFFF',\n",
              "                           'xaxis': {'range': [0, 1907024730.0], 'showline': True, 'visible': True},\n",
              "                           'yaxis': {'showline': False, 'visible': True}},\n",
              "                'name': '2014'},\n",
              "               {'data': [{'cliponaxis': False,\n",
              "                          'hoverinfo': 'all',\n",
              "                          'hovertemplate': '<extra></extra>',\n",
              "                          'marker': {'color': array(['rgb(247, 183, 217)', 'rgb(234, 127, 19)', 'rgb(99, 208, 163)',\n",
              "                                                     'rgb(69, 227, 216)', 'rgb(255, 148, 50)', 'rgb(88, 192, 172)',\n",
              "                                                     'rgb(135, 126, 225)', 'rgb(41, 160, 91)', 'rgb(49, 41, 74)',\n",
              "                                                     'rgb(106, 205, 53)'], dtype=object)},\n",
              "                          'orientation': 'h',\n",
              "                          'textangle': 0,\n",
              "                          'textposition': 'outside',\n",
              "                          'texttemplate': '%{y}<br>%{x:.4s}',\n",
              "                          'type': 'bar',\n",
              "                          'x': array([2.88931169e+08, 2.93010305e+08, 3.00284643e+08, 3.23306702e+08,\n",
              "                                      3.65748227e+08, 4.97518927e+08, 7.41643258e+08, 7.45905437e+08,\n",
              "                                      1.05212738e+09, 1.87506093e+09]),\n",
              "                          'y': array(['Vegetables, fresh nes', 'Cassava', 'Oil palm fruit', 'Soybeans',\n",
              "                                      'Potatoes', 'Rice, paddy (rice milled equivalent)', 'Wheat',\n",
              "                                      'Rice, paddy', 'Maize', 'Sugar cane'], dtype=object)}],\n",
              "                'layout': {'bargap': 0.15,\n",
              "                           'font': {'size': 14},\n",
              "                           'plot_bgcolor': '#FFFFFF',\n",
              "                           'xaxis': {'range': [0, 1907024730.0], 'showline': True, 'visible': True},\n",
              "                           'yaxis': {'showline': False, 'visible': True}},\n",
              "                'name': '2015'},\n",
              "               {'data': [{'cliponaxis': False,\n",
              "                          'hoverinfo': 'all',\n",
              "                          'hovertemplate': '<extra></extra>',\n",
              "                          'marker': {'color': array(['rgb(92, 171, 115)', 'rgb(234, 127, 19)', 'rgb(247, 183, 217)',\n",
              "                                                     'rgb(69, 227, 216)', 'rgb(255, 148, 50)', 'rgb(88, 192, 172)',\n",
              "                                                     'rgb(135, 126, 225)', 'rgb(41, 160, 91)', 'rgb(49, 41, 74)',\n",
              "                                                     'rgb(106, 205, 53)'], dtype=object)},\n",
              "                          'orientation': 'h',\n",
              "                          'textangle': 0,\n",
              "                          'textposition': 'outside',\n",
              "                          'texttemplate': '%{y}<br>%{x:.4s}',\n",
              "                          'type': 'bar',\n",
              "                          'x': array([2.78702349e+08, 2.88497460e+08, 2.92920885e+08, 3.35613801e+08,\n",
              "                                      3.56952488e+08, 5.01507373e+08, 7.48392150e+08, 7.51885117e+08,\n",
              "                                      1.12699058e+09, 1.87461140e+09]),\n",
              "                          'y': array(['Sugar beet', 'Cassava', 'Vegetables, fresh nes', 'Soybeans',\n",
              "                                      'Potatoes', 'Rice, paddy (rice milled equivalent)', 'Wheat',\n",
              "                                      'Rice, paddy', 'Maize', 'Sugar cane'], dtype=object)}],\n",
              "                'layout': {'bargap': 0.15,\n",
              "                           'font': {'size': 14},\n",
              "                           'plot_bgcolor': '#FFFFFF',\n",
              "                           'xaxis': {'range': [0, 1907024730.0], 'showline': True, 'visible': True},\n",
              "                           'yaxis': {'showline': False, 'visible': True}},\n",
              "                'name': '2016'},\n",
              "               {'data': [{'cliponaxis': False,\n",
              "                          'hoverinfo': 'all',\n",
              "                          'hovertemplate': '<extra></extra>',\n",
              "                          'marker': {'color': array(['rgb(234, 127, 19)', 'rgb(247, 183, 217)', 'rgb(92, 171, 115)',\n",
              "                                                     'rgb(69, 227, 216)', 'rgb(255, 148, 50)', 'rgb(88, 192, 172)',\n",
              "                                                     'rgb(41, 160, 91)', 'rgb(135, 126, 225)', 'rgb(49, 41, 74)',\n",
              "                                                     'rgb(106, 205, 53)'], dtype=object)},\n",
              "                          'orientation': 'h',\n",
              "                          'textangle': 0,\n",
              "                          'textposition': 'outside',\n",
              "                          'texttemplate': '%{y}<br>%{x:.4s}',\n",
              "                          'type': 'bar',\n",
              "                          'x': array([2.79304523e+08, 2.94934038e+08, 3.10374816e+08, 3.53026796e+08,\n",
              "                                      3.73774234e+08, 5.13476024e+08, 7.69829121e+08, 7.73476524e+08,\n",
              "                                      1.16440083e+09, 1.85133372e+09]),\n",
              "                          'y': array(['Cassava', 'Vegetables, fresh nes', 'Sugar beet', 'Soybeans',\n",
              "                                      'Potatoes', 'Rice, paddy (rice milled equivalent)', 'Rice, paddy',\n",
              "                                      'Wheat', 'Maize', 'Sugar cane'], dtype=object)}],\n",
              "                'layout': {'bargap': 0.15,\n",
              "                           'font': {'size': 14},\n",
              "                           'plot_bgcolor': '#FFFFFF',\n",
              "                           'xaxis': {'range': [0, 1907024730.0], 'showline': True, 'visible': True},\n",
              "                           'yaxis': {'showline': False, 'visible': True}},\n",
              "                'name': '2017'},\n",
              "               {'data': [{'cliponaxis': False,\n",
              "                          'hoverinfo': 'all',\n",
              "                          'hovertemplate': '<extra></extra>',\n",
              "                          'marker': {'color': array(['rgb(92, 171, 115)', 'rgb(234, 127, 19)', 'rgb(247, 183, 217)',\n",
              "                                                     'rgb(69, 227, 216)', 'rgb(255, 148, 50)', 'rgb(88, 192, 172)',\n",
              "                                                     'rgb(135, 126, 225)', 'rgb(41, 160, 91)', 'rgb(49, 41, 74)',\n",
              "                                                     'rgb(106, 205, 53)'], dtype=object)},\n",
              "                          'orientation': 'h',\n",
              "                          'textangle': 0,\n",
              "                          'textposition': 'outside',\n",
              "                          'texttemplate': '%{y}<br>%{x:.4s}',\n",
              "                          'type': 'bar',\n",
              "                          'x': array([2.74886306e+08, 2.77808759e+08, 2.97596674e+08, 3.48712311e+08,\n",
              "                                      3.68168914e+08, 5.21594098e+08, 7.34045174e+08, 7.82000147e+08,\n",
              "                                      1.14762194e+09, 1.90702473e+09]),\n",
              "                          'y': array(['Sugar beet', 'Cassava', 'Vegetables, fresh nes', 'Soybeans',\n",
              "                                      'Potatoes', 'Rice, paddy (rice milled equivalent)', 'Wheat',\n",
              "                                      'Rice, paddy', 'Maize', 'Sugar cane'], dtype=object)}],\n",
              "                'layout': {'bargap': 0.15,\n",
              "                           'font': {'size': 14},\n",
              "                           'plot_bgcolor': '#FFFFFF',\n",
              "                           'xaxis': {'range': [0, 1907024730.0], 'showline': True, 'visible': True},\n",
              "                           'yaxis': {'showline': False, 'visible': True}},\n",
              "                'name': '2018'}],\n",
              "    'layout': {'bargap': 0.15,\n",
              "               'font': {'size': 14},\n",
              "               'plot_bgcolor': '#FFFFFF',\n",
              "               'sliders': [{'active': 0,\n",
              "                            'currentvalue': {'font': {'size': 20},\n",
              "                                             'prefix': 'Year: ',\n",
              "                                             'visible': True,\n",
              "                                             'xanchor': 'right'},\n",
              "                            'len': 0.9,\n",
              "                            'pad': {'b': 10, 't': 50},\n",
              "                            'steps': [{'args': [['1961'], {'frame': {'duration':\n",
              "                                                800, 'redraw': False}, 'mode':\n",
              "                                                'immediate', 'transition':\n",
              "                                                {'duration': 800}}],\n",
              "                                       'label': '1961',\n",
              "                                       'method': 'animate'},\n",
              "                                      {'args': [['1962'], {'frame': {'duration':\n",
              "                                                800, 'redraw': False}, 'mode':\n",
              "                                                'immediate', 'transition':\n",
              "                                                {'duration': 800}}],\n",
              "                                       'label': '1962',\n",
              "                                       'method': 'animate'},\n",
              "                                      {'args': [['1963'], {'frame': {'duration':\n",
              "                                                800, 'redraw': False}, 'mode':\n",
              "                                                'immediate', 'transition':\n",
              "                                                {'duration': 800}}],\n",
              "                                       'label': '1963',\n",
              "                                       'method': 'animate'},\n",
              "                                      {'args': [['1964'], {'frame': {'duration':\n",
              "                                                800, 'redraw': False}, 'mode':\n",
              "                                                'immediate', 'transition':\n",
              "                                                {'duration': 800}}],\n",
              "                                       'label': '1964',\n",
              "                                       'method': 'animate'},\n",
              "                                      {'args': [['1965'], {'frame': {'duration':\n",
              "                                                800, 'redraw': False}, 'mode':\n",
              "                                                'immediate', 'transition':\n",
              "                                                {'duration': 800}}],\n",
              "                                       'label': '1965',\n",
              "                                       'method': 'animate'},\n",
              "                                      {'args': [['1966'], {'frame': {'duration':\n",
              "                                                800, 'redraw': False}, 'mode':\n",
              "                                                'immediate', 'transition':\n",
              "                                                {'duration': 800}}],\n",
              "                                       'label': '1966',\n",
              "                                       'method': 'animate'},\n",
              "                                      {'args': [['1967'], {'frame': {'duration':\n",
              "                                                800, 'redraw': False}, 'mode':\n",
              "                                                'immediate', 'transition':\n",
              "                                                {'duration': 800}}],\n",
              "                                       'label': '1967',\n",
              "                                       'method': 'animate'},\n",
              "                                      {'args': [['1968'], {'frame': {'duration':\n",
              "                                                800, 'redraw': False}, 'mode':\n",
              "                                                'immediate', 'transition':\n",
              "                                                {'duration': 800}}],\n",
              "                                       'label': '1968',\n",
              "                                       'method': 'animate'},\n",
              "                                      {'args': [['1969'], {'frame': {'duration':\n",
              "                                                800, 'redraw': False}, 'mode':\n",
              "                                                'immediate', 'transition':\n",
              "                                                {'duration': 800}}],\n",
              "                                       'label': '1969',\n",
              "                                       'method': 'animate'},\n",
              "                                      {'args': [['1970'], {'frame': {'duration':\n",
              "                                                800, 'redraw': False}, 'mode':\n",
              "                                                'immediate', 'transition':\n",
              "                                                {'duration': 800}}],\n",
              "                                       'label': '1970',\n",
              "                                       'method': 'animate'},\n",
              "                                      {'args': [['1971'], {'frame': {'duration':\n",
              "                                                800, 'redraw': False}, 'mode':\n",
              "                                                'immediate', 'transition':\n",
              "                                                {'duration': 800}}],\n",
              "                                       'label': '1971',\n",
              "                                       'method': 'animate'},\n",
              "                                      {'args': [['1972'], {'frame': {'duration':\n",
              "                                                800, 'redraw': False}, 'mode':\n",
              "                                                'immediate', 'transition':\n",
              "                                                {'duration': 800}}],\n",
              "                                       'label': '1972',\n",
              "                                       'method': 'animate'},\n",
              "                                      {'args': [['1973'], {'frame': {'duration':\n",
              "                                                800, 'redraw': False}, 'mode':\n",
              "                                                'immediate', 'transition':\n",
              "                                                {'duration': 800}}],\n",
              "                                       'label': '1973',\n",
              "                                       'method': 'animate'},\n",
              "                                      {'args': [['1974'], {'frame': {'duration':\n",
              "                                                800, 'redraw': False}, 'mode':\n",
              "                                                'immediate', 'transition':\n",
              "                                                {'duration': 800}}],\n",
              "                                       'label': '1974',\n",
              "                                       'method': 'animate'},\n",
              "                                      {'args': [['1975'], {'frame': {'duration':\n",
              "                                                800, 'redraw': False}, 'mode':\n",
              "                                                'immediate', 'transition':\n",
              "                                                {'duration': 800}}],\n",
              "                                       'label': '1975',\n",
              "                                       'method': 'animate'},\n",
              "                                      {'args': [['1976'], {'frame': {'duration':\n",
              "                                                800, 'redraw': False}, 'mode':\n",
              "                                                'immediate', 'transition':\n",
              "                                                {'duration': 800}}],\n",
              "                                       'label': '1976',\n",
              "                                       'method': 'animate'},\n",
              "                                      {'args': [['1977'], {'frame': {'duration':\n",
              "                                                800, 'redraw': False}, 'mode':\n",
              "                                                'immediate', 'transition':\n",
              "                                                {'duration': 800}}],\n",
              "                                       'label': '1977',\n",
              "                                       'method': 'animate'},\n",
              "                                      {'args': [['1978'], {'frame': {'duration':\n",
              "                                                800, 'redraw': False}, 'mode':\n",
              "                                                'immediate', 'transition':\n",
              "                                                {'duration': 800}}],\n",
              "                                       'label': '1978',\n",
              "                                       'method': 'animate'},\n",
              "                                      {'args': [['1979'], {'frame': {'duration':\n",
              "                                                800, 'redraw': False}, 'mode':\n",
              "                                                'immediate', 'transition':\n",
              "                                                {'duration': 800}}],\n",
              "                                       'label': '1979',\n",
              "                                       'method': 'animate'},\n",
              "                                      {'args': [['1980'], {'frame': {'duration':\n",
              "                                                800, 'redraw': False}, 'mode':\n",
              "                                                'immediate', 'transition':\n",
              "                                                {'duration': 800}}],\n",
              "                                       'label': '1980',\n",
              "                                       'method': 'animate'},\n",
              "                                      {'args': [['1981'], {'frame': {'duration':\n",
              "                                                800, 'redraw': False}, 'mode':\n",
              "                                                'immediate', 'transition':\n",
              "                                                {'duration': 800}}],\n",
              "                                       'label': '1981',\n",
              "                                       'method': 'animate'},\n",
              "                                      {'args': [['1982'], {'frame': {'duration':\n",
              "                                                800, 'redraw': False}, 'mode':\n",
              "                                                'immediate', 'transition':\n",
              "                                                {'duration': 800}}],\n",
              "                                       'label': '1982',\n",
              "                                       'method': 'animate'},\n",
              "                                      {'args': [['1983'], {'frame': {'duration':\n",
              "                                                800, 'redraw': False}, 'mode':\n",
              "                                                'immediate', 'transition':\n",
              "                                                {'duration': 800}}],\n",
              "                                       'label': '1983',\n",
              "                                       'method': 'animate'},\n",
              "                                      {'args': [['1984'], {'frame': {'duration':\n",
              "                                                800, 'redraw': False}, 'mode':\n",
              "                                                'immediate', 'transition':\n",
              "                                                {'duration': 800}}],\n",
              "                                       'label': '1984',\n",
              "                                       'method': 'animate'},\n",
              "                                      {'args': [['1985'], {'frame': {'duration':\n",
              "                                                800, 'redraw': False}, 'mode':\n",
              "                                                'immediate', 'transition':\n",
              "                                                {'duration': 800}}],\n",
              "                                       'label': '1985',\n",
              "                                       'method': 'animate'},\n",
              "                                      {'args': [['1986'], {'frame': {'duration':\n",
              "                                                800, 'redraw': False}, 'mode':\n",
              "                                                'immediate', 'transition':\n",
              "                                                {'duration': 800}}],\n",
              "                                       'label': '1986',\n",
              "                                       'method': 'animate'},\n",
              "                                      {'args': [['1987'], {'frame': {'duration':\n",
              "                                                800, 'redraw': False}, 'mode':\n",
              "                                                'immediate', 'transition':\n",
              "                                                {'duration': 800}}],\n",
              "                                       'label': '1987',\n",
              "                                       'method': 'animate'},\n",
              "                                      {'args': [['1988'], {'frame': {'duration':\n",
              "                                                800, 'redraw': False}, 'mode':\n",
              "                                                'immediate', 'transition':\n",
              "                                                {'duration': 800}}],\n",
              "                                       'label': '1988',\n",
              "                                       'method': 'animate'},\n",
              "                                      {'args': [['1989'], {'frame': {'duration':\n",
              "                                                800, 'redraw': False}, 'mode':\n",
              "                                                'immediate', 'transition':\n",
              "                                                {'duration': 800}}],\n",
              "                                       'label': '1989',\n",
              "                                       'method': 'animate'},\n",
              "                                      {'args': [['1990'], {'frame': {'duration':\n",
              "                                                800, 'redraw': False}, 'mode':\n",
              "                                                'immediate', 'transition':\n",
              "                                                {'duration': 800}}],\n",
              "                                       'label': '1990',\n",
              "                                       'method': 'animate'},\n",
              "                                      {'args': [['1991'], {'frame': {'duration':\n",
              "                                                800, 'redraw': False}, 'mode':\n",
              "                                                'immediate', 'transition':\n",
              "                                                {'duration': 800}}],\n",
              "                                       'label': '1991',\n",
              "                                       'method': 'animate'},\n",
              "                                      {'args': [['1992'], {'frame': {'duration':\n",
              "                                                800, 'redraw': False}, 'mode':\n",
              "                                                'immediate', 'transition':\n",
              "                                                {'duration': 800}}],\n",
              "                                       'label': '1992',\n",
              "                                       'method': 'animate'},\n",
              "                                      {'args': [['1993'], {'frame': {'duration':\n",
              "                                                800, 'redraw': False}, 'mode':\n",
              "                                                'immediate', 'transition':\n",
              "                                                {'duration': 800}}],\n",
              "                                       'label': '1993',\n",
              "                                       'method': 'animate'},\n",
              "                                      {'args': [['1994'], {'frame': {'duration':\n",
              "                                                800, 'redraw': False}, 'mode':\n",
              "                                                'immediate', 'transition':\n",
              "                                                {'duration': 800}}],\n",
              "                                       'label': '1994',\n",
              "                                       'method': 'animate'},\n",
              "                                      {'args': [['1995'], {'frame': {'duration':\n",
              "                                                800, 'redraw': False}, 'mode':\n",
              "                                                'immediate', 'transition':\n",
              "                                                {'duration': 800}}],\n",
              "                                       'label': '1995',\n",
              "                                       'method': 'animate'},\n",
              "                                      {'args': [['1996'], {'frame': {'duration':\n",
              "                                                800, 'redraw': False}, 'mode':\n",
              "                                                'immediate', 'transition':\n",
              "                                                {'duration': 800}}],\n",
              "                                       'label': '1996',\n",
              "                                       'method': 'animate'},\n",
              "                                      {'args': [['1997'], {'frame': {'duration':\n",
              "                                                800, 'redraw': False}, 'mode':\n",
              "                                                'immediate', 'transition':\n",
              "                                                {'duration': 800}}],\n",
              "                                       'label': '1997',\n",
              "                                       'method': 'animate'},\n",
              "                                      {'args': [['1998'], {'frame': {'duration':\n",
              "                                                800, 'redraw': False}, 'mode':\n",
              "                                                'immediate', 'transition':\n",
              "                                                {'duration': 800}}],\n",
              "                                       'label': '1998',\n",
              "                                       'method': 'animate'},\n",
              "                                      {'args': [['1999'], {'frame': {'duration':\n",
              "                                                800, 'redraw': False}, 'mode':\n",
              "                                                'immediate', 'transition':\n",
              "                                                {'duration': 800}}],\n",
              "                                       'label': '1999',\n",
              "                                       'method': 'animate'},\n",
              "                                      {'args': [['2000'], {'frame': {'duration':\n",
              "                                                800, 'redraw': False}, 'mode':\n",
              "                                                'immediate', 'transition':\n",
              "                                                {'duration': 800}}],\n",
              "                                       'label': '2000',\n",
              "                                       'method': 'animate'},\n",
              "                                      {'args': [['2001'], {'frame': {'duration':\n",
              "                                                800, 'redraw': False}, 'mode':\n",
              "                                                'immediate', 'transition':\n",
              "                                                {'duration': 800}}],\n",
              "                                       'label': '2001',\n",
              "                                       'method': 'animate'},\n",
              "                                      {'args': [['2002'], {'frame': {'duration':\n",
              "                                                800, 'redraw': False}, 'mode':\n",
              "                                                'immediate', 'transition':\n",
              "                                                {'duration': 800}}],\n",
              "                                       'label': '2002',\n",
              "                                       'method': 'animate'},\n",
              "                                      {'args': [['2003'], {'frame': {'duration':\n",
              "                                                800, 'redraw': False}, 'mode':\n",
              "                                                'immediate', 'transition':\n",
              "                                                {'duration': 800}}],\n",
              "                                       'label': '2003',\n",
              "                                       'method': 'animate'},\n",
              "                                      {'args': [['2004'], {'frame': {'duration':\n",
              "                                                800, 'redraw': False}, 'mode':\n",
              "                                                'immediate', 'transition':\n",
              "                                                {'duration': 800}}],\n",
              "                                       'label': '2004',\n",
              "                                       'method': 'animate'},\n",
              "                                      {'args': [['2005'], {'frame': {'duration':\n",
              "                                                800, 'redraw': False}, 'mode':\n",
              "                                                'immediate', 'transition':\n",
              "                                                {'duration': 800}}],\n",
              "                                       'label': '2005',\n",
              "                                       'method': 'animate'},\n",
              "                                      {'args': [['2006'], {'frame': {'duration':\n",
              "                                                800, 'redraw': False}, 'mode':\n",
              "                                                'immediate', 'transition':\n",
              "                                                {'duration': 800}}],\n",
              "                                       'label': '2006',\n",
              "                                       'method': 'animate'},\n",
              "                                      {'args': [['2007'], {'frame': {'duration':\n",
              "                                                800, 'redraw': False}, 'mode':\n",
              "                                                'immediate', 'transition':\n",
              "                                                {'duration': 800}}],\n",
              "                                       'label': '2007',\n",
              "                                       'method': 'animate'},\n",
              "                                      {'args': [['2008'], {'frame': {'duration':\n",
              "                                                800, 'redraw': False}, 'mode':\n",
              "                                                'immediate', 'transition':\n",
              "                                                {'duration': 800}}],\n",
              "                                       'label': '2008',\n",
              "                                       'method': 'animate'},\n",
              "                                      {'args': [['2009'], {'frame': {'duration':\n",
              "                                                800, 'redraw': False}, 'mode':\n",
              "                                                'immediate', 'transition':\n",
              "                                                {'duration': 800}}],\n",
              "                                       'label': '2009',\n",
              "                                       'method': 'animate'},\n",
              "                                      {'args': [['2010'], {'frame': {'duration':\n",
              "                                                800, 'redraw': False}, 'mode':\n",
              "                                                'immediate', 'transition':\n",
              "                                                {'duration': 800}}],\n",
              "                                       'label': '2010',\n",
              "                                       'method': 'animate'},\n",
              "                                      {'args': [['2011'], {'frame': {'duration':\n",
              "                                                800, 'redraw': False}, 'mode':\n",
              "                                                'immediate', 'transition':\n",
              "                                                {'duration': 800}}],\n",
              "                                       'label': '2011',\n",
              "                                       'method': 'animate'},\n",
              "                                      {'args': [['2012'], {'frame': {'duration':\n",
              "                                                800, 'redraw': False}, 'mode':\n",
              "                                                'immediate', 'transition':\n",
              "                                                {'duration': 800}}],\n",
              "                                       'label': '2012',\n",
              "                                       'method': 'animate'},\n",
              "                                      {'args': [['2013'], {'frame': {'duration':\n",
              "                                                800, 'redraw': False}, 'mode':\n",
              "                                                'immediate', 'transition':\n",
              "                                                {'duration': 800}}],\n",
              "                                       'label': '2013',\n",
              "                                       'method': 'animate'},\n",
              "                                      {'args': [['2014'], {'frame': {'duration':\n",
              "                                                800, 'redraw': False}, 'mode':\n",
              "                                                'immediate', 'transition':\n",
              "                                                {'duration': 800}}],\n",
              "                                       'label': '2014',\n",
              "                                       'method': 'animate'},\n",
              "                                      {'args': [['2015'], {'frame': {'duration':\n",
              "                                                800, 'redraw': False}, 'mode':\n",
              "                                                'immediate', 'transition':\n",
              "                                                {'duration': 800}}],\n",
              "                                       'label': '2015',\n",
              "                                       'method': 'animate'},\n",
              "                                      {'args': [['2016'], {'frame': {'duration':\n",
              "                                                800, 'redraw': False}, 'mode':\n",
              "                                                'immediate', 'transition':\n",
              "                                                {'duration': 800}}],\n",
              "                                       'label': '2016',\n",
              "                                       'method': 'animate'},\n",
              "                                      {'args': [['2017'], {'frame': {'duration':\n",
              "                                                800, 'redraw': False}, 'mode':\n",
              "                                                'immediate', 'transition':\n",
              "                                                {'duration': 800}}],\n",
              "                                       'label': '2017',\n",
              "                                       'method': 'animate'},\n",
              "                                      {'args': [['2018'], {'frame': {'duration':\n",
              "                                                800, 'redraw': False}, 'mode':\n",
              "                                                'immediate', 'transition':\n",
              "                                                {'duration': 800}}],\n",
              "                                       'label': '2018',\n",
              "                                       'method': 'animate'}],\n",
              "                            'transition': {'duration': 300, 'easing': 'cubic-in-out'},\n",
              "                            'x': 0.1,\n",
              "                            'xanchor': 'left',\n",
              "                            'y': 0,\n",
              "                            'yanchor': 'top'}],\n",
              "               'template': '...',\n",
              "               'updatemenus': [{'buttons': [{'args': [None, {'frame': {'duration':\n",
              "                                                      800, 'redraw': False},\n",
              "                                                      'fromcurrent': True,\n",
              "                                                      'transition': {'duration':\n",
              "                                                      800, 'easing': 'quadratic-in-\n",
              "                                                      out'}}],\n",
              "                                             'label': 'Play',\n",
              "                                             'method': 'animate'},\n",
              "                                            {'args': [[None], {'frame':\n",
              "                                                      {'duration': 0, 'redraw':\n",
              "                                                      False}, 'mode': 'immediate',\n",
              "                                                      'transition': {'duration':\n",
              "                                                      0}}],\n",
              "                                             'label': 'Pause',\n",
              "                                             'method': 'animate'}],\n",
              "                                'direction': 'left',\n",
              "                                'pad': {'r': 10, 't': 87},\n",
              "                                'showactive': True,\n",
              "                                'type': 'buttons',\n",
              "                                'x': 0.1,\n",
              "                                'xanchor': 'right',\n",
              "                                'y': 0,\n",
              "                                'yanchor': 'top'}],\n",
              "               'xaxis': {'range': [0, 1907024730.0],\n",
              "                         'showline': True,\n",
              "                         'showticklabels': True,\n",
              "                         'title': {'text': 'Production quantity (tonnes)'},\n",
              "                         'visible': True},\n",
              "               'yaxis': {'showline': False, 'showticklabels': False, 'title': {'text': 'Top 10 crops'}, 'visible': True}}\n",
              "})"
            ]
          },
          "execution_count": 3,
          "metadata": {},
          "output_type": "execute_result"
        }
      ],
      "source": [
        "my_raceplot = barplot(\n",
        "    data, item_column=\"Item\", value_column=\"Value\", time_column=\"Year\"\n",
        ")\n",
        "\n",
        "my_raceplot.plot(\n",
        "    item_label=\"Top 10 crops\",\n",
        "    value_label=\"Production quantity (tonnes)\",\n",
        "    time_label=\"Year: \",  ## overwrites default `Date: `\n",
        "    frame_duration=800,\n",
        ")"
      ]
    },
    {
      "cell_type": "code",
      "execution_count": null,
      "metadata": {
        "id": "KLOqvPvzFYbo"
      },
      "outputs": [],
      "source": []
    }
  ],
  "metadata": {
    "colab": {
      "collapsed_sections": [],
      "provenance": []
    },
    "kernelspec": {
      "display_name": "Python 3.10.6 ('venv': venv)",
      "language": "python",
      "name": "python3"
    },
    "language_info": {
      "codemirror_mode": {
        "name": "ipython",
        "version": 3
      },
      "file_extension": ".py",
      "mimetype": "text/x-python",
      "name": "python",
      "nbconvert_exporter": "python",
      "pygments_lexer": "ipython3",
      "version": "3.10.6"
    },
    "vscode": {
      "interpreter": {
        "hash": "c959d967b5930155e0fdd0bf66c5717e49181f49eac48bcc92dda4c0f9be76a0"
      }
    }
  },
  "nbformat": 4,
  "nbformat_minor": 0
}
